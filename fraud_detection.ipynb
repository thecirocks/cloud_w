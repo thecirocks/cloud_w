{
 "cells": [
  {
   "cell_type": "markdown",
   "metadata": {},
   "source": [
    "__________________________"
   ]
  },
  {
   "cell_type": "markdown",
   "metadata": {},
   "source": [
    "## Notebook for Cloud Walk Risk Analysis Case"
   ]
  },
  {
   "cell_type": "markdown",
   "metadata": {},
   "source": [
    "# Candidate: Fernando Cirone - 27 October 2024\n",
    "#### [LinkInd](https://www.linkedin.com/in/fernandocirone/) | [GitHub](https://github.com/thecirocks) | [Portfolio](https://troopl.com/fernandocirone) | [E-mail](mailto:fernando.cirone@hotmail.com) | [WhatsApp](https://api.whatsapp.com/send?phone=5521984316148) "
   ]
  },
  {
   "cell_type": "markdown",
   "metadata": {},
   "source": [
    "____________________"
   ]
  },
  {
   "cell_type": "markdown",
   "metadata": {
    "vscode": {
     "languageId": "plaintext"
    }
   },
   "source": [
    "## Questions"
   ]
  },
  {
   "cell_type": "markdown",
   "metadata": {},
   "source": [
    "### 1) Analyze the data provided and present your conclusions. What suspicious behaviors did you find? What led you to this conclusion? What actions would you take?"
   ]
  },
  {
   "cell_type": "markdown",
   "metadata": {},
   "source": [
    "#### Answer:\n",
    "Risk factors/suspicious behavior associated with fraudulent transactions (has_cbk = True), according to the analysis of the provided dataset within the given time frame:  <br>\n",
    "\n",
    "Credit Card, Device, and Spent are key factors – in chargeback frauds, fraudsters use cloned credit cards, log in as cloned clients, and spend on higher-value products (the risk vs. reward is not worth committing fraud for low-value items).;\n",
    "\n",
    "\n",
    " - Credit Card: 25% of the fraudulent transactions were made more than once with the same credit card, while this figure is only 6% for non-fraudulent transactions; \n",
    " \n",
    " - Devices: Of the 1.996 devices that made purchases this month, only 196 are associated with fraud. Of these fraudulent devices, 26 account for 50% of all fraud cases. Special attention should be given to devices 563499, 342890, and 101848, which have 19, 15, and 15 fraudulent transactions, respectively, this month;\n",
    "\n",
    " - Spent: Above USD 983, there is a greater than 50% chance that the transaction is fraudulent (Logistic Regression model discovery specifically for this case);\n",
    "\n",
    " - Mix of 1 Unique User in Transactions: 50% of the fraudulent transactions were made 2 times or more by the same user, while in non-fraudulent transactions, this mix is only 7%.;\n",
    "\n",
    " - Vendors: 20 out of the 391 vendors receiving fraudulent transactions account for 52% of all fraud cases. Special attention should be given to vendors 17275, 4705, and 1308, which have 22, 19, and 15 fraudulent transactions this month, respectively; \n",
    "\n",
    " - Transaction Time: While the median \"last time transaction\" for fraudsters' devices was 58 minutes, the median for non-fraudulent transactions was 200 minutes.;\n",
    "\n",
    "\n",
    "#### Actions I would take:\n",
    " - Evaluate the possibility of requiring, without affecting revenue, a two-factor authentication method (One-Time Password, Silent Mobile Verification, Biometry), or implementing double checks in internal procedures for transactions:\n",
    "    - Above USD 983;\n",
    "    - for devices, users and credit card with previus fraud markdown;\n",
    "    - for unique users with > 7 transactions in a month;\n",
    "\n",
    " - Understand, primarily, the situation with the top 20 vendors with frauds to identify why they have so many cases—take a supportive approach to uncover any security gaps. Then, gradually reach out to the other vendors, ensuring a balanced allocation of resources.\n",
    "\n",
    " - Determine whether the fraudulent devices may have used a VPN during the transaction; if not, mark them as suspicious devices and assess the feasibility of blocking future transactions.\n",
    " \n",
    " - Design a fraudster persona to improve the risk team's understanding:\n",
    "    Persona Fraudster, in 1 month: <br>\n",
    "    - USD Spent (median): 999,47; <br>\n",
    "    - Number of Transactions (mode): 1; <br>\n",
    "    - Number of Credit Card (mode): 1; <br>\n",
    "    - Targets the most vulnerable vendor: num 17275; <br>\n",
    "    - Uses the Device: num 563499; <br>\n"
   ]
  },
  {
   "cell_type": "markdown",
   "metadata": {},
   "source": [
    "### 2) In addition to the spreadsheet data, what other data would you consider to find patterns of possible fraudulent behavior?"
   ]
  },
  {
   "cell_type": "markdown",
   "metadata": {},
   "source": [
    "#### Answer, for order of importance:\n",
    "- Geolocation of the transaction - important to understand the purchase pattern. If it was made in a certain location where the user is not usually located, it tends to indicate fraud;\n",
    "\n",
    "- CPF and cellphone number information for validations: KYC Telco information - User_ID versus CPF;\n",
    "\n",
    "- Telco SIM SWAP information - aging of the SIM SWAP event;\n",
    "- VPN/proxy usage: fraudsters usually use this type of connection to hide their information;\n",
    "- If the credit card is virtual or not - virtual cards tend not to be used by fraudsters;\n",
    "- If the device is new/never used - more likely to be used by fraudsters;\n",
    "- Credit score of the buyer: you can rely more on users with a higher credit score;\n",
    "- Aging of the ID: older users are more reliable;\n",
    "- Aging of the credit card: older cards could be more reliable;\n",
    "- Type of product: usually, higher-ticket products tend to have a higher propensity for chargeback fraud (like smartphones) -[source](https://blogbr.clear.sale/chargeback-saiba-o-que-quais-os-riscos-e-como-evit-lo)"
   ]
  },
  {
   "cell_type": "markdown",
   "metadata": {},
   "source": [
    "### 3) Considering your conclusions, what would you further suggest in order to prevent frauds and/or chargebacks?"
   ]
  },
  {
   "cell_type": "markdown",
   "metadata": {},
   "source": [
    "#### Answer, for order of importance:\n",
    "- Implement security measures such as KYC (Know Your Customer) and SIM swap detection to enhance the CloudWalk algorithm, providing more data for better understanding and anticipating fraudsters' behavior;\n",
    "\n",
    "- Keep the algorithm continuously updated to adapt to changes in fraudsters' behavior;\n",
    "- Hire a skilled Data Science and security team to maintain and optimize the algorithm;\n",
    "- Regularly conduct security breach tests to identify and address system vulnerabilities;\n",
    "- Recommend that the seller retains all documentation, including transaction receipts, delivery confirmations, chat records, and any other relevant evidence;\n",
    "- Never underestimate fraudsters; they are constantly evolving;\n",
    "- The Data Science team should adopt a mindset similar to that of fraudsters to anticipate potential tactics;\n",
    "- Stay in contact with other market players, regulators and governament through associations to share best security practices;\n",
    "- Participate in global discussion forums to improve security and reduce risk."
   ]
  },
  {
   "cell_type": "markdown",
   "metadata": {},
   "source": [
    "### 4) Create an anti-fraud solution."
   ]
  },
  {
   "cell_type": "markdown",
   "metadata": {},
   "source": [
    "#### Answer:\n",
    "- Machine Learning model trained, fine-tuned (with feature engineering): Decision Tree XGBoost classifier achieving 0.80 accuracy and a recall of 0.77 for Class 1 (fraudulent transactions - most important metric and the goal of the problem);\n",
    "\n",
    "- Tested: Logistic Regression, Random Forest, and Decision Tree. It was considered whether it was worth advancing with these models, but they either delivered below-par metrics or quickly overfitted;\n",
    "- The model was developed considering the Learning Curve, Confusion Matrix, and Precision-Recall analysis;"
   ]
  },
  {
   "cell_type": "markdown",
   "metadata": {},
   "source": [
    "Some tips: <br>\n",
    "User_id: id of the cardholders; <br>\n",
    "Device_id: device used by the cardholder; <br>\n",
    "Has_cbk: transaction received a fraud chargeback or not. <br>\n",
    "All the transactions occurred in a card not present environment. <br>\n",
    "You can use any programming language that you want."
   ]
  },
  {
   "cell_type": "markdown",
   "metadata": {},
   "source": [
    "_____________________"
   ]
  },
  {
   "cell_type": "markdown",
   "metadata": {},
   "source": [
    "Fernando assumptions: <br>\n",
    "    - Transactions for e-commerce only; <br> \n",
    "    - The fraud chargeback it made by cloned or stoled credit card;"
   ]
  },
  {
   "cell_type": "markdown",
   "metadata": {},
   "source": [
    "## Agenda of this notebook:\n",
    "#### 0 - Import Python; <br>\n",
    "#### 1 - Import csv, Business Discovery and Dataset Analysis; <br>\n",
    "#### 2 - Grouping info to understand behavior; <br>\n",
    "#### 3 - Machine Learning Model Solution <br>"
   ]
  },
  {
   "cell_type": "markdown",
   "metadata": {},
   "source": [
    "# 0. Import Python Libraries"
   ]
  },
  {
   "cell_type": "code",
   "execution_count": 195,
   "metadata": {},
   "outputs": [],
   "source": [
    "import pandas as pd\n",
    "import numpy as np\n",
    "import matplotlib.pyplot as plt\n",
    "import seaborn as sns\n",
    "from sklearn.model_selection import train_test_split\n",
    "from sklearn.linear_model import LogisticRegression\n",
    "from sklearn.metrics import roc_curve, auc, f1_score\n",
    "from sklearn.preprocessing import StandardScaler\n",
    "from sklearn.ensemble import RandomForestClassifier\n",
    "from sklearn.tree import DecisionTreeClassifier\n",
    "from sklearn.model_selection import cross_validate, learning_curve, train_test_split, cross_val_score\n",
    "from xgboost import XGBClassifier\n",
    "from sklearn.model_selection import StratifiedKFold\n",
    "from sklearn.metrics import accuracy_score\n",
    "from sklearn.metrics import confusion_matrix, ConfusionMatrixDisplay\n",
    "from sklearn.metrics import precision_recall_curve, PrecisionRecallDisplay\n",
    "from sklearn.metrics import classification_report"
   ]
  },
  {
   "cell_type": "markdown",
   "metadata": {},
   "source": [
    "# 1. Import csv, Business Discovery and Dataset Analysis <br>\n",
    "Source: https://gist.github.com/cloudwalk-tests/76993838e65d7e0f988f40f1b1909c97#file-transactional-sample-csv"
   ]
  },
  {
   "cell_type": "code",
   "execution_count": 2,
   "metadata": {},
   "outputs": [
    {
     "data": {
      "text/html": [
       "<div>\n",
       "<style scoped>\n",
       "    .dataframe tbody tr th:only-of-type {\n",
       "        vertical-align: middle;\n",
       "    }\n",
       "\n",
       "    .dataframe tbody tr th {\n",
       "        vertical-align: top;\n",
       "    }\n",
       "\n",
       "    .dataframe thead th {\n",
       "        text-align: right;\n",
       "    }\n",
       "</style>\n",
       "<table border=\"1\" class=\"dataframe\">\n",
       "  <thead>\n",
       "    <tr style=\"text-align: right;\">\n",
       "      <th></th>\n",
       "      <th>transaction_id</th>\n",
       "      <th>merchant_id</th>\n",
       "      <th>user_id</th>\n",
       "      <th>card_number</th>\n",
       "      <th>transaction_date</th>\n",
       "      <th>transaction_amount</th>\n",
       "      <th>device_id</th>\n",
       "      <th>has_cbk</th>\n",
       "    </tr>\n",
       "  </thead>\n",
       "  <tbody>\n",
       "    <tr>\n",
       "      <th>0</th>\n",
       "      <td>21320398</td>\n",
       "      <td>29744</td>\n",
       "      <td>97051</td>\n",
       "      <td>434505******9116</td>\n",
       "      <td>2019-12-01T23:16:32.812632</td>\n",
       "      <td>374.56</td>\n",
       "      <td>285475.0</td>\n",
       "      <td>False</td>\n",
       "    </tr>\n",
       "    <tr>\n",
       "      <th>1</th>\n",
       "      <td>21320399</td>\n",
       "      <td>92895</td>\n",
       "      <td>2708</td>\n",
       "      <td>444456******4210</td>\n",
       "      <td>2019-12-01T22:45:37.873639</td>\n",
       "      <td>734.87</td>\n",
       "      <td>497105.0</td>\n",
       "      <td>True</td>\n",
       "    </tr>\n",
       "  </tbody>\n",
       "</table>\n",
       "</div>"
      ],
      "text/plain": [
       "   transaction_id  merchant_id  user_id       card_number  \\\n",
       "0        21320398        29744    97051  434505******9116   \n",
       "1        21320399        92895     2708  444456******4210   \n",
       "\n",
       "             transaction_date  transaction_amount  device_id  has_cbk  \n",
       "0  2019-12-01T23:16:32.812632              374.56   285475.0    False  \n",
       "1  2019-12-01T22:45:37.873639              734.87   497105.0     True  "
      ]
     },
     "execution_count": 2,
     "metadata": {},
     "output_type": "execute_result"
    }
   ],
   "source": [
    "df = pd.read_csv('data/transactional-sample.csv', delimiter=',')\n",
    "df.head(2)"
   ]
  },
  {
   "cell_type": "markdown",
   "metadata": {},
   "source": [
    "### Features Info: <br>\n",
    "    - transaction_id: identification of the transaction;\n",
    "    - merchant_id: identification of the company involved on the sale;\n",
    "    - user_id: identification of the user (cardholder); \n",
    "    - card_number: identification of the card in the transaction; \n",
    "    - transaction_date: data; \n",
    "    - transaction_amount: amount;\n",
    "    - device_id: identification of the device;\n",
    "    - has_cbk: transaction received a fraud chargeback or not."
   ]
  },
  {
   "cell_type": "markdown",
   "metadata": {},
   "source": [
    "Extra: \n",
    "### what is chargeback: <br>\n",
    "Chargebacks are a type of transaction reversal that occurs when a customer disputes a charge with their bank or credit card company. Chargebacks can occur for a variety of reasons, such as fraud, dissatisfaction with a product or service, or errors made by the business. When a chargeback occurs, the customer’s bank or credit card company refunds the disputed amount to the customer and deducts the amount from the business’s account.\n",
    "\n",
    "For businesses, chargebacks can result in financial losses, damage to their reputation, higher fees from payment processors, and even losing the ability to accept credit card payments. To compound these issues, fraudulent actors sometimes use chargebacks as a tool to steal from businesses.\n",
    "\n",
    "### What is FRAUD chargeback: <br>\n",
    "\n",
    "Chargeback fraud occurs when a customer intentionally disputes a charge in order to receive a refund, while keeping the product or service. The customer may claim they did not receive the product, that the product was defective, or that the transaction was unauthorized. There are several types of chargeback fraud, including:\n",
    "\n",
    "\n",
    "Friendly fraud <br>\n",
    "Friendly fraud occurs when a cardholder makes a legitimate purchase but later disputes the charge, claiming they did not authorize it or that the goods or services were not as described. Sometimes this happens when the cardholder forgets that they made the charge, doesn’t recognize it on the billing statement, and assumes it was fraud. In some cases of friendly fraud, the cardholder may even receive the merchandise and then file a chargeback, claiming that they never received it.\n",
    "\n",
    "Return fraud <br>\n",
    "Return fraud happens when an individual returns an item to a retailer, claiming that the product is faulty, defective, or otherwise not satisfactory—despite the fact that the product is in good condition or has been tampered with (or used). This often accompanies a chargeback request, particularly if the retailer’s return policy is unclear.\n",
    "\n",
    "Digital-goods chargebacks <br>\n",
    "Digital-goods fraud occurs when a customer disputes a charge for a digital product, such as a software license or online course, after accessing and using the product. This can be difficult for businesses to prevent, since the customer may have already downloaded the product—but the business cannot know this for certain.\n",
    "\n",
    "Subscription fraud <br>\n",
    "Subscription fraud occurs when a customer disputes a recurring charge for a subscription service, such as a streaming service, after receiving several months of service. The customer may claim they did not authorize the recurring charge or that they canceled the subscription but were still charged.\n",
    "\n",
    "\n",
    "Source: https://stripe.com/br/resources/more/chargeback-fraud-101"
   ]
  },
  {
   "cell_type": "markdown",
   "metadata": {},
   "source": [
    "### A diferença entre chargeback, estorno e reembolso\n",
    "\n",
    "Chargeback (cliente x operador) <br>\n",
    "‍É a contestação de uma transação feita com cartão de crédito solicitado pelo cliente final diretamente ao banco emissor daquele cartão\n",
    "\n",
    "Estorno (cliente x vendedor, feito pelo cliente) <br>\n",
    "‍O estorno é uma solução amigável entre vendedor e comprador. Onde é feita a devolução da quantia investida por: atraso na entrega, cobrança duplicada ou até uma compra feita por engano.\n",
    "\n",
    "Reembolso (cliente x vendedor, feito pelo vendedor)<br>\n",
    "‍O reembolso é bem parecido com o estorno, mas a ação de cancelamento parte do vendedor. Pode ocorrer por exemplo: quando não se tem o produto no estoque e por um erro o anúncio não foi retirado.\n",
    "\n",
    "Source: <br> \n",
    "(1) https://www.infinitepay.io/blog/o-que-e-chargeback-e-como-ele-influencia-no-seu-negocio <br>\n",
    "(2) https://www.infinitepay.io/blog/chargeback-como-reverter-uma-contestacao-de-venda <br>\n",
    "(3) https://blogbr.clear.sale/chargeback-saiba-o-que-quais-os-riscos-e-como-evit-lo"
   ]
  },
  {
   "cell_type": "markdown",
   "metadata": {},
   "source": [
    "Diferença de um Chargeback, reembolso e estorno:\n",
    "\n",
    "O reembolso é uma devolução do dinheiro gasto pelo cliente, efetuado pela própria empresa que realizou a venda, por algum tipo de problema com o produto ou serviço, de maneira totalmente amigável, na maioria das vezes.\n",
    "\n",
    "O estorno, por sua vez, envolve a operadora do cartão, que solicita à loja ou à prestadora do serviço que cancele a transação. Isto é, ocorre quando a própria loja devolve o dinheiro para o consumidor por meio de sua plataforma de processamento de pagamentos, seja por devolução do produto, desistência da compra e outras causas.\n",
    "\n",
    "Enquanto isso, o chargeback acontece quando o cliente, sem entrar em contato com a loja, solicita o cancelamento da transação diretamente na administradora do cartão, que fica responsável por devolver o dinheiro ao consumidor. Nesse caso, o estabelecimento pode demorar meses para saber que isso aconteceu e que ficou com esse prejuízo.\n",
    "\n",
    "Source: https://blogbr.clear.sale/chargeback-saiba-o-que-quais-os-riscos-e-como-evit-lo"
   ]
  },
  {
   "cell_type": "markdown",
   "metadata": {},
   "source": [
    "### Important bussiness conclusion from Discovery Phase: \n",
    "- The most critical factor associated with chargeback fraud is the payment method, specifically credit cards (cloned, phished, or leaked). This factor should be prioritized over other features when analyzing the data, such as user ID, seller ID, etc. \n",
    "- In a typical scenario, the client's credit card information is leaked, allowing the burgler to purchase high-value products. The client, having never made the purchase, then requests a chargeback from the card issuer to get their money back (FRAUD!).\n",
    "\n",
    "Source: <br> \n",
    "(1) https://stripe.com/br/resources/more/chargeback-fraud-101 <br> \n",
    "(2) https://www.lightspeedhq.com/blog/credit-card-chargebacks/ <br>\n",
    "(3) https://blogbr.clear.sale/chargeback-saiba-o-que-quais-os-riscos-e-como-evit-lo"
   ]
  },
  {
   "cell_type": "markdown",
   "metadata": {},
   "source": [
    "### Analysis of dataset"
   ]
  },
  {
   "cell_type": "code",
   "execution_count": 3,
   "metadata": {},
   "outputs": [
    {
     "data": {
      "text/plain": [
       "(3199, 8)"
      ]
     },
     "execution_count": 3,
     "metadata": {},
     "output_type": "execute_result"
    }
   ],
   "source": [
    "df.shape"
   ]
  },
  {
   "cell_type": "code",
   "execution_count": 4,
   "metadata": {},
   "outputs": [
    {
     "name": "stdout",
     "output_type": "stream",
     "text": [
      "<class 'pandas.core.frame.DataFrame'>\n",
      "RangeIndex: 3199 entries, 0 to 3198\n",
      "Data columns (total 8 columns):\n",
      " #   Column              Non-Null Count  Dtype  \n",
      "---  ------              --------------  -----  \n",
      " 0   transaction_id      3199 non-null   int64  \n",
      " 1   merchant_id         3199 non-null   int64  \n",
      " 2   user_id             3199 non-null   int64  \n",
      " 3   card_number         3199 non-null   object \n",
      " 4   transaction_date    3199 non-null   object \n",
      " 5   transaction_amount  3199 non-null   float64\n",
      " 6   device_id           2369 non-null   float64\n",
      " 7   has_cbk             3199 non-null   bool   \n",
      "dtypes: bool(1), float64(2), int64(3), object(2)\n",
      "memory usage: 178.2+ KB\n"
     ]
    }
   ],
   "source": [
    "df.info()"
   ]
  },
  {
   "cell_type": "code",
   "execution_count": 5,
   "metadata": {},
   "outputs": [
    {
     "data": {
      "text/plain": [
       "False    3199\n",
       "Name: count, dtype: int64"
      ]
     },
     "execution_count": 5,
     "metadata": {},
     "output_type": "execute_result"
    }
   ],
   "source": [
    "df.duplicated().value_counts()"
   ]
  },
  {
   "cell_type": "code",
   "execution_count": 6,
   "metadata": {},
   "outputs": [
    {
     "data": {
      "text/html": [
       "<div>\n",
       "<style scoped>\n",
       "    .dataframe tbody tr th:only-of-type {\n",
       "        vertical-align: middle;\n",
       "    }\n",
       "\n",
       "    .dataframe tbody tr th {\n",
       "        vertical-align: top;\n",
       "    }\n",
       "\n",
       "    .dataframe thead th {\n",
       "        text-align: right;\n",
       "    }\n",
       "</style>\n",
       "<table border=\"1\" class=\"dataframe\">\n",
       "  <thead>\n",
       "    <tr style=\"text-align: right;\">\n",
       "      <th></th>\n",
       "      <th>transaction_id</th>\n",
       "      <th>merchant_id</th>\n",
       "      <th>user_id</th>\n",
       "      <th>transaction_amount</th>\n",
       "      <th>device_id</th>\n",
       "    </tr>\n",
       "  </thead>\n",
       "  <tbody>\n",
       "    <tr>\n",
       "      <th>count</th>\n",
       "      <td>3.199000e+03</td>\n",
       "      <td>3199.000000</td>\n",
       "      <td>3199.000000</td>\n",
       "      <td>3199.000000</td>\n",
       "      <td>2369.000000</td>\n",
       "    </tr>\n",
       "    <tr>\n",
       "      <th>mean</th>\n",
       "      <td>2.132200e+07</td>\n",
       "      <td>48771.128790</td>\n",
       "      <td>50891.077212</td>\n",
       "      <td>767.812904</td>\n",
       "      <td>493924.859856</td>\n",
       "    </tr>\n",
       "    <tr>\n",
       "      <th>std</th>\n",
       "      <td>9.236161e+02</td>\n",
       "      <td>29100.360839</td>\n",
       "      <td>29515.282827</td>\n",
       "      <td>889.095904</td>\n",
       "      <td>283785.584545</td>\n",
       "    </tr>\n",
       "    <tr>\n",
       "      <th>min</th>\n",
       "      <td>2.132040e+07</td>\n",
       "      <td>16.000000</td>\n",
       "      <td>6.000000</td>\n",
       "      <td>1.220000</td>\n",
       "      <td>2.000000</td>\n",
       "    </tr>\n",
       "    <tr>\n",
       "      <th>25%</th>\n",
       "      <td>2.132120e+07</td>\n",
       "      <td>23426.000000</td>\n",
       "      <td>24267.500000</td>\n",
       "      <td>205.235000</td>\n",
       "      <td>259344.000000</td>\n",
       "    </tr>\n",
       "    <tr>\n",
       "      <th>50%</th>\n",
       "      <td>2.132200e+07</td>\n",
       "      <td>48752.000000</td>\n",
       "      <td>52307.000000</td>\n",
       "      <td>415.940000</td>\n",
       "      <td>495443.000000</td>\n",
       "    </tr>\n",
       "    <tr>\n",
       "      <th>75%</th>\n",
       "      <td>2.132280e+07</td>\n",
       "      <td>73915.000000</td>\n",
       "      <td>76837.000000</td>\n",
       "      <td>981.680000</td>\n",
       "      <td>733243.000000</td>\n",
       "    </tr>\n",
       "    <tr>\n",
       "      <th>max</th>\n",
       "      <td>2.132360e+07</td>\n",
       "      <td>99799.000000</td>\n",
       "      <td>99974.000000</td>\n",
       "      <td>4097.210000</td>\n",
       "      <td>999843.000000</td>\n",
       "    </tr>\n",
       "  </tbody>\n",
       "</table>\n",
       "</div>"
      ],
      "text/plain": [
       "       transaction_id   merchant_id       user_id  transaction_amount  \\\n",
       "count    3.199000e+03   3199.000000   3199.000000         3199.000000   \n",
       "mean     2.132200e+07  48771.128790  50891.077212          767.812904   \n",
       "std      9.236161e+02  29100.360839  29515.282827          889.095904   \n",
       "min      2.132040e+07     16.000000      6.000000            1.220000   \n",
       "25%      2.132120e+07  23426.000000  24267.500000          205.235000   \n",
       "50%      2.132200e+07  48752.000000  52307.000000          415.940000   \n",
       "75%      2.132280e+07  73915.000000  76837.000000          981.680000   \n",
       "max      2.132360e+07  99799.000000  99974.000000         4097.210000   \n",
       "\n",
       "           device_id  \n",
       "count    2369.000000  \n",
       "mean   493924.859856  \n",
       "std    283785.584545  \n",
       "min         2.000000  \n",
       "25%    259344.000000  \n",
       "50%    495443.000000  \n",
       "75%    733243.000000  \n",
       "max    999843.000000  "
      ]
     },
     "execution_count": 6,
     "metadata": {},
     "output_type": "execute_result"
    }
   ],
   "source": [
    "df.describe()"
   ]
  },
  {
   "cell_type": "code",
   "execution_count": 7,
   "metadata": {},
   "outputs": [
    {
     "data": {
      "text/plain": [
       "transaction_id  merchant_id  user_id  card_number  transaction_date  transaction_amount  device_id  has_cbk\n",
       "False           False        False    False        False             False               False      False      2369\n",
       "                                                                                         True       False       830\n",
       "Name: count, dtype: int64"
      ]
     },
     "execution_count": 7,
     "metadata": {},
     "output_type": "execute_result"
    }
   ],
   "source": [
    "df.isnull().value_counts()"
   ]
  },
  {
   "cell_type": "code",
   "execution_count": 8,
   "metadata": {},
   "outputs": [
    {
     "data": {
      "text/plain": [
       "transaction_id          0\n",
       "merchant_id             0\n",
       "user_id                 0\n",
       "card_number             0\n",
       "transaction_date        0\n",
       "transaction_amount      0\n",
       "device_id             830\n",
       "has_cbk                 0\n",
       "dtype: int64"
      ]
     },
     "execution_count": 8,
     "metadata": {},
     "output_type": "execute_result"
    }
   ],
   "source": [
    "df.isna().sum()"
   ]
  },
  {
   "cell_type": "code",
   "execution_count": 9,
   "metadata": {},
   "outputs": [
    {
     "data": {
      "text/plain": [
       "device_id\n",
       "False    2369\n",
       "True      830\n",
       "Name: count, dtype: int64"
      ]
     },
     "execution_count": 9,
     "metadata": {},
     "output_type": "execute_result"
    }
   ],
   "source": [
    "df[\"device_id\"].isnull().value_counts()"
   ]
  },
  {
   "cell_type": "code",
   "execution_count": 10,
   "metadata": {},
   "outputs": [
    {
     "data": {
      "text/plain": [
       "device_id\n",
       "False    0.740544\n",
       "True     0.259456\n",
       "Name: count, dtype: float64"
      ]
     },
     "execution_count": 10,
     "metadata": {},
     "output_type": "execute_result"
    }
   ],
   "source": [
    "df[\"device_id\"].isnull().value_counts() / df[\"device_id\"].isnull().value_counts().sum()"
   ]
  },
  {
   "cell_type": "markdown",
   "metadata": {},
   "source": [
    "☝️ 26% of device_id feature it is null - better analysis bellow"
   ]
  },
  {
   "cell_type": "code",
   "execution_count": 11,
   "metadata": {},
   "outputs": [],
   "source": [
    "# df[\"device_id\"][df[\"has_cbk\"]==True].isnull().value_counts()"
   ]
  },
  {
   "cell_type": "code",
   "execution_count": 12,
   "metadata": {},
   "outputs": [
    {
     "data": {
      "text/html": [
       "<div>\n",
       "<style scoped>\n",
       "    .dataframe tbody tr th:only-of-type {\n",
       "        vertical-align: middle;\n",
       "    }\n",
       "\n",
       "    .dataframe tbody tr th {\n",
       "        vertical-align: top;\n",
       "    }\n",
       "\n",
       "    .dataframe thead th {\n",
       "        text-align: right;\n",
       "    }\n",
       "</style>\n",
       "<table border=\"1\" class=\"dataframe\">\n",
       "  <thead>\n",
       "    <tr style=\"text-align: right;\">\n",
       "      <th></th>\n",
       "      <th>transaction_id</th>\n",
       "      <th>merchant_id</th>\n",
       "      <th>user_id</th>\n",
       "      <th>card_number</th>\n",
       "      <th>transaction_date</th>\n",
       "      <th>transaction_amount</th>\n",
       "      <th>device_id</th>\n",
       "      <th>has_cbk</th>\n",
       "    </tr>\n",
       "  </thead>\n",
       "  <tbody>\n",
       "    <tr>\n",
       "      <th>0</th>\n",
       "      <td>21320398</td>\n",
       "      <td>29744</td>\n",
       "      <td>97051</td>\n",
       "      <td>434505******9116</td>\n",
       "      <td>2019-12-01T23:16:32.812632</td>\n",
       "      <td>374.56</td>\n",
       "      <td>285475.0</td>\n",
       "      <td>False</td>\n",
       "    </tr>\n",
       "    <tr>\n",
       "      <th>1</th>\n",
       "      <td>21320399</td>\n",
       "      <td>92895</td>\n",
       "      <td>2708</td>\n",
       "      <td>444456******4210</td>\n",
       "      <td>2019-12-01T22:45:37.873639</td>\n",
       "      <td>734.87</td>\n",
       "      <td>497105.0</td>\n",
       "      <td>True</td>\n",
       "    </tr>\n",
       "  </tbody>\n",
       "</table>\n",
       "</div>"
      ],
      "text/plain": [
       "   transaction_id  merchant_id  user_id       card_number  \\\n",
       "0        21320398        29744    97051  434505******9116   \n",
       "1        21320399        92895     2708  444456******4210   \n",
       "\n",
       "             transaction_date  transaction_amount  device_id  has_cbk  \n",
       "0  2019-12-01T23:16:32.812632              374.56   285475.0    False  \n",
       "1  2019-12-01T22:45:37.873639              734.87   497105.0     True  "
      ]
     },
     "execution_count": 12,
     "metadata": {},
     "output_type": "execute_result"
    }
   ],
   "source": [
    "df.head(2)"
   ]
  },
  {
   "cell_type": "markdown",
   "metadata": {},
   "source": [
    "### Understanding the time period"
   ]
  },
  {
   "cell_type": "code",
   "execution_count": 13,
   "metadata": {},
   "outputs": [
    {
     "data": {
      "text/html": [
       "<div>\n",
       "<style scoped>\n",
       "    .dataframe tbody tr th:only-of-type {\n",
       "        vertical-align: middle;\n",
       "    }\n",
       "\n",
       "    .dataframe tbody tr th {\n",
       "        vertical-align: top;\n",
       "    }\n",
       "\n",
       "    .dataframe thead th {\n",
       "        text-align: right;\n",
       "    }\n",
       "</style>\n",
       "<table border=\"1\" class=\"dataframe\">\n",
       "  <thead>\n",
       "    <tr style=\"text-align: right;\">\n",
       "      <th></th>\n",
       "      <th>transaction_date</th>\n",
       "    </tr>\n",
       "  </thead>\n",
       "  <tbody>\n",
       "    <tr>\n",
       "      <th>0</th>\n",
       "      <td>2019-12-01T23:16:32.812632</td>\n",
       "    </tr>\n",
       "    <tr>\n",
       "      <th>1</th>\n",
       "      <td>2019-12-01T22:45:37.873639</td>\n",
       "    </tr>\n",
       "  </tbody>\n",
       "</table>\n",
       "</div>"
      ],
      "text/plain": [
       "             transaction_date\n",
       "0  2019-12-01T23:16:32.812632\n",
       "1  2019-12-01T22:45:37.873639"
      ]
     },
     "execution_count": 13,
     "metadata": {},
     "output_type": "execute_result"
    }
   ],
   "source": [
    "df[[\"transaction_date\"]].head(2)"
   ]
  },
  {
   "cell_type": "code",
   "execution_count": 14,
   "metadata": {},
   "outputs": [
    {
     "data": {
      "text/plain": [
       "dtype('O')"
      ]
     },
     "execution_count": 14,
     "metadata": {},
     "output_type": "execute_result"
    }
   ],
   "source": [
    "df[\"transaction_date\"].dtype"
   ]
  },
  {
   "cell_type": "code",
   "execution_count": 15,
   "metadata": {},
   "outputs": [],
   "source": [
    "df[\"transaction_date\"] = pd.to_datetime(df[\"transaction_date\"])"
   ]
  },
  {
   "cell_type": "code",
   "execution_count": 16,
   "metadata": {},
   "outputs": [
    {
     "data": {
      "text/plain": [
       "dtype('<M8[ns]')"
      ]
     },
     "execution_count": 16,
     "metadata": {},
     "output_type": "execute_result"
    }
   ],
   "source": [
    "df[\"transaction_date\"].dtype"
   ]
  },
  {
   "cell_type": "code",
   "execution_count": 17,
   "metadata": {},
   "outputs": [
    {
     "data": {
      "text/html": [
       "<div>\n",
       "<style scoped>\n",
       "    .dataframe tbody tr th:only-of-type {\n",
       "        vertical-align: middle;\n",
       "    }\n",
       "\n",
       "    .dataframe tbody tr th {\n",
       "        vertical-align: top;\n",
       "    }\n",
       "\n",
       "    .dataframe thead th {\n",
       "        text-align: right;\n",
       "    }\n",
       "</style>\n",
       "<table border=\"1\" class=\"dataframe\">\n",
       "  <thead>\n",
       "    <tr style=\"text-align: right;\">\n",
       "      <th></th>\n",
       "      <th>transaction_date</th>\n",
       "    </tr>\n",
       "  </thead>\n",
       "  <tbody>\n",
       "    <tr>\n",
       "      <th>0</th>\n",
       "      <td>2019-12-01 23:16:32.812632</td>\n",
       "    </tr>\n",
       "    <tr>\n",
       "      <th>1</th>\n",
       "      <td>2019-12-01 22:45:37.873639</td>\n",
       "    </tr>\n",
       "  </tbody>\n",
       "</table>\n",
       "</div>"
      ],
      "text/plain": [
       "            transaction_date\n",
       "0 2019-12-01 23:16:32.812632\n",
       "1 2019-12-01 22:45:37.873639"
      ]
     },
     "execution_count": 17,
     "metadata": {},
     "output_type": "execute_result"
    }
   ],
   "source": [
    "df[[\"transaction_date\"]].head(2)"
   ]
  },
  {
   "cell_type": "code",
   "execution_count": 18,
   "metadata": {},
   "outputs": [
    {
     "data": {
      "text/plain": [
       "Timestamp('2019-11-01 01:27:15.811098')"
      ]
     },
     "execution_count": 18,
     "metadata": {},
     "output_type": "execute_result"
    }
   ],
   "source": [
    "df[\"transaction_date\"].min()"
   ]
  },
  {
   "cell_type": "code",
   "execution_count": 19,
   "metadata": {},
   "outputs": [
    {
     "data": {
      "text/plain": [
       "Timestamp('2019-12-01 23:16:32.812632')"
      ]
     },
     "execution_count": 19,
     "metadata": {},
     "output_type": "execute_result"
    }
   ],
   "source": [
    "df[\"transaction_date\"].max()"
   ]
  },
  {
   "cell_type": "markdown",
   "metadata": {},
   "source": [
    "### The transactions were made in 30 days !"
   ]
  },
  {
   "cell_type": "markdown",
   "metadata": {},
   "source": [
    "### Analyzing fraudulent transactions"
   ]
  },
  {
   "cell_type": "code",
   "execution_count": 20,
   "metadata": {},
   "outputs": [
    {
     "name": "stdout",
     "output_type": "stream",
     "text": [
      "There are 3199 transactions\n",
      "There are 391 fraudulent transactions, corresponding to 12.22 percent\n",
      "There are 2808 non-fraudulent transactions, corresponding to 87.78 percent\n"
     ]
    }
   ],
   "source": [
    "unique_fraud_transactions = df[df[\"has_cbk\"] == True][\"transaction_id\"].nunique()\n",
    "unique_non_fraud_transactions = df[df[\"has_cbk\"] == False][\"transaction_id\"].nunique()\n",
    "transaction = df[\"transaction_id\"].nunique()\n",
    "\n",
    "print(f'There are {transaction} transactions')\n",
    "print(f'There are {unique_fraud_transactions} fraudulent transactions, corresponding to {unique_fraud_transactions/transaction*100:.2f} percent')\n",
    "print(f'There are {unique_non_fraud_transactions} non-fraudulent transactions, corresponding to {unique_non_fraud_transactions/transaction*100:.2f} percent')"
   ]
  },
  {
   "cell_type": "markdown",
   "metadata": {},
   "source": [
    "### Overall numbers <br>\n",
    "Interval of time ? 30 days; <br>\n",
    "How many Unique Transactions ? 3199; <br>\n",
    "How many Unique Users Id? 2704; <br>\n",
    "How many Unique Devices ? 1996; <br>\n",
    "How many Unique Merchants ? 1756 <br>\n",
    "How many Unique Credict Cards ? 2925 <br>\n",
    "Min Transaction Ammount ? 1.22 <br>\n",
    "Max transaction Ammount ? 4097.21 <br>\n",
    "Mean transaction Ammount ? 767.81 <br>\n",
    "Median transaction Ammount ? 415.94 <br>\n",
    "Std transaction Ammount ? 889.10 <br>"
   ]
  },
  {
   "cell_type": "code",
   "execution_count": 21,
   "metadata": {},
   "outputs": [],
   "source": [
    "#Transforming to datetime because it was in other format\n",
    "df[\"transaction_date\"] = pd.to_datetime(df[\"transaction_date\"])"
   ]
  },
  {
   "cell_type": "code",
   "execution_count": 22,
   "metadata": {},
   "outputs": [
    {
     "name": "stdout",
     "output_type": "stream",
     "text": [
      "Unique transaction_id: 3199\n",
      "Unique user_id: 2704\n",
      "Unique device_id: 1996\n",
      "Unique merchant_id: 1756\n",
      "Unique card_number: 2925\n",
      "Time interval: 30 days 21:49:17.001534\n",
      "Min spent: 1.22\n",
      "Max spent: 4097.21\n",
      "Mean: 767.81\n",
      "Median: 415.94\n",
      "Std: 889.10\n"
     ]
    }
   ],
   "source": [
    "transaction = df[\"transaction_id\"].nunique()\n",
    "user = df[\"user_id\"].nunique()\n",
    "device = df[\"device_id\"].nunique()\n",
    "vendor = df[\"merchant_id\"].nunique()\n",
    "card = df[\"card_number\"].nunique()\n",
    "time = df[\"transaction_date\"].max() - df[\"transaction_date\"].min()\n",
    "min = df[\"transaction_amount\"].min()\n",
    "max = df[\"transaction_amount\"].max()\n",
    "mean = df[\"transaction_amount\"].mean()\n",
    "median = df[\"transaction_amount\"].median()\n",
    "std = df[\"transaction_amount\"].std()\n",
    "\n",
    "print(f'Unique transaction_id: {transaction}')\n",
    "print(f'Unique user_id: {user}')\n",
    "print(f'Unique device_id: {device}')\n",
    "print(f'Unique merchant_id: {vendor}')\n",
    "print(f'Unique card_number: {card}')\n",
    "print(f'Time interval: {time}')\n",
    "print(f'Min spent: {min}')\n",
    "print(f'Max spent: {max}')\n",
    "print(f'Mean: {mean:.2f}')\n",
    "print(f'Median: {median:.2f}')\n",
    "print(f'Std: {std:.2f}')"
   ]
  },
  {
   "cell_type": "code",
   "execution_count": 23,
   "metadata": {},
   "outputs": [
    {
     "name": "stdout",
     "output_type": "stream",
     "text": [
      "card_per_user: 1.0817307692307692\n",
      "device_per_user: 0.7381656804733728\n",
      "user_per_transaction: 1.1830621301775148\n"
     ]
    }
   ],
   "source": [
    "card_per_user = card / user\n",
    "device_per_user =   device / user\n",
    "transaction_per_user = transaction / user\n",
    "\n",
    "print(f'card_per_user: {card_per_user}')\n",
    "print(f'device_per_user: {device_per_user}')\n",
    "print(f'user_per_transaction: {transaction_per_user}')"
   ]
  },
  {
   "cell_type": "markdown",
   "metadata": {},
   "source": [
    "### Analysis and Logistic Regression to Understand Probas of Fraudulent Payment Behavior."
   ]
  },
  {
   "cell_type": "code",
   "execution_count": 24,
   "metadata": {},
   "outputs": [
    {
     "name": "stdout",
     "output_type": "stream",
     "text": [
      "Median Fraud: 999.47\n",
      "Median_nofraud: 360.315\n"
     ]
    }
   ],
   "source": [
    "all_spent = df[\"transaction_amount\"]\n",
    "fraud_spent = df[\"transaction_amount\"][df[\"has_cbk\"] == True]\n",
    "nofraud_spent = df[\"transaction_amount\"][df[\"has_cbk\"] == False]\n",
    "\n",
    "median_fraud = fraud_spent.median()\n",
    "median_nofraud = nofraud_spent.median()\n",
    "\n",
    "print(f'Median Fraud: {median_fraud}')\n",
    "print(f'Median_nofraud: {median_nofraud}')"
   ]
  },
  {
   "cell_type": "code",
   "execution_count": 25,
   "metadata": {},
   "outputs": [
    {
     "data": {
      "image/png": "[encoded data removed]",
      "text/plain": [
       "<Figure size 1800x600 with 3 Axes>"
      ]
     },
     "metadata": {},
     "output_type": "display_data"
    }
   ],
   "source": [
    "# Criar a figura com três subplots lado a lado\n",
    "fig, axes = plt.subplots(1, 3, figsize=(18, 6), sharex=True)\n",
    "\n",
    "# Plotagem para todas as transações\n",
    "sns.boxplot(x=all_spent, ax=axes[0])\n",
    "axes[0].axvline(x=median, color='red', linestyle='dashed', linewidth=2)\n",
    "axes[0].text(median, -0.40, f'Median: {median:.2f}', color='red', ha='center', va='bottom')\n",
    "axes[0].set_title(\"All transaction spent\")\n",
    "\n",
    "# Plotagem para transações fraudulentas\n",
    "sns.boxplot(x=fraud_spent, ax=axes[1])\n",
    "axes[1].axvline(x=median_fraud, color='red', linestyle='dashed', linewidth=2)\n",
    "axes[1].text(median_fraud, -0.40, f'Median: {median_fraud:.2f}', color='red', ha='center', va='bottom')\n",
    "axes[1].set_title(\"Fraudulent transactions Spent\")\n",
    "\n",
    "# Plotagem para transações não fraudulentas\n",
    "sns.boxplot(x=nofraud_spent, ax=axes[2])\n",
    "axes[2].axvline(x=median_nofraud, color='red', linestyle='dashed', linewidth=2)\n",
    "axes[2].text(median_nofraud, -0.40, f'Median: {median_nofraud:.2f}', color='red', ha='center', va='bottom')\n",
    "axes[2].set_title(\"Non-Fraudulent transactions spent\")\n",
    "\n",
    "# Ajustar layout para não sobrepor os elementos\n",
    "plt.tight_layout()\n",
    "plt.show()"
   ]
  },
  {
   "cell_type": "code",
   "execution_count": 26,
   "metadata": {},
   "outputs": [
    {
     "data": {
      "text/plain": [
       "np.float64(2140.68)"
      ]
     },
     "execution_count": 26,
     "metadata": {},
     "output_type": "execute_result"
    }
   ],
   "source": [
    "fraud_spent.quantile(0.75)"
   ]
  },
  {
   "cell_type": "code",
   "execution_count": 27,
   "metadata": {},
   "outputs": [
    {
     "name": "stdout",
     "output_type": "stream",
     "text": [
      "191.285\n",
      "812.5775\n"
     ]
    }
   ],
   "source": [
    "#non fraud Quartile spent analysis\n",
    "q1 = nofraud_spent.quantile(0.25)\n",
    "q3 = nofraud_spent.quantile(0.75)\n",
    "print(q1)\n",
    "print(q3)"
   ]
  },
  {
   "cell_type": "code",
   "execution_count": 28,
   "metadata": {},
   "outputs": [
    {
     "name": "stdout",
     "output_type": "stream",
     "text": [
      "The upper limit of the fourth quartile for Non-Fraud spent is: 1744.5162500000001\n"
     ]
    }
   ],
   "source": [
    "iqr = q3 - q1\n",
    "\n",
    "upper_limit = q3 + 1.5 * iqr\n",
    "\n",
    "print(f\"The upper limit of the fourth quartile for Non-Fraud spent is: {upper_limit}\")"
   ]
  },
  {
   "cell_type": "markdown",
   "metadata": {},
   "source": [
    " ☝️ Fraudulent transactions tend to be with higher ticket: median of 1.000 rather than non fraudulent: 360.\n",
    "While the 4o Quartile limit distribuition of Non Fraudulent it is "
   ]
  },
  {
   "cell_type": "markdown",
   "metadata": {},
   "source": [
    "Important: <br>\n",
    "    - 0 for NON Fraud <br>\n",
    "    - 1 for Fraud <br>"
   ]
  },
  {
   "cell_type": "code",
   "execution_count": 29,
   "metadata": {},
   "outputs": [
    {
     "data": {
      "text/plain": [
       "array([0, 1])"
      ]
     },
     "execution_count": 29,
     "metadata": {},
     "output_type": "execute_result"
    }
   ],
   "source": [
    "df[\"has_cbk\"] = df[\"has_cbk\"].apply(lambda x: 1 if x == True else 0)\n",
    "df[\"has_cbk\"].unique()"
   ]
  },
  {
   "cell_type": "code",
   "execution_count": 30,
   "metadata": {},
   "outputs": [],
   "source": [
    "X = df[\"transaction_amount\"].values.reshape(-1, 1) #ajustar o shape pois DF estava em espaço >2Bi\n",
    "y = df[\"has_cbk\"]\n",
    "\n",
    "X_train, X_test, y_train, y_test = train_test_split(X, y, test_size=0.2, random_state=42)"
   ]
  },
  {
   "cell_type": "code",
   "execution_count": 31,
   "metadata": {},
   "outputs": [
    {
     "name": "stdout",
     "output_type": "stream",
     "text": [
      "0.17142857142857143\n"
     ]
    }
   ],
   "source": [
    "# model1 = LogisticRegression() #Unbalanced dataset ~12% fraudulent transactions\n",
    "# model1.fit(X_train, y_train)\n",
    "# y_pred = model1.predict(X_test)\n",
    "# f1_1 = f1_score(y_test, y_pred)\n",
    "# print(f1_1)"
   ]
  },
  {
   "cell_type": "code",
   "execution_count": 32,
   "metadata": {},
   "outputs": [
    {
     "name": "stdout",
     "output_type": "stream",
     "text": [
      "0.367816091954023\n"
     ]
    }
   ],
   "source": [
    "model2 = LogisticRegression(class_weight='balanced') #Unbalanced dataset ~12% fraudulent transactions\n",
    "model2.fit(X_train, y_train)\n",
    "y_pred = model2.predict(X_test)\n",
    "f1_2 = f1_score(y_test, y_pred)\n",
    "print(f1_2)"
   ]
  },
  {
   "cell_type": "markdown",
   "metadata": {},
   "source": [
    "#### ☝️ Observation: Model with balanced dataset performed better than without balancing"
   ]
  },
  {
   "cell_type": "code",
   "execution_count": 33,
   "metadata": {},
   "outputs": [
    {
     "name": "stdout",
     "output_type": "stream",
     "text": [
      "[[0.47927225 0.52072775]\n",
      " [0.13471534 0.86528466]\n",
      " [0.52667163 0.47332837]\n",
      " ...\n",
      " [0.68894483 0.31105517]\n",
      " [0.53366257 0.46633743]\n",
      " [0.58973234 0.41026766]]\n"
     ]
    }
   ],
   "source": [
    "proba = model2.predict_proba(X_test)\n",
    "print(proba)"
   ]
  },
  {
   "cell_type": "code",
   "execution_count": 34,
   "metadata": {},
   "outputs": [
    {
     "data": {
      "text/plain": [
       "array([0.52072775, 0.86528466, 0.47332837, 0.31102539, 0.35923129,\n",
       "       0.35662234, 0.34240315, 0.70514913, 0.50771112, 0.37782225,\n",
       "       0.34925356, 0.39683824, 0.34500633, 0.65959885, 0.41711074,\n",
       "       0.35320176, 0.51855503, 0.65426453, 0.57898626, 0.57833863,\n",
       "       0.68047317, 0.3530244 , 0.68560448, 0.8935037 , 0.40489792,\n",
       "       0.34994302, 0.3278146 , 0.3390654 , 0.74891649, 0.3737043 ,\n",
       "       0.60747197, 0.37028657, 0.36453281, 0.39766213, 0.32138925,\n",
       "       0.35298894, 0.76672563, 0.33411781, 0.36301197, 0.45076236,\n",
       "       0.48689379, 0.35346507, 0.88692512, 0.5013592 , 0.43831118,\n",
       "       0.40529579, 0.88719369, 0.3469704 , 0.35853174, 0.63178338,\n",
       "       0.38722912, 0.36663123, 0.34160308, 0.34717414, 0.52038302,\n",
       "       0.47116103, 0.63977555, 0.85612054, 0.84586806, 0.39193265,\n",
       "       0.58161182, 0.57087108, 0.42795285, 0.61890111, 0.34517442,\n",
       "       0.34589895, 0.38497998, 0.74395722, 0.35516473, 0.4296444 ,\n",
       "       0.4414143 , 0.41575615, 0.3704257 , 0.33268465, 0.40185896,\n",
       "       0.49904622, 0.35106311, 0.30945133, 0.80377089, 0.36868336,\n",
       "       0.60803699, 0.33886396, 0.42461277, 0.3145795 , 0.60639567,\n",
       "       0.3589529 , 0.44361606, 0.43793494, 0.35084342, 0.51348071,\n",
       "       0.31102889, 0.47514205, 0.36855782, 0.38841472, 0.42638891,\n",
       "       0.5041257 , 0.30961378, 0.39882753, 0.38601968, 0.89262874,\n",
       "       0.86526275, 0.43715049, 0.3234265 , 0.4609027 , 0.50592768,\n",
       "       0.54477292, 0.55577346, 0.44285164, 0.33187226, 0.42269298,\n",
       "       0.31808809, 0.36958553, 0.85062417, 0.34218051, 0.78154089,\n",
       "       0.4159269 , 0.35974882, 0.92198057, 0.3761944 , 0.48449492,\n",
       "       0.32313148, 0.35162377, 0.45212046, 0.38379249, 0.36446465,\n",
       "       0.34560498, 0.34003132, 0.34833092, 0.31100963, 0.32348016,\n",
       "       0.35823105, 0.40722387, 0.35708754, 0.37499066, 0.35221094,\n",
       "       0.31101313, 0.35597939, 0.3760448 , 0.36987883, 0.41782031,\n",
       "       0.83902044, 0.50597467, 0.34649277, 0.36330306, 0.8315161 ,\n",
       "       0.57301011, 0.36787144, 0.51764901, 0.31957733, 0.55114587,\n",
       "       0.74346962, 0.32436257, 0.36131466, 0.34251174, 0.35399196,\n",
       "       0.32167987, 0.37055723, 0.35130148, 0.34504881, 0.44187181,\n",
       "       0.34272159, 0.62708428, 0.77957819, 0.31016786, 0.31802427,\n",
       "       0.59583134, 0.4241915 , 0.41345312, 0.53885241, 0.39396804,\n",
       "       0.45674648, 0.54723245, 0.37553484, 0.36437947, 0.46580862,\n",
       "       0.42811893, 0.36615689, 0.92304155, 0.91785088, 0.35620989,\n",
       "       0.57481686, 0.49685791, 0.35713445, 0.32680506, 0.38186915,\n",
       "       0.58069269, 0.6494086 , 0.57612072, 0.37930083, 0.32063392,\n",
       "       0.49723386, 0.4610875 , 0.52883778, 0.39595238, 0.43108302,\n",
       "       0.42953625, 0.40095364, 0.35477922, 0.64571906, 0.33691297,\n",
       "       0.35579953, 0.79264518, 0.75743808, 0.44251086, 0.50591746,\n",
       "       0.35007318, 0.31135475, 0.38652926, 0.42513203, 0.32165134,\n",
       "       0.38513094, 0.37885067, 0.32663786, 0.35996157, 0.35083598,\n",
       "       0.37641307, 0.32628382, 0.4380818 , 0.37735549, 0.34707967,\n",
       "       0.31275665, 0.39443842, 0.44804433, 0.35779899, 0.34385661,\n",
       "       0.60407384, 0.31100613, 0.36308001, 0.71067353, 0.55403339,\n",
       "       0.3163356 , 0.34686856, 0.37810087, 0.48587087, 0.88147394,\n",
       "       0.7791622 , 0.36782583, 0.3266109 , 0.3782085 , 0.3576206 ,\n",
       "       0.53320777, 0.54292987, 0.415379  , 0.4166498 , 0.37565368,\n",
       "       0.34099857, 0.45596176, 0.81569229, 0.61888376, 0.36171083,\n",
       "       0.39693411, 0.31406338, 0.37180101, 0.38778974, 0.42701272,\n",
       "       0.35825359, 0.32347479, 0.36733184, 0.54905839, 0.77406642,\n",
       "       0.44781594, 0.36129769, 0.44189801, 0.32089391, 0.34435835,\n",
       "       0.34340681, 0.31996489, 0.31284625, 0.38903036, 0.34790248,\n",
       "       0.37455593, 0.32227046, 0.63512712, 0.62936159, 0.36881463,\n",
       "       0.31629141, 0.43208151, 0.41992916, 0.49177291, 0.40858985,\n",
       "       0.42981866, 0.3145654 , 0.35922941, 0.34019641, 0.35759995,\n",
       "       0.92588072, 0.72581952, 0.69813272, 0.38819924, 0.32080486,\n",
       "       0.51675511, 0.311141  , 0.32349983, 0.30997727, 0.41095204,\n",
       "       0.92723274, 0.78812537, 0.41308252, 0.51542224, 0.70342994,\n",
       "       0.35170203, 0.34965675, 0.37703293, 0.33298592, 0.37668553,\n",
       "       0.91013286, 0.33924859, 0.33364701, 0.35839078, 0.36169196,\n",
       "       0.32447542, 0.33718143, 0.32690936, 0.81171411, 0.32101503,\n",
       "       0.92507522, 0.34886729, 0.49601204, 0.50624025, 0.32165491,\n",
       "       0.33498573, 0.42621301, 0.32550457, 0.34299965, 0.62463269,\n",
       "       0.34115102, 0.48978344, 0.39191317, 0.3110937 , 0.44466933,\n",
       "       0.31891657, 0.31104816, 0.36898208, 0.40310512, 0.41601029,\n",
       "       0.30980598, 0.31641515, 0.32919742, 0.92421074, 0.34611718,\n",
       "       0.33948863, 0.70223673, 0.9182254 , 0.30958408, 0.35324284,\n",
       "       0.56003095, 0.33231097, 0.70042032, 0.31499554, 0.32666303,\n",
       "       0.33935119, 0.34730937, 0.59306891, 0.32226867, 0.41226439,\n",
       "       0.32615987, 0.36637885, 0.66713826, 0.3950965 , 0.76600857,\n",
       "       0.35036146, 0.32263473, 0.38030579, 0.51883457, 0.47359324,\n",
       "       0.49215286, 0.34082411, 0.3533082 , 0.48947708, 0.32615448,\n",
       "       0.51033382, 0.46070775, 0.35628487, 0.31538012, 0.45757401,\n",
       "       0.73415574, 0.58048571, 0.42378031, 0.92376587, 0.40111659,\n",
       "       0.34358559, 0.53506051, 0.30969764, 0.4978407 , 0.36580794,\n",
       "       0.57999402, 0.32338537, 0.37708092, 0.34487891, 0.35576581,\n",
       "       0.5378957 , 0.31614297, 0.45126827, 0.78323576, 0.41554176,\n",
       "       0.6241765 , 0.32431779, 0.42937004, 0.42834706, 0.65419058,\n",
       "       0.37560192, 0.48717557, 0.45489959, 0.32158001, 0.80908826,\n",
       "       0.31376414, 0.43145989, 0.31108494, 0.92208985, 0.34754471,\n",
       "       0.57219403, 0.35681176, 0.50805431, 0.33924859, 0.36714571,\n",
       "       0.92561217, 0.33973059, 0.31639217, 0.48185188, 0.33757974,\n",
       "       0.34839586, 0.38701388, 0.3430807 , 0.66928549, 0.33951062,\n",
       "       0.68881418, 0.44403166, 0.45218727, 0.53966874, 0.35814649,\n",
       "       0.42061617, 0.61510983, 0.34664084, 0.33799292, 0.39629648,\n",
       "       0.50131016, 0.84295928, 0.52793146, 0.31102889, 0.81212598,\n",
       "       0.38033083, 0.35681552, 0.63791625, 0.31973908, 0.31638509,\n",
       "       0.34573993, 0.51498334, 0.35428359, 0.40424427, 0.31098861,\n",
       "       0.3448309 , 0.4082423 , 0.44556764, 0.36119962, 0.37213514,\n",
       "       0.31675997, 0.42209875, 0.31813773, 0.45435245, 0.58960857,\n",
       "       0.44014913, 0.44010683, 0.3677156 , 0.35861069, 0.31509784,\n",
       "       0.84511534, 0.74274567, 0.32522649, 0.36461044, 0.46313529,\n",
       "       0.42613306, 0.51124878, 0.71756941, 0.53963017, 0.92105135,\n",
       "       0.35242355, 0.72731821, 0.3884885 , 0.33622496, 0.48900122,\n",
       "       0.41656637, 0.8278132 , 0.4033903 , 0.3863781 , 0.34382157,\n",
       "       0.37053245, 0.34600066, 0.36420155, 0.71232604, 0.7397516 ,\n",
       "       0.36743821, 0.61128317, 0.57360192, 0.36872141, 0.31751221,\n",
       "       0.34763182, 0.91322629, 0.3839336 , 0.39867077, 0.31023956,\n",
       "       0.62400777, 0.39744877, 0.403408  , 0.42355081, 0.39726479,\n",
       "       0.3101731 , 0.44781392, 0.61285313, 0.49457575, 0.55271636,\n",
       "       0.45967634, 0.51621219, 0.68273466, 0.34939474, 0.32674752,\n",
       "       0.35685491, 0.62191914, 0.31847469, 0.37096528, 0.33791977,\n",
       "       0.39149642, 0.52977446, 0.64318339, 0.33688011, 0.41775272,\n",
       "       0.70035686, 0.3466501 , 0.38109969, 0.31107093, 0.34515965,\n",
       "       0.31723598, 0.31046872, 0.39472348, 0.36092057, 0.40030992,\n",
       "       0.35999735, 0.57459113, 0.4271387 , 0.39682455, 0.40439977,\n",
       "       0.34127595, 0.31282693, 0.41404984, 0.51454034, 0.3530188 ,\n",
       "       0.92273968, 0.81307437, 0.4124466 , 0.7098982 , 0.37212368,\n",
       "       0.32345512, 0.31813419, 0.34537581, 0.77511956, 0.77797015,\n",
       "       0.33446703, 0.41791177, 0.42390605, 0.42789883, 0.92576678,\n",
       "       0.34698337, 0.40242882, 0.32240257, 0.58589546, 0.32345512,\n",
       "       0.36409936, 0.31082927, 0.46442596, 0.33978742, 0.40312872,\n",
       "       0.54549845, 0.32165312, 0.36314049, 0.3704867 , 0.36392339,\n",
       "       0.616504  , 0.76088694, 0.53170416, 0.32355349, 0.74235506,\n",
       "       0.35007504, 0.37726332, 0.34046247, 0.44368465, 0.39115769,\n",
       "       0.40533913, 0.6994161 , 0.43465647, 0.8403473 , 0.31454249,\n",
       "       0.36866244, 0.72048538, 0.3542088 , 0.44491154, 0.35718887,\n",
       "       0.34438788, 0.31723244, 0.48857235, 0.32696331, 0.72096739,\n",
       "       0.32708023, 0.44427985, 0.42937004, 0.46666288, 0.38652926,\n",
       "       0.35995027, 0.40669326, 0.50176989, 0.31244755, 0.34923498,\n",
       "       0.65362088, 0.41825576, 0.65345432, 0.35799245, 0.3936188 ,\n",
       "       0.50162686, 0.52042586, 0.32074787, 0.43867541, 0.34483274,\n",
       "       0.47315722, 0.34531114, 0.34956011, 0.34969206, 0.52921655,\n",
       "       0.35496447, 0.42985471, 0.36423561, 0.4071055 , 0.31488798,\n",
       "       0.46321658, 0.77658638, 0.43151403, 0.3815991 , 0.32343544,\n",
       "       0.34190829, 0.48702447, 0.31105517, 0.46633743, 0.41026766])"
      ]
     },
     "execution_count": 34,
     "metadata": {},
     "output_type": "execute_result"
    }
   ],
   "source": [
    "proba_fraud = proba[:,1]\n",
    "proba_fraud"
   ]
  },
  {
   "cell_type": "code",
   "execution_count": 35,
   "metadata": {},
   "outputs": [
    {
     "name": "stdout",
     "output_type": "stream",
     "text": [
      "[-0.80374815]\n",
      "[[0.00081731]]\n"
     ]
    }
   ],
   "source": [
    "intercept = model2.intercept_\n",
    "coef = model2.coef_\n",
    "print(intercept)\n",
    "print(coef)"
   ]
  },
  {
   "cell_type": "code",
   "execution_count": 36,
   "metadata": {},
   "outputs": [
    {
     "name": "stdout",
     "output_type": "stream",
     "text": [
      "983.4079247213097\n"
     ]
    }
   ],
   "source": [
    "limit_50 = intercept / coef\n",
    "limit_50 = limit_50 *-1\n",
    "limit_50 = limit_50[0][0]\n",
    "print(limit_50)"
   ]
  },
  {
   "cell_type": "markdown",
   "metadata": {},
   "source": [
    "### Above 983 spent there are >50% chance of the transaction be classified as fraudulent"
   ]
  },
  {
   "cell_type": "code",
   "execution_count": 37,
   "metadata": {},
   "outputs": [],
   "source": [
    "values = np.linspace(X.min(), X.max()+5000, 100).reshape(-1, 1)\n",
    "probabilities = model2.predict_proba(values)[:, 1]"
   ]
  },
  {
   "cell_type": "code",
   "execution_count": 38,
   "metadata": {},
   "outputs": [
    {
     "name": "stdout",
     "output_type": "stream",
     "text": [
      "[[1.22000000e+00]\n",
      " [9.30986869e+01]\n",
      " [1.84977374e+02]\n",
      " [2.76856061e+02]\n",
      " [3.68734747e+02]\n",
      " [4.60613434e+02]\n",
      " [5.52492121e+02]\n",
      " [6.44370808e+02]\n",
      " [7.36249495e+02]\n",
      " [8.28128182e+02]\n",
      " [9.20006869e+02]\n",
      " [1.01188556e+03]\n",
      " [1.10376424e+03]\n",
      " [1.19564293e+03]\n",
      " [1.28752162e+03]\n",
      " [1.37940030e+03]\n",
      " [1.47127899e+03]\n",
      " [1.56315768e+03]\n",
      " [1.65503636e+03]\n",
      " [1.74691505e+03]\n",
      " [1.83879374e+03]\n",
      " [1.93067242e+03]\n",
      " [2.02255111e+03]\n",
      " [2.11442980e+03]\n",
      " [2.20630848e+03]\n",
      " [2.29818717e+03]\n",
      " [2.39006586e+03]\n",
      " [2.48194455e+03]\n",
      " [2.57382323e+03]\n",
      " [2.66570192e+03]\n",
      " [2.75758061e+03]\n",
      " [2.84945929e+03]\n",
      " [2.94133798e+03]\n",
      " [3.03321667e+03]\n",
      " [3.12509535e+03]\n",
      " [3.21697404e+03]\n",
      " [3.30885273e+03]\n",
      " [3.40073141e+03]\n",
      " [3.49261010e+03]\n",
      " [3.58448879e+03]\n",
      " [3.67636747e+03]\n",
      " [3.76824616e+03]\n",
      " [3.86012485e+03]\n",
      " [3.95200354e+03]\n",
      " [4.04388222e+03]\n",
      " [4.13576091e+03]\n",
      " [4.22763960e+03]\n",
      " [4.31951828e+03]\n",
      " [4.41139697e+03]\n",
      " [4.50327566e+03]\n",
      " [4.59515434e+03]\n",
      " [4.68703303e+03]\n",
      " [4.77891172e+03]\n",
      " [4.87079040e+03]\n",
      " [4.96266909e+03]\n",
      " [5.05454778e+03]\n",
      " [5.14642646e+03]\n",
      " [5.23830515e+03]\n",
      " [5.33018384e+03]\n",
      " [5.42206253e+03]\n",
      " [5.51394121e+03]\n",
      " [5.60581990e+03]\n",
      " [5.69769859e+03]\n",
      " [5.78957727e+03]\n",
      " [5.88145596e+03]\n",
      " [5.97333465e+03]\n",
      " [6.06521333e+03]\n",
      " [6.15709202e+03]\n",
      " [6.24897071e+03]\n",
      " [6.34084939e+03]\n",
      " [6.43272808e+03]\n",
      " [6.52460677e+03]\n",
      " [6.61648545e+03]\n",
      " [6.70836414e+03]\n",
      " [6.80024283e+03]\n",
      " [6.89212152e+03]\n",
      " [6.98400020e+03]\n",
      " [7.07587889e+03]\n",
      " [7.16775758e+03]\n",
      " [7.25963626e+03]\n",
      " [7.35151495e+03]\n",
      " [7.44339364e+03]\n",
      " [7.53527232e+03]\n",
      " [7.62715101e+03]\n",
      " [7.71902970e+03]\n",
      " [7.81090838e+03]\n",
      " [7.90278707e+03]\n",
      " [7.99466576e+03]\n",
      " [8.08654444e+03]\n",
      " [8.17842313e+03]\n",
      " [8.27030182e+03]\n",
      " [8.36218051e+03]\n",
      " [8.45405919e+03]\n",
      " [8.54593788e+03]\n",
      " [8.63781657e+03]\n",
      " [8.72969525e+03]\n",
      " [8.82157394e+03]\n",
      " [8.91345263e+03]\n",
      " [9.00533131e+03]\n",
      " [9.09721000e+03]]\n"
     ]
    }
   ],
   "source": [
    "print(values)"
   ]
  },
  {
   "cell_type": "code",
   "execution_count": 39,
   "metadata": {},
   "outputs": [
    {
     "name": "stdout",
     "output_type": "stream",
     "text": [
      "[0.30943735 0.32570893 0.34241187 0.35951468 0.37698201 0.39477492\n",
      " 0.41285112 0.43116536 0.44966983 0.46831463 0.48704833 0.50581849\n",
      " 0.52457226 0.54325699 0.56182077 0.58021307 0.59838523 0.61629097\n",
      " 0.63388684 0.65113256 0.66799142 0.68443042 0.70042051 0.71593664\n",
      " 0.73095783 0.7454671  0.7594514  0.77290145 0.78581155 0.79817937\n",
      " 0.81000571 0.82129421 0.83205107 0.84228477 0.85200582 0.86122641\n",
      " 0.86996021 0.87822206 0.88602777 0.8933939  0.90033749 0.90687596\n",
      " 0.91302691 0.91880796 0.92423663 0.92933024 0.93410583 0.93858003\n",
      " 0.94276904 0.94668858 0.95035382 0.95377937 0.95697926 0.95996692\n",
      " 0.96275517 0.96535623 0.96778172 0.97004266 0.97214951 0.97411214\n",
      " 0.97593989 0.97764155 0.97922543 0.98069932 0.98207055 0.98334602\n",
      " 0.98453219 0.9856351  0.98666044 0.98761351 0.98849928 0.98932239\n",
      " 0.99008719 0.99079771 0.99145775 0.99207082 0.99264022 0.99316901\n",
      " 0.99366005 0.994116   0.99453935 0.99493238 0.99529727 0.99563599\n",
      " 0.99595042 0.99624228 0.99651318 0.99676461 0.99699796 0.99721453\n",
      " 0.99741552 0.99760204 0.99777513 0.99793575 0.9980848  0.99822311\n",
      " 0.99835144 0.99847052 0.99858101 0.99868353]\n"
     ]
    }
   ],
   "source": [
    "print(probabilities)"
   ]
  },
  {
   "cell_type": "code",
   "execution_count": 40,
   "metadata": {},
   "outputs": [
    {
     "data": {
      "image/png": "[encoded data removed]",
      "text/plain": [
       "<Figure size 640x480 with 1 Axes>"
      ]
     },
     "metadata": {},
     "output_type": "display_data"
    }
   ],
   "source": [
    "plt.plot(values, probabilities, label=\"Fraud Probability\")\n",
    "plt.plot([limit_50, limit_50], [0, 0.5], color='red', linestyle='dashed', linewidth=2)\n",
    "plt.axhline(y=0.5, xmax=limit_50 / values.max(), color='red', linestyle='dashed', linewidth=2)\n",
    "plt.text(limit_50, 0.5, f'{limit_50:.2f}', color='red', fontsize=10, ha='center', va='bottom')\n",
    "\n",
    "plt.xlabel(\"Spent\")\n",
    "plt.ylabel(\"Fraud Probability\")\n",
    "plt.title(\"Spent x Fraud Probability\")\n",
    "plt.legend()\n",
    "plt.show()"
   ]
  },
  {
   "cell_type": "code",
   "execution_count": 224,
   "metadata": {},
   "outputs": [
    {
     "name": "stdout",
     "output_type": "stream",
     "text": [
      "The spent where the PROBA of fraud is 50% is: 983.41\n"
     ]
    }
   ],
   "source": [
    "# Obter os coeficientes do modelo treinado\n",
    "intercept = model2.intercept_[0]\n",
    "coef = model2.coef_[0][0]\n",
    "\n",
    "# Calcular o ponto onde a probabilidade de fraude é 50%\n",
    "threshold_spent = -intercept / coef\n",
    "\n",
    "print(f\"The spent where the PROBA of fraud is 50% is: {threshold_spent:.2f}\")"
   ]
  },
  {
   "cell_type": "markdown",
   "metadata": {},
   "source": [
    "### ☝️ Bingo !"
   ]
  },
  {
   "cell_type": "markdown",
   "metadata": {},
   "source": [
    "### Analysis of missing device in fraudulent transactions"
   ]
  },
  {
   "cell_type": "code",
   "execution_count": 42,
   "metadata": {},
   "outputs": [
    {
     "data": {
      "text/plain": [
       "device_id\n",
       "False    0.740544\n",
       "True     0.259456\n",
       "Name: count, dtype: float64"
      ]
     },
     "execution_count": 42,
     "metadata": {},
     "output_type": "execute_result"
    }
   ],
   "source": [
    "df[\"device_id\"].isnull().value_counts() / df[\"device_id\"].isnull().value_counts().sum()"
   ]
  },
  {
   "cell_type": "markdown",
   "metadata": {},
   "source": [
    "### 26% of device is missing"
   ]
  },
  {
   "cell_type": "code",
   "execution_count": 43,
   "metadata": {},
   "outputs": [
    {
     "data": {
      "text/plain": [
       "device_id\n",
       "False    2369\n",
       "True      830\n",
       "Name: count, dtype: int64"
      ]
     },
     "execution_count": 43,
     "metadata": {},
     "output_type": "execute_result"
    }
   ],
   "source": [
    "df[\"device_id\"].isnull().value_counts()"
   ]
  },
  {
   "cell_type": "code",
   "execution_count": 44,
   "metadata": {},
   "outputs": [
    {
     "data": {
      "text/plain": [
       "device_id\n",
       "False    324\n",
       "True      67\n",
       "Name: count, dtype: int64"
      ]
     },
     "execution_count": 44,
     "metadata": {},
     "output_type": "execute_result"
    }
   ],
   "source": [
    "df[\"device_id\"][df[\"has_cbk\"] == True].isnull().value_counts()"
   ]
  },
  {
   "cell_type": "code",
   "execution_count": 45,
   "metadata": {},
   "outputs": [
    {
     "data": {
      "text/plain": [
       "device_id\n",
       "False    2045\n",
       "True      763\n",
       "Name: count, dtype: int64"
      ]
     },
     "execution_count": 45,
     "metadata": {},
     "output_type": "execute_result"
    }
   ],
   "source": [
    "df[\"device_id\"][df[\"has_cbk\"] == False].isnull().value_counts()"
   ]
  },
  {
   "cell_type": "code",
   "execution_count": 46,
   "metadata": {},
   "outputs": [
    {
     "name": "stdout",
     "output_type": "stream",
     "text": [
      "Share of missing device feature it NON Fraudulent transactions: 92 %\n",
      "Share of missing device feature it NON Fraudulent transactions: 8 %\n"
     ]
    }
   ],
   "source": [
    "missing_dev_nonfraud = df[\"device_id\"][df[\"has_cbk\"] == False].isnull().value_counts().get(True, 0)\n",
    "missing_dev_yesfraud = df[\"device_id\"][df[\"has_cbk\"] == True].isnull().value_counts().get(True, 0)\n",
    "miff_dev_all = df[\"device_id\"].isnull().value_counts().get(True, 0)\n",
    "\n",
    "print(f'Share of missing device feature it NON Fraudulent transactions: {missing_dev_nonfraud/miff_dev_all*100:.0f} %')\n",
    "print(f'Share of missing device feature it NON Fraudulent transactions: {missing_dev_yesfraud/miff_dev_all*100:.0f} %')\n"
   ]
  },
  {
   "cell_type": "markdown",
   "metadata": {},
   "source": [
    "### Despite of the missing devices are mostly at non fraudly transactions 92%, not beeing a influent factor for fraudulent transactions, I will keep these information because we do not have a lot of features (just 8) and the dataset has not a lot of historic (only 30 days and 3k rows). Dropping this feature may negatively impact the model."
   ]
  },
  {
   "cell_type": "markdown",
   "metadata": {},
   "source": [
    "### Takeaways from these brief KPIs: \n",
    "- DO NOT DROP DEVICE: The device it is important for business problem. Solution: create categorical flag (missing device) and use specific model that handles missing data (Decision Tree / Deep Learning). Context: device per user it is < 1 witch it is impossible. The reason for this: incomplete database (25% of device row NA); <br> \n",
    "- Transaction per user: the users made few transaction (1.2 transaction per user) <br> \n",
    "- Time interval: the dataset has only 30 days (and 3k rows); <br>\n",
    "- The spending is highly dispersed, with a standard deviation of 889.10 and a mean of 767"
   ]
  },
  {
   "cell_type": "markdown",
   "metadata": {},
   "source": [
    "### Encoding missing device to get ready for Model in future"
   ]
  },
  {
   "cell_type": "code",
   "execution_count": 47,
   "metadata": {},
   "outputs": [
    {
     "data": {
      "text/html": [
       "<div>\n",
       "<style scoped>\n",
       "    .dataframe tbody tr th:only-of-type {\n",
       "        vertical-align: middle;\n",
       "    }\n",
       "\n",
       "    .dataframe tbody tr th {\n",
       "        vertical-align: top;\n",
       "    }\n",
       "\n",
       "    .dataframe thead th {\n",
       "        text-align: right;\n",
       "    }\n",
       "</style>\n",
       "<table border=\"1\" class=\"dataframe\">\n",
       "  <thead>\n",
       "    <tr style=\"text-align: right;\">\n",
       "      <th></th>\n",
       "      <th>transaction_id</th>\n",
       "      <th>merchant_id</th>\n",
       "      <th>user_id</th>\n",
       "      <th>card_number</th>\n",
       "      <th>transaction_date</th>\n",
       "      <th>transaction_amount</th>\n",
       "      <th>device_id</th>\n",
       "      <th>has_cbk</th>\n",
       "    </tr>\n",
       "  </thead>\n",
       "  <tbody>\n",
       "    <tr>\n",
       "      <th>0</th>\n",
       "      <td>21320398</td>\n",
       "      <td>29744</td>\n",
       "      <td>97051</td>\n",
       "      <td>434505******9116</td>\n",
       "      <td>2019-12-01 23:16:32.812632</td>\n",
       "      <td>374.56</td>\n",
       "      <td>285475.0</td>\n",
       "      <td>0</td>\n",
       "    </tr>\n",
       "    <tr>\n",
       "      <th>1</th>\n",
       "      <td>21320399</td>\n",
       "      <td>92895</td>\n",
       "      <td>2708</td>\n",
       "      <td>444456******4210</td>\n",
       "      <td>2019-12-01 22:45:37.873639</td>\n",
       "      <td>734.87</td>\n",
       "      <td>497105.0</td>\n",
       "      <td>1</td>\n",
       "    </tr>\n",
       "  </tbody>\n",
       "</table>\n",
       "</div>"
      ],
      "text/plain": [
       "   transaction_id  merchant_id  user_id       card_number  \\\n",
       "0        21320398        29744    97051  434505******9116   \n",
       "1        21320399        92895     2708  444456******4210   \n",
       "\n",
       "            transaction_date  transaction_amount  device_id  has_cbk  \n",
       "0 2019-12-01 23:16:32.812632              374.56   285475.0        0  \n",
       "1 2019-12-01 22:45:37.873639              734.87   497105.0        1  "
      ]
     },
     "execution_count": 47,
     "metadata": {},
     "output_type": "execute_result"
    }
   ],
   "source": [
    "df.head(2)"
   ]
  },
  {
   "cell_type": "markdown",
   "metadata": {},
   "source": [
    "Important: <br>\n",
    "    - 0 for NOT Missing <br>\n",
    "    - 1 for Missin <br>"
   ]
  },
  {
   "cell_type": "code",
   "execution_count": 48,
   "metadata": {},
   "outputs": [
    {
     "data": {
      "text/plain": [
       "array([0, 1])"
      ]
     },
     "execution_count": 48,
     "metadata": {},
     "output_type": "execute_result"
    }
   ],
   "source": [
    "df[\"device_id_missing\"] = df[\"device_id\"].apply(lambda x: 1 if pd.isnull(x) else 0)\n",
    "df[\"device_id_missing\"].unique()"
   ]
  },
  {
   "cell_type": "code",
   "execution_count": 49,
   "metadata": {},
   "outputs": [
    {
     "data": {
      "text/html": [
       "<div>\n",
       "<style scoped>\n",
       "    .dataframe tbody tr th:only-of-type {\n",
       "        vertical-align: middle;\n",
       "    }\n",
       "\n",
       "    .dataframe tbody tr th {\n",
       "        vertical-align: top;\n",
       "    }\n",
       "\n",
       "    .dataframe thead th {\n",
       "        text-align: right;\n",
       "    }\n",
       "</style>\n",
       "<table border=\"1\" class=\"dataframe\">\n",
       "  <thead>\n",
       "    <tr style=\"text-align: right;\">\n",
       "      <th></th>\n",
       "      <th>transaction_id</th>\n",
       "      <th>merchant_id</th>\n",
       "      <th>user_id</th>\n",
       "      <th>card_number</th>\n",
       "      <th>transaction_date</th>\n",
       "      <th>transaction_amount</th>\n",
       "      <th>device_id</th>\n",
       "      <th>has_cbk</th>\n",
       "      <th>device_id_missing</th>\n",
       "    </tr>\n",
       "  </thead>\n",
       "  <tbody>\n",
       "    <tr>\n",
       "      <th>2</th>\n",
       "      <td>21320400</td>\n",
       "      <td>47759</td>\n",
       "      <td>14777</td>\n",
       "      <td>425850******7024</td>\n",
       "      <td>2019-12-01 22:22:43.021495</td>\n",
       "      <td>760.36</td>\n",
       "      <td>NaN</td>\n",
       "      <td>0</td>\n",
       "      <td>1</td>\n",
       "    </tr>\n",
       "    <tr>\n",
       "      <th>3</th>\n",
       "      <td>21320401</td>\n",
       "      <td>68657</td>\n",
       "      <td>69758</td>\n",
       "      <td>464296******3991</td>\n",
       "      <td>2019-12-01 21:59:19.797129</td>\n",
       "      <td>2556.13</td>\n",
       "      <td>NaN</td>\n",
       "      <td>1</td>\n",
       "      <td>1</td>\n",
       "    </tr>\n",
       "  </tbody>\n",
       "</table>\n",
       "</div>"
      ],
      "text/plain": [
       "   transaction_id  merchant_id  user_id       card_number  \\\n",
       "2        21320400        47759    14777  425850******7024   \n",
       "3        21320401        68657    69758  464296******3991   \n",
       "\n",
       "            transaction_date  transaction_amount  device_id  has_cbk  \\\n",
       "2 2019-12-01 22:22:43.021495              760.36        NaN        0   \n",
       "3 2019-12-01 21:59:19.797129             2556.13        NaN        1   \n",
       "\n",
       "   device_id_missing  \n",
       "2                  1  \n",
       "3                  1  "
      ]
     },
     "execution_count": 49,
     "metadata": {},
     "output_type": "execute_result"
    }
   ],
   "source": [
    "df[df[\"device_id\"].isnull()].head(2)"
   ]
  },
  {
   "cell_type": "markdown",
   "metadata": {},
   "source": [
    "# 2. Grouping info to understand behavior"
   ]
  },
  {
   "cell_type": "code",
   "execution_count": 50,
   "metadata": {},
   "outputs": [
    {
     "data": {
      "text/html": [
       "<div>\n",
       "<style scoped>\n",
       "    .dataframe tbody tr th:only-of-type {\n",
       "        vertical-align: middle;\n",
       "    }\n",
       "\n",
       "    .dataframe tbody tr th {\n",
       "        vertical-align: top;\n",
       "    }\n",
       "\n",
       "    .dataframe thead th {\n",
       "        text-align: right;\n",
       "    }\n",
       "</style>\n",
       "<table border=\"1\" class=\"dataframe\">\n",
       "  <thead>\n",
       "    <tr style=\"text-align: right;\">\n",
       "      <th></th>\n",
       "      <th>transaction_id</th>\n",
       "      <th>merchant_id</th>\n",
       "      <th>user_id</th>\n",
       "      <th>card_number</th>\n",
       "      <th>transaction_date</th>\n",
       "      <th>transaction_amount</th>\n",
       "      <th>device_id</th>\n",
       "      <th>has_cbk</th>\n",
       "      <th>device_id_missing</th>\n",
       "    </tr>\n",
       "  </thead>\n",
       "  <tbody>\n",
       "    <tr>\n",
       "      <th>0</th>\n",
       "      <td>21320398</td>\n",
       "      <td>29744</td>\n",
       "      <td>97051</td>\n",
       "      <td>434505******9116</td>\n",
       "      <td>2019-12-01 23:16:32.812632</td>\n",
       "      <td>374.56</td>\n",
       "      <td>285475.0</td>\n",
       "      <td>0</td>\n",
       "      <td>0</td>\n",
       "    </tr>\n",
       "    <tr>\n",
       "      <th>1</th>\n",
       "      <td>21320399</td>\n",
       "      <td>92895</td>\n",
       "      <td>2708</td>\n",
       "      <td>444456******4210</td>\n",
       "      <td>2019-12-01 22:45:37.873639</td>\n",
       "      <td>734.87</td>\n",
       "      <td>497105.0</td>\n",
       "      <td>1</td>\n",
       "      <td>0</td>\n",
       "    </tr>\n",
       "  </tbody>\n",
       "</table>\n",
       "</div>"
      ],
      "text/plain": [
       "   transaction_id  merchant_id  user_id       card_number  \\\n",
       "0        21320398        29744    97051  434505******9116   \n",
       "1        21320399        92895     2708  444456******4210   \n",
       "\n",
       "            transaction_date  transaction_amount  device_id  has_cbk  \\\n",
       "0 2019-12-01 23:16:32.812632              374.56   285475.0        0   \n",
       "1 2019-12-01 22:45:37.873639              734.87   497105.0        1   \n",
       "\n",
       "   device_id_missing  \n",
       "0                  0  \n",
       "1                  0  "
      ]
     },
     "execution_count": 50,
     "metadata": {},
     "output_type": "execute_result"
    }
   ],
   "source": [
    "df.head(2)"
   ]
  },
  {
   "cell_type": "markdown",
   "metadata": {},
   "source": [
    "### 👇 Distribution of the number of transactions made by 1 user:"
   ]
  },
  {
   "cell_type": "code",
   "execution_count": 51,
   "metadata": {},
   "outputs": [
    {
     "data": {
      "text/plain": [
       "user_id\n",
       "6        1\n",
       "7        1\n",
       "8        1\n",
       "19       1\n",
       "132      1\n",
       "        ..\n",
       "99851    1\n",
       "99863    1\n",
       "99875    1\n",
       "99948    1\n",
       "99974    1\n",
       "Name: transaction_id, Length: 2584, dtype: int64"
      ]
     },
     "execution_count": 51,
     "metadata": {},
     "output_type": "execute_result"
    }
   ],
   "source": [
    "#Non Fraudster:\n",
    "transaction_1user_no_fraud = df[df[\"has_cbk\"] == 0].groupby(\"user_id\")[\"transaction_id\"].count()\n",
    "transaction_1user_no_fraud"
   ]
  },
  {
   "cell_type": "code",
   "execution_count": 52,
   "metadata": {},
   "outputs": [
    {
     "data": {
      "image/png": "[encoded data removed]",
      "text/plain": [
       "<Figure size 640x480 with 1 Axes>"
      ]
     },
     "metadata": {},
     "output_type": "display_data"
    }
   ],
   "source": [
    "plt.hist(transaction_1user_no_fraud)\n",
    "plt.title(\"Non Fraud Histogram: Distribuition of Transactions per user\")\n",
    "plt.xlabel(\"Transactions made by 1 user\")\n",
    "plt.ylabel(\"Count\");"
   ]
  },
  {
   "cell_type": "code",
   "execution_count": 53,
   "metadata": {},
   "outputs": [
    {
     "data": {
      "text/plain": [
       "np.int64(2424)"
      ]
     },
     "execution_count": 53,
     "metadata": {},
     "output_type": "execute_result"
    }
   ],
   "source": [
    "(transaction_1user_no_fraud == 1).sum()"
   ]
  },
  {
   "cell_type": "code",
   "execution_count": 54,
   "metadata": {},
   "outputs": [
    {
     "data": {
      "text/plain": [
       "np.float64(0.9380804953560371)"
      ]
     },
     "execution_count": 54,
     "metadata": {},
     "output_type": "execute_result"
    }
   ],
   "source": [
    "(transaction_1user_no_fraud == 1).sum() / len(transaction_1user_no_fraud)"
   ]
  },
  {
   "cell_type": "code",
   "execution_count": 55,
   "metadata": {},
   "outputs": [
    {
     "data": {
      "image/png": "[encoded data removed]",
      "text/plain": [
       "<Figure size 640x480 with 1 Axes>"
      ]
     },
     "metadata": {},
     "output_type": "display_data"
    }
   ],
   "source": [
    "sns.boxplot(x=transaction_1user_no_fraud);"
   ]
  },
  {
   "cell_type": "markdown",
   "metadata": {},
   "source": [
    "No fraudster: There are no registers for > 7 transactions for 1 unique user"
   ]
  },
  {
   "cell_type": "code",
   "execution_count": 56,
   "metadata": {},
   "outputs": [
    {
     "data": {
      "image/png": "[encoded data removed]",
      "text/plain": [
       "<Figure size 640x480 with 1 Axes>"
      ]
     },
     "metadata": {},
     "output_type": "display_data"
    }
   ],
   "source": [
    "#Fraudster:\n",
    "transaction_1user_yes_fraud = df[df[\"has_cbk\"] == 1].groupby(\"user_id\")[\"transaction_id\"].count()\n",
    "\n",
    "plt.hist(transaction_1user_yes_fraud)\n",
    "plt.title(\"Fraud Histogram: Distribuition of Transactions per user\")\n",
    "plt.xlabel(\"Transactions made by 1 user\")\n",
    "plt.ylabel(\"Count\");\n"
   ]
  },
  {
   "cell_type": "code",
   "execution_count": 57,
   "metadata": {},
   "outputs": [
    {
     "data": {
      "text/plain": [
       "np.float64(0.49019607843137253)"
      ]
     },
     "execution_count": 57,
     "metadata": {},
     "output_type": "execute_result"
    }
   ],
   "source": [
    "(transaction_1user_yes_fraud == 1).sum()/ len(transaction_1user_yes_fraud)"
   ]
  },
  {
   "cell_type": "code",
   "execution_count": 58,
   "metadata": {},
   "outputs": [
    {
     "data": {
      "image/png": "[encoded data removed]",
      "text/plain": [
       "<Figure size 640x480 with 1 Axes>"
      ]
     },
     "metadata": {},
     "output_type": "display_data"
    }
   ],
   "source": [
    "sns.boxplot(x=transaction_1user_yes_fraud);"
   ]
  },
  {
   "cell_type": "markdown",
   "metadata": {},
   "source": [
    "### ☝️ Conclusions regarding transactions per user:\n",
    "  - Non Frauds transactions: 93% of the transactions are made by 1 unique user\n",
    "  - Frauds transactions: 49% of transactions are made by 1 unique user"
   ]
  },
  {
   "cell_type": "markdown",
   "metadata": {},
   "source": [
    "### 👇 Distribution of the number of transactions made by credit card:"
   ]
  },
  {
   "cell_type": "code",
   "execution_count": 59,
   "metadata": {},
   "outputs": [
    {
     "data": {
      "image/png": "[encoded data removed]",
      "text/plain": [
       "<Figure size 640x480 with 1 Axes>"
      ]
     },
     "metadata": {},
     "output_type": "display_data"
    }
   ],
   "source": [
    "#No Fraudster\n",
    "transaction_1card_no_fraud = df[df[\"has_cbk\"] == 0].groupby(\"card_number\")[\"transaction_id\"].count()\n",
    "plt.hist(transaction_1user_no_fraud)\n",
    "plt.title(\"Non Fraud Histogram: Distribuition of Transactions per 1 card\")\n",
    "plt.xlabel(\"Transactions made by 1 credit card\")\n",
    "plt.ylabel(\"Count\");"
   ]
  },
  {
   "cell_type": "code",
   "execution_count": 60,
   "metadata": {},
   "outputs": [
    {
     "data": {
      "text/plain": [
       "np.float64(0.9548532731376975)"
      ]
     },
     "execution_count": 60,
     "metadata": {},
     "output_type": "execute_result"
    }
   ],
   "source": [
    "(transaction_1card_no_fraud == 1).sum() / len(transaction_1card_no_fraud)"
   ]
  },
  {
   "cell_type": "code",
   "execution_count": 61,
   "metadata": {},
   "outputs": [
    {
     "data": {
      "image/png": "[encoded data removed]",
      "text/plain": [
       "<Figure size 640x480 with 1 Axes>"
      ]
     },
     "metadata": {},
     "output_type": "display_data"
    }
   ],
   "source": [
    "#Yes Fraudster\n",
    "transaction_1card_yes_fraud = df[df[\"has_cbk\"] == 1].groupby(\"card_number\")[\"transaction_id\"].count()\n",
    "plt.hist(transaction_1card_yes_fraud)\n",
    "plt.title(\"Fraud Histogram: Distribuition of Transactions per 1 card\")\n",
    "plt.xlabel(\"Transactions made by 1 credit card\")\n",
    "plt.ylabel(\"Count\");"
   ]
  },
  {
   "cell_type": "code",
   "execution_count": 62,
   "metadata": {},
   "outputs": [
    {
     "data": {
      "text/plain": [
       "np.float64(0.7445255474452555)"
      ]
     },
     "execution_count": 62,
     "metadata": {},
     "output_type": "execute_result"
    }
   ],
   "source": [
    "(transaction_1card_yes_fraud == 1).sum() / len(transaction_1card_yes_fraud)"
   ]
  },
  {
   "cell_type": "markdown",
   "metadata": {},
   "source": [
    "### ☝️ Conclusions regarding transactions per user:\n",
    "  - Non Frauds transactions: 94% of the transactions are made by 1 credit card\n",
    "  - Frauds transactions: 75% of transactions are made by 1 unique credit card"
   ]
  },
  {
   "cell_type": "markdown",
   "metadata": {},
   "source": [
    "### 👇Transactions per Unique vendor "
   ]
  },
  {
   "cell_type": "code",
   "execution_count": 63,
   "metadata": {},
   "outputs": [
    {
     "data": {
      "text/plain": [
       "merchant_id\n",
       "1017      1\n",
       "1175      1\n",
       "1308     15\n",
       "2842      1\n",
       "3109      1\n",
       "         ..\n",
       "96692     1\n",
       "97291     4\n",
       "98272     3\n",
       "99510     7\n",
       "99644     1\n",
       "Name: transaction_id, Length: 118, dtype: int64"
      ]
     },
     "execution_count": 63,
     "metadata": {},
     "output_type": "execute_result"
    }
   ],
   "source": [
    "# FRAUDs Transactions per unique vendor\n",
    "frauds_per_vendor = df[df[\"has_cbk\"] == 1].groupby(\"merchant_id\")[\"transaction_id\"].count()\n",
    "frauds_per_vendor"
   ]
  },
  {
   "cell_type": "code",
   "execution_count": 64,
   "metadata": {},
   "outputs": [
    {
     "data": {
      "image/png": "[encoded data removed]",
      "text/plain": [
       "<Figure size 640x480 with 1 Axes>"
      ]
     },
     "metadata": {},
     "output_type": "display_data"
    }
   ],
   "source": [
    "frauds_per_vendor_sorted = frauds_per_vendor.sort_values(ascending=False)\n",
    "\n",
    "frauds_per_vendor_sorted.plot(kind='bar')\n",
    "plt.title(\"# Fraundly TransactionsTransações per vendor\")\n",
    "plt.xlabel(\"Merchant ID\")\n",
    "plt.ylabel(\"# Fraund Transactions\");"
   ]
  },
  {
   "cell_type": "code",
   "execution_count": 65,
   "metadata": {},
   "outputs": [
    {
     "data": {
      "image/png": "[encoded data removed]",
      "text/plain": [
       "<Figure size 600x400 with 1 Axes>"
      ]
     },
     "metadata": {},
     "output_type": "display_data"
    }
   ],
   "source": [
    "# Ordenar as fraudes por vendedor (do maior para o menor)\n",
    "frauds_per_vendor_sorted = frauds_per_vendor.sort_values(ascending=False)\n",
    "\n",
    "# Plotar o boxplot\n",
    "plt.figure(figsize=(6, 4))\n",
    "sns.boxplot(x=frauds_per_vendor_sorted)\n",
    "plt.title(\"Distribuição de Transações Fraudulentas por Vendor\")\n",
    "plt.xlabel(\"Número de Transações Fraudulentas\")\n",
    "plt.ylabel(\"Distribuição\")\n",
    "\n",
    "# Ajustar layout e exibir o gráfico\n",
    "plt.tight_layout()\n",
    "plt.show()"
   ]
  },
  {
   "cell_type": "code",
   "execution_count": 66,
   "metadata": {},
   "outputs": [
    {
     "data": {
      "image/png": "[encoded data removed]",
      "text/plain": [
       "<Figure size 640x480 with 1 Axes>"
      ]
     },
     "metadata": {},
     "output_type": "display_data"
    }
   ],
   "source": [
    "frauds_per_vendor_sorted = frauds_per_vendor.sort_values(ascending=False)\n",
    "\n",
    "grouped_frauds = frauds_per_vendor_sorted.groupby(np.arange(len(frauds_per_vendor_sorted)) // 10).sum()\n",
    "\n",
    "plt.bar(range(len(grouped_frauds)), grouped_frauds)\n",
    "plt.title(\"Número de Transações Fraudulentas por Grupos de 10 Vendors\")\n",
    "plt.xlabel(\"Grupo de 10 Vendors\")\n",
    "plt.ylabel(\"Número de Transações Fraudulentas\")\n",
    "\n",
    "plt.tight_layout()\n",
    "plt.show()"
   ]
  },
  {
   "cell_type": "code",
   "execution_count": 67,
   "metadata": {},
   "outputs": [
    {
     "data": {
      "text/plain": [
       "np.int64(391)"
      ]
     },
     "execution_count": 67,
     "metadata": {},
     "output_type": "execute_result"
    }
   ],
   "source": [
    "frauds_per_vendor_sorted.sum()"
   ]
  },
  {
   "cell_type": "code",
   "execution_count": 68,
   "metadata": {},
   "outputs": [
    {
     "data": {
      "text/plain": [
       "merchant_id\n",
       "17275    22\n",
       "4705     19\n",
       "1308     15\n",
       "53041    14\n",
       "77130    13\n",
       "         ..\n",
       "92895     1\n",
       "96692     1\n",
       "94198     1\n",
       "94053     1\n",
       "99644     1\n",
       "Name: transaction_id, Length: 118, dtype: int64"
      ]
     },
     "execution_count": 68,
     "metadata": {},
     "output_type": "execute_result"
    }
   ],
   "source": [
    "frauds_per_vendor_sorted"
   ]
  },
  {
   "cell_type": "code",
   "execution_count": 69,
   "metadata": {},
   "outputs": [
    {
     "data": {
      "text/plain": [
       "np.float64(0.5242966751918159)"
      ]
     },
     "execution_count": 69,
     "metadata": {},
     "output_type": "execute_result"
    }
   ],
   "source": [
    "frauds_per_vendor_sorted.iloc[:21].sum() / frauds_per_vendor_sorted.sum()"
   ]
  },
  {
   "cell_type": "code",
   "execution_count": 70,
   "metadata": {},
   "outputs": [
    {
     "data": {
      "text/plain": [
       "np.int64(11)"
      ]
     },
     "execution_count": 70,
     "metadata": {},
     "output_type": "execute_result"
    }
   ],
   "source": [
    "frauds_per_vendor_sorted.iloc[6]"
   ]
  },
  {
   "cell_type": "code",
   "execution_count": 72,
   "metadata": {},
   "outputs": [
    {
     "data": {
      "image/png": "[encoded data removed]",
      "text/plain": [
       "<Figure size 640x480 with 1 Axes>"
      ]
     },
     "metadata": {},
     "output_type": "display_data"
    }
   ],
   "source": [
    "transaction_per_vendor = df[df[\"has_cbk\"] == 0].groupby(\"merchant_id\")[\"transaction_id\"].count()\n",
    "\n",
    "sns.boxplot(x=transaction_per_vendor)\n",
    "plt.title(\"Distribuição de Transações Não Fraudulentas por Vendor\")\n",
    "plt.xlabel(\"Número de Transações\")\n",
    "plt.ylabel(\"Distribuição\")\n",
    "\n",
    "plt.tight_layout()\n",
    "plt.show()"
   ]
  },
  {
   "cell_type": "markdown",
   "metadata": {},
   "source": [
    "### ☝️ Conclusion: 20 out of the 391 vendors with fraudulent transactions account for 52% of all fraud cases. Pay special attention to vendors 17275, 4705, and 1308, with 22, 19, and 15 fraudulent transactions, respectively, this month."
   ]
  },
  {
   "cell_type": "markdown",
   "metadata": {},
   "source": [
    "### 👇 Fraudulent Transactions per Device"
   ]
  },
  {
   "cell_type": "code",
   "execution_count": 73,
   "metadata": {},
   "outputs": [
    {
     "data": {
      "text/plain": [
       "device_id\n",
       "486.0       4\n",
       "6638.0      1\n",
       "10312.0     2\n",
       "17372.0     2\n",
       "20098.0     3\n",
       "           ..\n",
       "960729.0    6\n",
       "972377.0    1\n",
       "977260.0    1\n",
       "978084.0    4\n",
       "990288.0    1\n",
       "Name: transaction_id, Length: 129, dtype: int64"
      ]
     },
     "execution_count": 73,
     "metadata": {},
     "output_type": "execute_result"
    }
   ],
   "source": [
    "frauds_per_device = df[(df[\"has_cbk\"] == 1) & (df[\"device_id_missing\"] == 0)].groupby(\"device_id\")[\"transaction_id\"].count()\n",
    "#Filtering note: has_cbk fraud and the device is not missing !\n",
    "frauds_per_device"
   ]
  },
  {
   "cell_type": "code",
   "execution_count": 74,
   "metadata": {},
   "outputs": [
    {
     "data": {
      "text/plain": [
       "device_id\n",
       "563499.0    19\n",
       "342890.0    15\n",
       "101848.0    15\n",
       "438940.0    13\n",
       "547440.0    12\n",
       "            ..\n",
       "892328.0     1\n",
       "918124.0     1\n",
       "972377.0     1\n",
       "977260.0     1\n",
       "990288.0     1\n",
       "Name: transaction_id, Length: 129, dtype: int64"
      ]
     },
     "execution_count": 74,
     "metadata": {},
     "output_type": "execute_result"
    }
   ],
   "source": [
    "frauds_per_device_sorted = frauds_per_device.sort_values(ascending=False)\n",
    "frauds_per_device_sorted"
   ]
  },
  {
   "cell_type": "code",
   "execution_count": 75,
   "metadata": {},
   "outputs": [
    {
     "data": {
      "image/png": "[encoded data removed]",
      "text/plain": [
       "<Figure size 640x480 with 1 Axes>"
      ]
     },
     "metadata": {},
     "output_type": "display_data"
    }
   ],
   "source": [
    "grouped_frauds_device_id = frauds_per_device_sorted.groupby(np.arange(len(frauds_per_device_sorted)) // 10).sum()\n",
    "\n",
    "plt.bar(range(len(grouped_frauds_device_id)), grouped_frauds_device_id)\n",
    "plt.title(\"Número de Transações Fraudulentas por Grupos de 10 Devices\")\n",
    "plt.xlabel(\"Grupo de 10 Vendors\")\n",
    "plt.ylabel(\"Número de Transações Fraudulentas\")\n",
    "\n",
    "plt.tight_layout()\n",
    "plt.show()"
   ]
  },
  {
   "cell_type": "code",
   "execution_count": 76,
   "metadata": {},
   "outputs": [
    {
     "data": {
      "text/plain": [
       "np.int64(163)"
      ]
     },
     "execution_count": 76,
     "metadata": {},
     "output_type": "execute_result"
    }
   ],
   "source": [
    "frauds_per_device_sorted.iloc[:25].sum()"
   ]
  },
  {
   "cell_type": "code",
   "execution_count": 77,
   "metadata": {},
   "outputs": [
    {
     "data": {
      "text/plain": [
       "np.int64(324)"
      ]
     },
     "execution_count": 77,
     "metadata": {},
     "output_type": "execute_result"
    }
   ],
   "source": [
    "frauds_per_device_sorted.sum()"
   ]
  },
  {
   "cell_type": "code",
   "execution_count": 78,
   "metadata": {},
   "outputs": [
    {
     "data": {
      "text/plain": [
       "np.float64(0.5030864197530864)"
      ]
     },
     "execution_count": 78,
     "metadata": {},
     "output_type": "execute_result"
    }
   ],
   "source": [
    "frauds_per_device_sorted.iloc[:25].sum() / frauds_per_device_sorted.sum()"
   ]
  },
  {
   "cell_type": "code",
   "execution_count": 79,
   "metadata": {},
   "outputs": [
    {
     "data": {
      "text/plain": [
       "device_id\n",
       "563499.0    19\n",
       "342890.0    15\n",
       "101848.0    15\n",
       "438940.0    13\n",
       "547440.0    12\n",
       "960729.0     6\n",
       "Name: transaction_id, dtype: int64"
      ]
     },
     "execution_count": 79,
     "metadata": {},
     "output_type": "execute_result"
    }
   ],
   "source": [
    "frauds_per_device_sorted.iloc[:6]"
   ]
  },
  {
   "cell_type": "code",
   "execution_count": 80,
   "metadata": {},
   "outputs": [
    {
     "data": {
      "text/plain": [
       "129"
      ]
     },
     "execution_count": 80,
     "metadata": {},
     "output_type": "execute_result"
    }
   ],
   "source": [
    "len(frauds_per_device)"
   ]
  },
  {
   "cell_type": "code",
   "execution_count": 82,
   "metadata": {},
   "outputs": [
    {
     "data": {
      "text/plain": [
       "Index([563499.0, 342890.0, 101848.0, 438940.0, 547440.0, 960729.0, 542535.0,\n",
       "       357277.0, 308950.0, 597308.0,\n",
       "       ...\n",
       "       866529.0, 857439.0, 890266.0, 873893.0, 917759.0, 892328.0, 918124.0,\n",
       "       972377.0, 977260.0, 990288.0],\n",
       "      dtype='float64', name='device_id', length=129)"
      ]
     },
     "execution_count": 82,
     "metadata": {},
     "output_type": "execute_result"
    }
   ],
   "source": [
    "frauds_per_device_sorted.index"
   ]
  },
  {
   "cell_type": "markdown",
   "metadata": {},
   "source": [
    "### ☝️  Conclusion: 26 out of the 129 devices with fraudulent transactions account for 50% of all fraud cases. Special attention should be given to devices 563499, 342890, and 101848, which have 19, 15, and 15 fraudulent transactions, respectively, this month."
   ]
  },
  {
   "cell_type": "markdown",
   "metadata": {},
   "source": [
    "### 👇 Transaction time "
   ]
  },
  {
   "cell_type": "markdown",
   "metadata": {},
   "source": [
    "FRAUD"
   ]
  },
  {
   "cell_type": "code",
   "execution_count": 83,
   "metadata": {},
   "outputs": [],
   "source": [
    "device_fraud = frauds_per_device_sorted.index"
   ]
  },
  {
   "cell_type": "code",
   "execution_count": 84,
   "metadata": {},
   "outputs": [
    {
     "data": {
      "text/html": [
       "<div>\n",
       "<style scoped>\n",
       "    .dataframe tbody tr th:only-of-type {\n",
       "        vertical-align: middle;\n",
       "    }\n",
       "\n",
       "    .dataframe tbody tr th {\n",
       "        vertical-align: top;\n",
       "    }\n",
       "\n",
       "    .dataframe thead th {\n",
       "        text-align: right;\n",
       "    }\n",
       "</style>\n",
       "<table border=\"1\" class=\"dataframe\">\n",
       "  <thead>\n",
       "    <tr style=\"text-align: right;\">\n",
       "      <th></th>\n",
       "      <th>transaction_id</th>\n",
       "      <th>merchant_id</th>\n",
       "      <th>user_id</th>\n",
       "      <th>card_number</th>\n",
       "      <th>transaction_date</th>\n",
       "      <th>transaction_amount</th>\n",
       "      <th>device_id</th>\n",
       "      <th>has_cbk</th>\n",
       "      <th>device_id_missing</th>\n",
       "    </tr>\n",
       "  </thead>\n",
       "  <tbody>\n",
       "    <tr>\n",
       "      <th>3197</th>\n",
       "      <td>21323595</td>\n",
       "      <td>35930</td>\n",
       "      <td>7</td>\n",
       "      <td>544315******7773</td>\n",
       "      <td>2019-11-01 01:29:45.799767</td>\n",
       "      <td>359.68</td>\n",
       "      <td>NaN</td>\n",
       "      <td>0</td>\n",
       "      <td>1</td>\n",
       "    </tr>\n",
       "    <tr>\n",
       "      <th>3198</th>\n",
       "      <td>21323596</td>\n",
       "      <td>17348</td>\n",
       "      <td>8</td>\n",
       "      <td>650487******9884</td>\n",
       "      <td>2019-11-01 01:27:15.811098</td>\n",
       "      <td>2416.70</td>\n",
       "      <td>NaN</td>\n",
       "      <td>0</td>\n",
       "      <td>1</td>\n",
       "    </tr>\n",
       "  </tbody>\n",
       "</table>\n",
       "</div>"
      ],
      "text/plain": [
       "      transaction_id  merchant_id  user_id       card_number  \\\n",
       "3197        21323595        35930        7  544315******7773   \n",
       "3198        21323596        17348        8  650487******9884   \n",
       "\n",
       "               transaction_date  transaction_amount  device_id  has_cbk  \\\n",
       "3197 2019-11-01 01:29:45.799767              359.68        NaN        0   \n",
       "3198 2019-11-01 01:27:15.811098             2416.70        NaN        0   \n",
       "\n",
       "      device_id_missing  \n",
       "3197                  1  \n",
       "3198                  1  "
      ]
     },
     "execution_count": 84,
     "metadata": {},
     "output_type": "execute_result"
    }
   ],
   "source": [
    "df.tail(2)"
   ]
  },
  {
   "cell_type": "code",
   "execution_count": 85,
   "metadata": {},
   "outputs": [],
   "source": [
    "df_filtered = df[df['device_id_missing'] == 0].copy()"
   ]
  },
  {
   "cell_type": "code",
   "execution_count": 86,
   "metadata": {},
   "outputs": [],
   "source": [
    "#Sort info by device and transaction\n",
    "df_filtered = df_filtered.sort_values(by=['device_id', 'transaction_date'])\n",
    "#time diff in hours since last transaction\n",
    "df_filtered['time_since_last_transaction'] = df_filtered.groupby('device_id')['transaction_date'].diff().dt.total_seconds() /60"
   ]
  },
  {
   "cell_type": "code",
   "execution_count": 87,
   "metadata": {},
   "outputs": [
    {
     "data": {
      "text/html": [
       "<div>\n",
       "<style scoped>\n",
       "    .dataframe tbody tr th:only-of-type {\n",
       "        vertical-align: middle;\n",
       "    }\n",
       "\n",
       "    .dataframe tbody tr th {\n",
       "        vertical-align: top;\n",
       "    }\n",
       "\n",
       "    .dataframe thead th {\n",
       "        text-align: right;\n",
       "    }\n",
       "</style>\n",
       "<table border=\"1\" class=\"dataframe\">\n",
       "  <thead>\n",
       "    <tr style=\"text-align: right;\">\n",
       "      <th></th>\n",
       "      <th>transaction_id</th>\n",
       "      <th>merchant_id</th>\n",
       "      <th>user_id</th>\n",
       "      <th>card_number</th>\n",
       "      <th>transaction_date</th>\n",
       "      <th>transaction_amount</th>\n",
       "      <th>device_id</th>\n",
       "      <th>has_cbk</th>\n",
       "      <th>device_id_missing</th>\n",
       "      <th>time_since_last_transaction</th>\n",
       "    </tr>\n",
       "  </thead>\n",
       "  <tbody>\n",
       "    <tr>\n",
       "      <th>2729</th>\n",
       "      <td>21323127</td>\n",
       "      <td>33192</td>\n",
       "      <td>34548</td>\n",
       "      <td>523421******6253</td>\n",
       "      <td>2019-11-12 21:47:21.506873</td>\n",
       "      <td>241.1</td>\n",
       "      <td>2.0</td>\n",
       "      <td>0</td>\n",
       "      <td>0</td>\n",
       "      <td>NaN</td>\n",
       "    </tr>\n",
       "  </tbody>\n",
       "</table>\n",
       "</div>"
      ],
      "text/plain": [
       "      transaction_id  merchant_id  user_id       card_number  \\\n",
       "2729        21323127        33192    34548  523421******6253   \n",
       "\n",
       "               transaction_date  transaction_amount  device_id  has_cbk  \\\n",
       "2729 2019-11-12 21:47:21.506873               241.1        2.0        0   \n",
       "\n",
       "      device_id_missing  time_since_last_transaction  \n",
       "2729                  0                          NaN  "
      ]
     },
     "execution_count": 87,
     "metadata": {},
     "output_type": "execute_result"
    }
   ],
   "source": [
    "df_filtered.head(1)"
   ]
  },
  {
   "cell_type": "code",
   "execution_count": 88,
   "metadata": {},
   "outputs": [],
   "source": [
    "#se nao ha transacao antes, preencher com -1\n",
    "df_filtered['time_since_last_transaction'] = df_filtered['time_since_last_transaction'].fillna(-1)"
   ]
  },
  {
   "cell_type": "code",
   "execution_count": 89,
   "metadata": {},
   "outputs": [
    {
     "data": {
      "text/html": [
       "<div>\n",
       "<style scoped>\n",
       "    .dataframe tbody tr th:only-of-type {\n",
       "        vertical-align: middle;\n",
       "    }\n",
       "\n",
       "    .dataframe tbody tr th {\n",
       "        vertical-align: top;\n",
       "    }\n",
       "\n",
       "    .dataframe thead th {\n",
       "        text-align: right;\n",
       "    }\n",
       "</style>\n",
       "<table border=\"1\" class=\"dataframe\">\n",
       "  <thead>\n",
       "    <tr style=\"text-align: right;\">\n",
       "      <th></th>\n",
       "      <th>transaction_id</th>\n",
       "      <th>merchant_id</th>\n",
       "      <th>user_id</th>\n",
       "      <th>card_number</th>\n",
       "      <th>transaction_date</th>\n",
       "      <th>transaction_amount</th>\n",
       "      <th>device_id</th>\n",
       "      <th>has_cbk</th>\n",
       "      <th>device_id_missing</th>\n",
       "      <th>time_since_last_transaction</th>\n",
       "    </tr>\n",
       "  </thead>\n",
       "  <tbody>\n",
       "    <tr>\n",
       "      <th>2583</th>\n",
       "      <td>21322981</td>\n",
       "      <td>92441</td>\n",
       "      <td>13921</td>\n",
       "      <td>550209******6868</td>\n",
       "      <td>2019-11-16 22:37:33.291625</td>\n",
       "      <td>157.58</td>\n",
       "      <td>999683.0</td>\n",
       "      <td>0</td>\n",
       "      <td>0</td>\n",
       "      <td>-1.0</td>\n",
       "    </tr>\n",
       "    <tr>\n",
       "      <th>644</th>\n",
       "      <td>21321042</td>\n",
       "      <td>94371</td>\n",
       "      <td>33270</td>\n",
       "      <td>498406******2126</td>\n",
       "      <td>2019-11-29 15:04:49.565424</td>\n",
       "      <td>438.07</td>\n",
       "      <td>999843.0</td>\n",
       "      <td>0</td>\n",
       "      <td>0</td>\n",
       "      <td>-1.0</td>\n",
       "    </tr>\n",
       "  </tbody>\n",
       "</table>\n",
       "</div>"
      ],
      "text/plain": [
       "      transaction_id  merchant_id  user_id       card_number  \\\n",
       "2583        21322981        92441    13921  550209******6868   \n",
       "644         21321042        94371    33270  498406******2126   \n",
       "\n",
       "               transaction_date  transaction_amount  device_id  has_cbk  \\\n",
       "2583 2019-11-16 22:37:33.291625              157.58   999683.0        0   \n",
       "644  2019-11-29 15:04:49.565424              438.07   999843.0        0   \n",
       "\n",
       "      device_id_missing  time_since_last_transaction  \n",
       "2583                  0                         -1.0  \n",
       "644                   0                         -1.0  "
      ]
     },
     "execution_count": 89,
     "metadata": {},
     "output_type": "execute_result"
    }
   ],
   "source": [
    "df_filtered.tail(2)"
   ]
  },
  {
   "cell_type": "code",
   "execution_count": 90,
   "metadata": {},
   "outputs": [],
   "source": [
    "# Filtrar o DataFrame para incluir apenas os devices suspeitos\n",
    "df_suspect = df_filtered[df_filtered['device_id'].isin(device_fraud)]"
   ]
  },
  {
   "cell_type": "code",
   "execution_count": 219,
   "metadata": {},
   "outputs": [
    {
     "name": "stdout",
     "output_type": "stream",
     "text": [
      " Median time for last time transactions for bad guys 58.47 mins.\n"
     ]
    }
   ],
   "source": [
    "# media removendo os -1\n",
    "average_fraud = df_suspect[df_suspect['time_since_last_transaction'] != -1]['time_since_last_transaction'].median()\n",
    "\n",
    "# Exibir o resultado\n",
    "print(f\" Median time for last time transactions for bad guys {average_fraud:.2f} mins.\")\n",
    "#18h"
   ]
  },
  {
   "cell_type": "markdown",
   "metadata": {},
   "source": [
    "Transaction time - NON FRAUD"
   ]
  },
  {
   "cell_type": "code",
   "execution_count": 92,
   "metadata": {},
   "outputs": [
    {
     "data": {
      "text/html": [
       "<div>\n",
       "<style scoped>\n",
       "    .dataframe tbody tr th:only-of-type {\n",
       "        vertical-align: middle;\n",
       "    }\n",
       "\n",
       "    .dataframe tbody tr th {\n",
       "        vertical-align: top;\n",
       "    }\n",
       "\n",
       "    .dataframe thead th {\n",
       "        text-align: right;\n",
       "    }\n",
       "</style>\n",
       "<table border=\"1\" class=\"dataframe\">\n",
       "  <thead>\n",
       "    <tr style=\"text-align: right;\">\n",
       "      <th></th>\n",
       "      <th>transaction_id</th>\n",
       "      <th>merchant_id</th>\n",
       "      <th>user_id</th>\n",
       "      <th>card_number</th>\n",
       "      <th>transaction_date</th>\n",
       "      <th>transaction_amount</th>\n",
       "      <th>device_id</th>\n",
       "      <th>has_cbk</th>\n",
       "      <th>device_id_missing</th>\n",
       "      <th>time_since_last_transaction</th>\n",
       "    </tr>\n",
       "  </thead>\n",
       "  <tbody>\n",
       "    <tr>\n",
       "      <th>2583</th>\n",
       "      <td>21322981</td>\n",
       "      <td>92441</td>\n",
       "      <td>13921</td>\n",
       "      <td>550209******6868</td>\n",
       "      <td>2019-11-16 22:37:33.291625</td>\n",
       "      <td>157.58</td>\n",
       "      <td>999683.0</td>\n",
       "      <td>0</td>\n",
       "      <td>0</td>\n",
       "      <td>-1.0</td>\n",
       "    </tr>\n",
       "    <tr>\n",
       "      <th>644</th>\n",
       "      <td>21321042</td>\n",
       "      <td>94371</td>\n",
       "      <td>33270</td>\n",
       "      <td>498406******2126</td>\n",
       "      <td>2019-11-29 15:04:49.565424</td>\n",
       "      <td>438.07</td>\n",
       "      <td>999843.0</td>\n",
       "      <td>0</td>\n",
       "      <td>0</td>\n",
       "      <td>-1.0</td>\n",
       "    </tr>\n",
       "  </tbody>\n",
       "</table>\n",
       "</div>"
      ],
      "text/plain": [
       "      transaction_id  merchant_id  user_id       card_number  \\\n",
       "2583        21322981        92441    13921  550209******6868   \n",
       "644         21321042        94371    33270  498406******2126   \n",
       "\n",
       "               transaction_date  transaction_amount  device_id  has_cbk  \\\n",
       "2583 2019-11-16 22:37:33.291625              157.58   999683.0        0   \n",
       "644  2019-11-29 15:04:49.565424              438.07   999843.0        0   \n",
       "\n",
       "      device_id_missing  time_since_last_transaction  \n",
       "2583                  0                         -1.0  \n",
       "644                   0                         -1.0  "
      ]
     },
     "execution_count": 92,
     "metadata": {},
     "output_type": "execute_result"
    }
   ],
   "source": [
    "# ~ pode ser usado para negação! Interessante! Ou seja, os que nao estão na bandidos\n",
    "df_non_suspect = df_filtered[~df_filtered['device_id'].isin(device_fraud)]\n",
    "df_non_suspect.tail(2)"
   ]
  },
  {
   "cell_type": "code",
   "execution_count": 220,
   "metadata": {},
   "outputs": [
    {
     "name": "stdout",
     "output_type": "stream",
     "text": [
      "Median time for last time transactions for GOOD guys 199.95 mins\n"
     ]
    }
   ],
   "source": [
    "\n",
    "average_nonfraud = df_non_suspect[df_non_suspect['time_since_last_transaction'] != -1]['time_since_last_transaction'].median()\n",
    "\n",
    "# Exibir o resultado\n",
    "print(f\"Median time for last time transactions for GOOD guys {average_nonfraud:.2f} mins\")"
   ]
  },
  {
   "cell_type": "code",
   "execution_count": 94,
   "metadata": {},
   "outputs": [
    {
     "name": "stdout",
     "output_type": "stream",
     "text": [
      "999.47\n",
      "0    1\n",
      "Name: transaction_id, dtype: int64\n",
      "0    1\n",
      "Name: transaction_id, dtype: int64\n"
     ]
    }
   ],
   "source": [
    "fraud_persona_spent = median_fraud\n",
    "fraud_persona_trans = frauds_per_device.mode()\n",
    "fraud_persona_card = transaction_1card_yes_fraud.mode()\n",
    "\n",
    "print(fraud_persona_spent)\n",
    "print(fraud_persona_trans)\n",
    "print(fraud_persona_card)"
   ]
  },
  {
   "cell_type": "markdown",
   "metadata": {},
   "source": [
    "Persona Fraudster, em 1 mês: <br>\n",
    "    - USD Spent (median): 999,47; <br>\n",
    "    - # Transactions (mode): 1; <br>\n",
    "    - # Credit Card (mode): 1; <br>\n",
    "    - Ataca o vendor mais vulnerável: 17275; <br>\n",
    "    - tem o Device: 563499; <br>"
   ]
  },
  {
   "cell_type": "markdown",
   "metadata": {},
   "source": [
    "### ☝️ Conclusion Time: Median time for last time transactions for bad guys 58.47 mins. Median time for last time transactions for GOOD guys 199.95 mins\n"
   ]
  },
  {
   "cell_type": "markdown",
   "metadata": {},
   "source": [
    "# 3. Machine Learning Model:\n",
    "- Decision Tree it may be suitable because it handles with missing data (like the device); <br>\n",
    "- Deep Learning perhaps can be a good model too to handle this problem; <br>\n",
    "\n",
    "Source: <br>\n",
    "(1) https://insidelearningmachines.com/decision_trees_handle_missing_values/ <br>\n",
    "(2) https://xgboost.readthedocs.io/en/stable/faq.html"
   ]
  },
  {
   "cell_type": "markdown",
   "metadata": {},
   "source": [
    "Model checkpoints\n",
    " - Preproc;\n",
    " - Cross Validation (X_train);\n",
    " - Choose;\n",
    " - Fit;\n",
    " - Scoring Fit (X_test);\n",
    " - Learning curve;\n",
    " - Confusion matrix;"
   ]
  },
  {
   "cell_type": "code",
   "execution_count": 98,
   "metadata": {},
   "outputs": [
    {
     "data": {
      "text/html": [
       "<div>\n",
       "<style scoped>\n",
       "    .dataframe tbody tr th:only-of-type {\n",
       "        vertical-align: middle;\n",
       "    }\n",
       "\n",
       "    .dataframe tbody tr th {\n",
       "        vertical-align: top;\n",
       "    }\n",
       "\n",
       "    .dataframe thead th {\n",
       "        text-align: right;\n",
       "    }\n",
       "</style>\n",
       "<table border=\"1\" class=\"dataframe\">\n",
       "  <thead>\n",
       "    <tr style=\"text-align: right;\">\n",
       "      <th></th>\n",
       "      <th>transaction_id</th>\n",
       "      <th>merchant_id</th>\n",
       "      <th>user_id</th>\n",
       "      <th>card_number</th>\n",
       "      <th>transaction_date</th>\n",
       "      <th>transaction_amount</th>\n",
       "      <th>device_id</th>\n",
       "      <th>has_cbk</th>\n",
       "      <th>device_id_missing</th>\n",
       "    </tr>\n",
       "  </thead>\n",
       "  <tbody>\n",
       "    <tr>\n",
       "      <th>0</th>\n",
       "      <td>21320398</td>\n",
       "      <td>29744</td>\n",
       "      <td>97051</td>\n",
       "      <td>434505******9116</td>\n",
       "      <td>2019-12-01 23:16:32.812632</td>\n",
       "      <td>374.56</td>\n",
       "      <td>285475.0</td>\n",
       "      <td>0</td>\n",
       "      <td>0</td>\n",
       "    </tr>\n",
       "    <tr>\n",
       "      <th>1</th>\n",
       "      <td>21320399</td>\n",
       "      <td>92895</td>\n",
       "      <td>2708</td>\n",
       "      <td>444456******4210</td>\n",
       "      <td>2019-12-01 22:45:37.873639</td>\n",
       "      <td>734.87</td>\n",
       "      <td>497105.0</td>\n",
       "      <td>1</td>\n",
       "      <td>0</td>\n",
       "    </tr>\n",
       "    <tr>\n",
       "      <th>2</th>\n",
       "      <td>21320400</td>\n",
       "      <td>47759</td>\n",
       "      <td>14777</td>\n",
       "      <td>425850******7024</td>\n",
       "      <td>2019-12-01 22:22:43.021495</td>\n",
       "      <td>760.36</td>\n",
       "      <td>NaN</td>\n",
       "      <td>0</td>\n",
       "      <td>1</td>\n",
       "    </tr>\n",
       "    <tr>\n",
       "      <th>3</th>\n",
       "      <td>21320401</td>\n",
       "      <td>68657</td>\n",
       "      <td>69758</td>\n",
       "      <td>464296******3991</td>\n",
       "      <td>2019-12-01 21:59:19.797129</td>\n",
       "      <td>2556.13</td>\n",
       "      <td>NaN</td>\n",
       "      <td>1</td>\n",
       "      <td>1</td>\n",
       "    </tr>\n",
       "    <tr>\n",
       "      <th>4</th>\n",
       "      <td>21320402</td>\n",
       "      <td>54075</td>\n",
       "      <td>64367</td>\n",
       "      <td>650487******6116</td>\n",
       "      <td>2019-12-01 21:30:53.347051</td>\n",
       "      <td>55.36</td>\n",
       "      <td>860232.0</td>\n",
       "      <td>0</td>\n",
       "      <td>0</td>\n",
       "    </tr>\n",
       "  </tbody>\n",
       "</table>\n",
       "</div>"
      ],
      "text/plain": [
       "   transaction_id  merchant_id  user_id       card_number  \\\n",
       "0        21320398        29744    97051  434505******9116   \n",
       "1        21320399        92895     2708  444456******4210   \n",
       "2        21320400        47759    14777  425850******7024   \n",
       "3        21320401        68657    69758  464296******3991   \n",
       "4        21320402        54075    64367  650487******6116   \n",
       "\n",
       "            transaction_date  transaction_amount  device_id  has_cbk  \\\n",
       "0 2019-12-01 23:16:32.812632              374.56   285475.0        0   \n",
       "1 2019-12-01 22:45:37.873639              734.87   497105.0        1   \n",
       "2 2019-12-01 22:22:43.021495              760.36        NaN        0   \n",
       "3 2019-12-01 21:59:19.797129             2556.13        NaN        1   \n",
       "4 2019-12-01 21:30:53.347051               55.36   860232.0        0   \n",
       "\n",
       "   device_id_missing  \n",
       "0                  0  \n",
       "1                  0  \n",
       "2                  1  \n",
       "3                  1  \n",
       "4                  0  "
      ]
     },
     "execution_count": 98,
     "metadata": {},
     "output_type": "execute_result"
    }
   ],
   "source": [
    "df.head(5)"
   ]
  },
  {
   "cell_type": "markdown",
   "metadata": {},
   "source": [
    "Preproc of dataset: categorical, encoding"
   ]
  },
  {
   "cell_type": "markdown",
   "metadata": {},
   "source": [
    "Feature engineering in date"
   ]
  },
  {
   "cell_type": "code",
   "execution_count": 99,
   "metadata": {},
   "outputs": [
    {
     "data": {
      "text/html": [
       "<div>\n",
       "<style scoped>\n",
       "    .dataframe tbody tr th:only-of-type {\n",
       "        vertical-align: middle;\n",
       "    }\n",
       "\n",
       "    .dataframe tbody tr th {\n",
       "        vertical-align: top;\n",
       "    }\n",
       "\n",
       "    .dataframe thead th {\n",
       "        text-align: right;\n",
       "    }\n",
       "</style>\n",
       "<table border=\"1\" class=\"dataframe\">\n",
       "  <thead>\n",
       "    <tr style=\"text-align: right;\">\n",
       "      <th></th>\n",
       "      <th>transaction_id</th>\n",
       "      <th>merchant_id</th>\n",
       "      <th>user_id</th>\n",
       "      <th>card_number</th>\n",
       "      <th>transaction_amount</th>\n",
       "      <th>device_id</th>\n",
       "      <th>has_cbk</th>\n",
       "      <th>device_id_missing</th>\n",
       "      <th>transaction_year</th>\n",
       "      <th>transaction_month</th>\n",
       "      <th>transaction_day</th>\n",
       "      <th>transaction_day_of_week</th>\n",
       "      <th>transaction_hour</th>\n",
       "      <th>transaction_minute</th>\n",
       "      <th>transaction_second</th>\n",
       "    </tr>\n",
       "  </thead>\n",
       "  <tbody>\n",
       "    <tr>\n",
       "      <th>0</th>\n",
       "      <td>21320398</td>\n",
       "      <td>29744</td>\n",
       "      <td>97051</td>\n",
       "      <td>434505******9116</td>\n",
       "      <td>374.56</td>\n",
       "      <td>285475.0</td>\n",
       "      <td>0</td>\n",
       "      <td>0</td>\n",
       "      <td>2019</td>\n",
       "      <td>12</td>\n",
       "      <td>1</td>\n",
       "      <td>6</td>\n",
       "      <td>23</td>\n",
       "      <td>16</td>\n",
       "      <td>32</td>\n",
       "    </tr>\n",
       "    <tr>\n",
       "      <th>1</th>\n",
       "      <td>21320399</td>\n",
       "      <td>92895</td>\n",
       "      <td>2708</td>\n",
       "      <td>444456******4210</td>\n",
       "      <td>734.87</td>\n",
       "      <td>497105.0</td>\n",
       "      <td>1</td>\n",
       "      <td>0</td>\n",
       "      <td>2019</td>\n",
       "      <td>12</td>\n",
       "      <td>1</td>\n",
       "      <td>6</td>\n",
       "      <td>22</td>\n",
       "      <td>45</td>\n",
       "      <td>37</td>\n",
       "    </tr>\n",
       "  </tbody>\n",
       "</table>\n",
       "</div>"
      ],
      "text/plain": [
       "   transaction_id  merchant_id  user_id       card_number  transaction_amount  \\\n",
       "0        21320398        29744    97051  434505******9116              374.56   \n",
       "1        21320399        92895     2708  444456******4210              734.87   \n",
       "\n",
       "   device_id  has_cbk  device_id_missing  transaction_year  transaction_month  \\\n",
       "0   285475.0        0                  0              2019                 12   \n",
       "1   497105.0        1                  0              2019                 12   \n",
       "\n",
       "   transaction_day  transaction_day_of_week  transaction_hour  \\\n",
       "0                1                        6                23   \n",
       "1                1                        6                22   \n",
       "\n",
       "   transaction_minute  transaction_second  \n",
       "0                  16                  32  \n",
       "1                  45                  37  "
      ]
     },
     "execution_count": 99,
     "metadata": {},
     "output_type": "execute_result"
    }
   ],
   "source": [
    "df['transaction_year'] = df['transaction_date'].dt.year\n",
    "df['transaction_month'] = df['transaction_date'].dt.month\n",
    "df['transaction_day'] = df['transaction_date'].dt.day\n",
    "df['transaction_day_of_week'] = df['transaction_date'].dt.dayofweek  #(0=monday, 6=sunday)\n",
    "df['transaction_hour'] = df['transaction_date'].dt.hour\n",
    "df['transaction_minute'] = df['transaction_date'].dt.minute\n",
    "df['transaction_second'] = df['transaction_date'].dt.second\n",
    "df = df.drop('transaction_date', axis=1)\n",
    "\n",
    "df.head(2)"
   ]
  },
  {
   "cell_type": "code",
   "execution_count": 100,
   "metadata": {},
   "outputs": [
    {
     "data": {
      "text/html": [
       "<div>\n",
       "<style scoped>\n",
       "    .dataframe tbody tr th:only-of-type {\n",
       "        vertical-align: middle;\n",
       "    }\n",
       "\n",
       "    .dataframe tbody tr th {\n",
       "        vertical-align: top;\n",
       "    }\n",
       "\n",
       "    .dataframe thead th {\n",
       "        text-align: right;\n",
       "    }\n",
       "</style>\n",
       "<table border=\"1\" class=\"dataframe\">\n",
       "  <thead>\n",
       "    <tr style=\"text-align: right;\">\n",
       "      <th></th>\n",
       "      <th>transaction_id</th>\n",
       "      <th>merchant_id</th>\n",
       "      <th>user_id</th>\n",
       "      <th>card_number</th>\n",
       "      <th>transaction_amount</th>\n",
       "      <th>device_id</th>\n",
       "      <th>has_cbk</th>\n",
       "      <th>device_id_missing</th>\n",
       "      <th>transaction_year</th>\n",
       "      <th>transaction_month</th>\n",
       "      <th>transaction_day</th>\n",
       "      <th>transaction_day_of_week</th>\n",
       "      <th>transaction_hour</th>\n",
       "      <th>transaction_minute</th>\n",
       "      <th>transaction_second</th>\n",
       "    </tr>\n",
       "  </thead>\n",
       "  <tbody>\n",
       "    <tr>\n",
       "      <th>3198</th>\n",
       "      <td>21323596</td>\n",
       "      <td>17348</td>\n",
       "      <td>8</td>\n",
       "      <td>650487******9884</td>\n",
       "      <td>2416.7</td>\n",
       "      <td>NaN</td>\n",
       "      <td>0</td>\n",
       "      <td>1</td>\n",
       "      <td>2019</td>\n",
       "      <td>11</td>\n",
       "      <td>1</td>\n",
       "      <td>4</td>\n",
       "      <td>1</td>\n",
       "      <td>27</td>\n",
       "      <td>15</td>\n",
       "    </tr>\n",
       "  </tbody>\n",
       "</table>\n",
       "</div>"
      ],
      "text/plain": [
       "      transaction_id  merchant_id  user_id       card_number  \\\n",
       "3198        21323596        17348        8  650487******9884   \n",
       "\n",
       "      transaction_amount  device_id  has_cbk  device_id_missing  \\\n",
       "3198              2416.7        NaN        0                  1   \n",
       "\n",
       "      transaction_year  transaction_month  transaction_day  \\\n",
       "3198              2019                 11                1   \n",
       "\n",
       "      transaction_day_of_week  transaction_hour  transaction_minute  \\\n",
       "3198                        4                 1                  27   \n",
       "\n",
       "      transaction_second  \n",
       "3198                  15  "
      ]
     },
     "execution_count": 100,
     "metadata": {},
     "output_type": "execute_result"
    }
   ],
   "source": [
    "df.tail(1)"
   ]
  },
  {
   "cell_type": "markdown",
   "metadata": {},
   "source": [
    "Editing card number to remove ****"
   ]
  },
  {
   "cell_type": "code",
   "execution_count": 101,
   "metadata": {},
   "outputs": [
    {
     "data": {
      "text/html": [
       "<div>\n",
       "<style scoped>\n",
       "    .dataframe tbody tr th:only-of-type {\n",
       "        vertical-align: middle;\n",
       "    }\n",
       "\n",
       "    .dataframe tbody tr th {\n",
       "        vertical-align: top;\n",
       "    }\n",
       "\n",
       "    .dataframe thead th {\n",
       "        text-align: right;\n",
       "    }\n",
       "</style>\n",
       "<table border=\"1\" class=\"dataframe\">\n",
       "  <thead>\n",
       "    <tr style=\"text-align: right;\">\n",
       "      <th></th>\n",
       "      <th>transaction_id</th>\n",
       "      <th>merchant_id</th>\n",
       "      <th>user_id</th>\n",
       "      <th>card_number</th>\n",
       "      <th>transaction_amount</th>\n",
       "      <th>device_id</th>\n",
       "      <th>has_cbk</th>\n",
       "      <th>device_id_missing</th>\n",
       "      <th>transaction_year</th>\n",
       "      <th>transaction_month</th>\n",
       "      <th>transaction_day</th>\n",
       "      <th>transaction_day_of_week</th>\n",
       "      <th>transaction_hour</th>\n",
       "      <th>transaction_minute</th>\n",
       "      <th>transaction_second</th>\n",
       "    </tr>\n",
       "  </thead>\n",
       "  <tbody>\n",
       "    <tr>\n",
       "      <th>3198</th>\n",
       "      <td>21323596</td>\n",
       "      <td>17348</td>\n",
       "      <td>8</td>\n",
       "      <td>6.504880e+09</td>\n",
       "      <td>2416.7</td>\n",
       "      <td>NaN</td>\n",
       "      <td>0</td>\n",
       "      <td>1</td>\n",
       "      <td>2019</td>\n",
       "      <td>11</td>\n",
       "      <td>1</td>\n",
       "      <td>4</td>\n",
       "      <td>1</td>\n",
       "      <td>27</td>\n",
       "      <td>15</td>\n",
       "    </tr>\n",
       "  </tbody>\n",
       "</table>\n",
       "</div>"
      ],
      "text/plain": [
       "      transaction_id  merchant_id  user_id   card_number  transaction_amount  \\\n",
       "3198        21323596        17348        8  6.504880e+09              2416.7   \n",
       "\n",
       "      device_id  has_cbk  device_id_missing  transaction_year  \\\n",
       "3198        NaN        0                  1              2019   \n",
       "\n",
       "      transaction_month  transaction_day  transaction_day_of_week  \\\n",
       "3198                 11                1                        4   \n",
       "\n",
       "      transaction_hour  transaction_minute  transaction_second  \n",
       "3198                 1                  27                  15  "
      ]
     },
     "execution_count": 101,
     "metadata": {},
     "output_type": "execute_result"
    }
   ],
   "source": [
    "df[\"card_number\"] = df[\"card_number\"].apply(lambda x: ''.join(x.split(\"******\"))).astype(float)\n",
    "df.tail(1)"
   ]
  },
  {
   "cell_type": "code",
   "execution_count": 102,
   "metadata": {},
   "outputs": [],
   "source": [
    "# Preproc Notes:\n",
    "# Despite of no specific conclusion in dataviz for time in transaction, I will feature engineering and split here the date for possible ML enhancement - won't use time series;\n",
    "# Since the device_id it is important, I have decided not to drop it and make a feature engineering creating a categorical device_id_missing to enhance the model\n",
    "# Despite of all other features are categorical, I won't label encode them because of the huge amount of unique cat"
   ]
  },
  {
   "cell_type": "markdown",
   "metadata": {},
   "source": [
    "Scaling of the dataset"
   ]
  },
  {
   "cell_type": "markdown",
   "metadata": {},
   "source": [
    "- Only on the transaction amount"
   ]
  },
  {
   "cell_type": "code",
   "execution_count": 103,
   "metadata": {},
   "outputs": [
    {
     "data": {
      "text/html": [
       "<div>\n",
       "<style scoped>\n",
       "    .dataframe tbody tr th:only-of-type {\n",
       "        vertical-align: middle;\n",
       "    }\n",
       "\n",
       "    .dataframe tbody tr th {\n",
       "        vertical-align: top;\n",
       "    }\n",
       "\n",
       "    .dataframe thead th {\n",
       "        text-align: right;\n",
       "    }\n",
       "</style>\n",
       "<table border=\"1\" class=\"dataframe\">\n",
       "  <thead>\n",
       "    <tr style=\"text-align: right;\">\n",
       "      <th></th>\n",
       "      <th>transaction_id</th>\n",
       "      <th>merchant_id</th>\n",
       "      <th>user_id</th>\n",
       "      <th>card_number</th>\n",
       "      <th>device_id</th>\n",
       "      <th>has_cbk</th>\n",
       "      <th>device_id_missing</th>\n",
       "      <th>transaction_year</th>\n",
       "      <th>transaction_month</th>\n",
       "      <th>transaction_day</th>\n",
       "      <th>transaction_day_of_week</th>\n",
       "      <th>transaction_hour</th>\n",
       "      <th>transaction_minute</th>\n",
       "      <th>transaction_second</th>\n",
       "      <th>transaction_scaled</th>\n",
       "    </tr>\n",
       "  </thead>\n",
       "  <tbody>\n",
       "    <tr>\n",
       "      <th>3198</th>\n",
       "      <td>21323596</td>\n",
       "      <td>17348</td>\n",
       "      <td>8</td>\n",
       "      <td>6.504880e+09</td>\n",
       "      <td>NaN</td>\n",
       "      <td>0</td>\n",
       "      <td>1</td>\n",
       "      <td>2019</td>\n",
       "      <td>11</td>\n",
       "      <td>1</td>\n",
       "      <td>4</td>\n",
       "      <td>1</td>\n",
       "      <td>27</td>\n",
       "      <td>15</td>\n",
       "      <td>1.854856</td>\n",
       "    </tr>\n",
       "  </tbody>\n",
       "</table>\n",
       "</div>"
      ],
      "text/plain": [
       "      transaction_id  merchant_id  user_id   card_number  device_id  has_cbk  \\\n",
       "3198        21323596        17348        8  6.504880e+09        NaN        0   \n",
       "\n",
       "      device_id_missing  transaction_year  transaction_month  transaction_day  \\\n",
       "3198                  1              2019                 11                1   \n",
       "\n",
       "      transaction_day_of_week  transaction_hour  transaction_minute  \\\n",
       "3198                        4                 1                  27   \n",
       "\n",
       "      transaction_second  transaction_scaled  \n",
       "3198                  15            1.854856  "
      ]
     },
     "execution_count": 103,
     "metadata": {},
     "output_type": "execute_result"
    }
   ],
   "source": [
    "scaler = StandardScaler()\n",
    "df['transaction_scaled'] = scaler.fit_transform(df[['transaction_amount']])\n",
    "df = df.drop('transaction_amount', axis=1)\n",
    "df.tail(1)"
   ]
  },
  {
   "cell_type": "code",
   "execution_count": 135,
   "metadata": {},
   "outputs": [],
   "source": [
    "X = df.drop('has_cbk', axis=1).values\n",
    "#X = df.drop(['has_cbk', 'device_id_missing', 'device_id'], axis=1).values\n",
    "y = df[\"has_cbk\"]"
   ]
  },
  {
   "cell_type": "code",
   "execution_count": 137,
   "metadata": {},
   "outputs": [],
   "source": [
    "# from imblearn.over_sampling import SMOTE\n",
    "\n",
    "# smote = SMOTE(random_state=42)\n",
    "# X_balanced, y_balanced = smote.fit_resample(X, y)"
   ]
  },
  {
   "cell_type": "code",
   "execution_count": 138,
   "metadata": {},
   "outputs": [],
   "source": [
    "X_train, X_test, y_train, y_test = train_test_split(X, y, test_size=0.3, random_state=42)\n",
    "#X_train, X_test, y_train, y_test = train_test_split(X_balanced, y_balanced, test_size=0.3, random_state=42)"
   ]
  },
  {
   "cell_type": "code",
   "execution_count": 108,
   "metadata": {},
   "outputs": [
    {
     "data": {
      "text/plain": [
       "{'fit_time': array([0.52663732, 0.48108101, 0.55679393, 0.48470569, 0.51748896]),\n",
       " 'score_time': array([0.01003408, 0.00934768, 0.00949764, 0.01176047, 0.00988436]),\n",
       " 'test_score': array([0.91867853, 0.9351145 , 0.94529262, 0.94274809, 0.94783715])}"
      ]
     },
     "execution_count": 108,
     "metadata": {},
     "output_type": "execute_result"
    }
   ],
   "source": [
    "model_random = RandomForestClassifier(random_state=42, class_weight='balanced')\n",
    "cv_results = cross_validate(model_random, X_train, y_train, cv=5, scoring='accuracy')\n",
    "cv_results"
   ]
  },
  {
   "cell_type": "code",
   "execution_count": 109,
   "metadata": {},
   "outputs": [
    {
     "data": {
      "text/plain": [
       "np.float64(0.9379341784920996)"
      ]
     },
     "execution_count": 109,
     "metadata": {},
     "output_type": "execute_result"
    }
   ],
   "source": [
    "cv_results[\"test_score\"].mean()"
   ]
  },
  {
   "cell_type": "code",
   "execution_count": 110,
   "metadata": {},
   "outputs": [
    {
     "data": {
      "text/plain": [
       "np.float64(0.8552537901199841)"
      ]
     },
     "execution_count": 110,
     "metadata": {},
     "output_type": "execute_result"
    }
   ],
   "source": [
    "model_decision = DecisionTreeClassifier(random_state=42, class_weight='balanced')\n",
    "cv_results_2 = cross_validate(model_decision, X_train, y_train, cv=5, scoring='accuracy')\n",
    "cv_results_2[\"test_score\"].mean()"
   ]
  },
  {
   "cell_type": "code",
   "execution_count": 217,
   "metadata": {},
   "outputs": [
    {
     "data": {
      "text/html": [
       "<style>#sk-container-id-1 {\n",
       "  /* Definition of color scheme common for light and dark mode */\n",
       "  --sklearn-color-text: black;\n",
       "  --sklearn-color-line: gray;\n",
       "  /* Definition of color scheme for unfitted estimators */\n",
       "  --sklearn-color-unfitted-level-0: #fff5e6;\n",
       "  --sklearn-color-unfitted-level-1: #f6e4d2;\n",
       "  --sklearn-color-unfitted-level-2: #ffe0b3;\n",
       "  --sklearn-color-unfitted-level-3: chocolate;\n",
       "  /* Definition of color scheme for fitted estimators */\n",
       "  --sklearn-color-fitted-level-0: #f0f8ff;\n",
       "  --sklearn-color-fitted-level-1: #d4ebff;\n",
       "  --sklearn-color-fitted-level-2: #b3dbfd;\n",
       "  --sklearn-color-fitted-level-3: cornflowerblue;\n",
       "\n",
       "  /* Specific color for light theme */\n",
       "  --sklearn-color-text-on-default-background: var(--sg-text-color, var(--theme-code-foreground, var(--jp-content-font-color1, black)));\n",
       "  --sklearn-color-background: var(--sg-background-color, var(--theme-background, var(--jp-layout-color0, white)));\n",
       "  --sklearn-color-border-box: var(--sg-text-color, var(--theme-code-foreground, var(--jp-content-font-color1, black)));\n",
       "  --sklearn-color-icon: #696969;\n",
       "\n",
       "  @media (prefers-color-scheme: dark) {\n",
       "    /* Redefinition of color scheme for dark theme */\n",
       "    --sklearn-color-text-on-default-background: var(--sg-text-color, var(--theme-code-foreground, var(--jp-content-font-color1, white)));\n",
       "    --sklearn-color-background: var(--sg-background-color, var(--theme-background, var(--jp-layout-color0, #111)));\n",
       "    --sklearn-color-border-box: var(--sg-text-color, var(--theme-code-foreground, var(--jp-content-font-color1, white)));\n",
       "    --sklearn-color-icon: #878787;\n",
       "  }\n",
       "}\n",
       "\n",
       "#sk-container-id-1 {\n",
       "  color: var(--sklearn-color-text);\n",
       "}\n",
       "\n",
       "#sk-container-id-1 pre {\n",
       "  padding: 0;\n",
       "}\n",
       "\n",
       "#sk-container-id-1 input.sk-hidden--visually {\n",
       "  border: 0;\n",
       "  clip: rect(1px 1px 1px 1px);\n",
       "  clip: rect(1px, 1px, 1px, 1px);\n",
       "  height: 1px;\n",
       "  margin: -1px;\n",
       "  overflow: hidden;\n",
       "  padding: 0;\n",
       "  position: absolute;\n",
       "  width: 1px;\n",
       "}\n",
       "\n",
       "#sk-container-id-1 div.sk-dashed-wrapped {\n",
       "  border: 1px dashed var(--sklearn-color-line);\n",
       "  margin: 0 0.4em 0.5em 0.4em;\n",
       "  box-sizing: border-box;\n",
       "  padding-bottom: 0.4em;\n",
       "  background-color: var(--sklearn-color-background);\n",
       "}\n",
       "\n",
       "#sk-container-id-1 div.sk-container {\n",
       "  /* jupyter's `normalize.less` sets `[hidden] { display: none; }`\n",
       "     but bootstrap.min.css set `[hidden] { display: none !important; }`\n",
       "     so we also need the `!important` here to be able to override the\n",
       "     default hidden behavior on the sphinx rendered scikit-learn.org.\n",
       "     See: https://github.com/scikit-learn/scikit-learn/issues/21755 */\n",
       "  display: inline-block !important;\n",
       "  position: relative;\n",
       "}\n",
       "\n",
       "#sk-container-id-1 div.sk-text-repr-fallback {\n",
       "  display: none;\n",
       "}\n",
       "\n",
       "div.sk-parallel-item,\n",
       "div.sk-serial,\n",
       "div.sk-item {\n",
       "  /* draw centered vertical line to link estimators */\n",
       "  background-image: linear-gradient(var(--sklearn-color-text-on-default-background), var(--sklearn-color-text-on-default-background));\n",
       "  background-size: 2px 100%;\n",
       "  background-repeat: no-repeat;\n",
       "  background-position: center center;\n",
       "}\n",
       "\n",
       "/* Parallel-specific style estimator block */\n",
       "\n",
       "#sk-container-id-1 div.sk-parallel-item::after {\n",
       "  content: \"\";\n",
       "  width: 100%;\n",
       "  border-bottom: 2px solid var(--sklearn-color-text-on-default-background);\n",
       "  flex-grow: 1;\n",
       "}\n",
       "\n",
       "#sk-container-id-1 div.sk-parallel {\n",
       "  display: flex;\n",
       "  align-items: stretch;\n",
       "  justify-content: center;\n",
       "  background-color: var(--sklearn-color-background);\n",
       "  position: relative;\n",
       "}\n",
       "\n",
       "#sk-container-id-1 div.sk-parallel-item {\n",
       "  display: flex;\n",
       "  flex-direction: column;\n",
       "}\n",
       "\n",
       "#sk-container-id-1 div.sk-parallel-item:first-child::after {\n",
       "  align-self: flex-end;\n",
       "  width: 50%;\n",
       "}\n",
       "\n",
       "#sk-container-id-1 div.sk-parallel-item:last-child::after {\n",
       "  align-self: flex-start;\n",
       "  width: 50%;\n",
       "}\n",
       "\n",
       "#sk-container-id-1 div.sk-parallel-item:only-child::after {\n",
       "  width: 0;\n",
       "}\n",
       "\n",
       "/* Serial-specific style estimator block */\n",
       "\n",
       "#sk-container-id-1 div.sk-serial {\n",
       "  display: flex;\n",
       "  flex-direction: column;\n",
       "  align-items: center;\n",
       "  background-color: var(--sklearn-color-background);\n",
       "  padding-right: 1em;\n",
       "  padding-left: 1em;\n",
       "}\n",
       "\n",
       "\n",
       "/* Toggleable style: style used for estimator/Pipeline/ColumnTransformer box that is\n",
       "clickable and can be expanded/collapsed.\n",
       "- Pipeline and ColumnTransformer use this feature and define the default style\n",
       "- Estimators will overwrite some part of the style using the `sk-estimator` class\n",
       "*/\n",
       "\n",
       "/* Pipeline and ColumnTransformer style (default) */\n",
       "\n",
       "#sk-container-id-1 div.sk-toggleable {\n",
       "  /* Default theme specific background. It is overwritten whether we have a\n",
       "  specific estimator or a Pipeline/ColumnTransformer */\n",
       "  background-color: var(--sklearn-color-background);\n",
       "}\n",
       "\n",
       "/* Toggleable label */\n",
       "#sk-container-id-1 label.sk-toggleable__label {\n",
       "  cursor: pointer;\n",
       "  display: block;\n",
       "  width: 100%;\n",
       "  margin-bottom: 0;\n",
       "  padding: 0.5em;\n",
       "  box-sizing: border-box;\n",
       "  text-align: center;\n",
       "}\n",
       "\n",
       "#sk-container-id-1 label.sk-toggleable__label-arrow:before {\n",
       "  /* Arrow on the left of the label */\n",
       "  content: \"▸\";\n",
       "  float: left;\n",
       "  margin-right: 0.25em;\n",
       "  color: var(--sklearn-color-icon);\n",
       "}\n",
       "\n",
       "#sk-container-id-1 label.sk-toggleable__label-arrow:hover:before {\n",
       "  color: var(--sklearn-color-text);\n",
       "}\n",
       "\n",
       "/* Toggleable content - dropdown */\n",
       "\n",
       "#sk-container-id-1 div.sk-toggleable__content {\n",
       "  max-height: 0;\n",
       "  max-width: 0;\n",
       "  overflow: hidden;\n",
       "  text-align: left;\n",
       "  /* unfitted */\n",
       "  background-color: var(--sklearn-color-unfitted-level-0);\n",
       "}\n",
       "\n",
       "#sk-container-id-1 div.sk-toggleable__content.fitted {\n",
       "  /* fitted */\n",
       "  background-color: var(--sklearn-color-fitted-level-0);\n",
       "}\n",
       "\n",
       "#sk-container-id-1 div.sk-toggleable__content pre {\n",
       "  margin: 0.2em;\n",
       "  border-radius: 0.25em;\n",
       "  color: var(--sklearn-color-text);\n",
       "  /* unfitted */\n",
       "  background-color: var(--sklearn-color-unfitted-level-0);\n",
       "}\n",
       "\n",
       "#sk-container-id-1 div.sk-toggleable__content.fitted pre {\n",
       "  /* unfitted */\n",
       "  background-color: var(--sklearn-color-fitted-level-0);\n",
       "}\n",
       "\n",
       "#sk-container-id-1 input.sk-toggleable__control:checked~div.sk-toggleable__content {\n",
       "  /* Expand drop-down */\n",
       "  max-height: 200px;\n",
       "  max-width: 100%;\n",
       "  overflow: auto;\n",
       "}\n",
       "\n",
       "#sk-container-id-1 input.sk-toggleable__control:checked~label.sk-toggleable__label-arrow:before {\n",
       "  content: \"▾\";\n",
       "}\n",
       "\n",
       "/* Pipeline/ColumnTransformer-specific style */\n",
       "\n",
       "#sk-container-id-1 div.sk-label input.sk-toggleable__control:checked~label.sk-toggleable__label {\n",
       "  color: var(--sklearn-color-text);\n",
       "  background-color: var(--sklearn-color-unfitted-level-2);\n",
       "}\n",
       "\n",
       "#sk-container-id-1 div.sk-label.fitted input.sk-toggleable__control:checked~label.sk-toggleable__label {\n",
       "  background-color: var(--sklearn-color-fitted-level-2);\n",
       "}\n",
       "\n",
       "/* Estimator-specific style */\n",
       "\n",
       "/* Colorize estimator box */\n",
       "#sk-container-id-1 div.sk-estimator input.sk-toggleable__control:checked~label.sk-toggleable__label {\n",
       "  /* unfitted */\n",
       "  background-color: var(--sklearn-color-unfitted-level-2);\n",
       "}\n",
       "\n",
       "#sk-container-id-1 div.sk-estimator.fitted input.sk-toggleable__control:checked~label.sk-toggleable__label {\n",
       "  /* fitted */\n",
       "  background-color: var(--sklearn-color-fitted-level-2);\n",
       "}\n",
       "\n",
       "#sk-container-id-1 div.sk-label label.sk-toggleable__label,\n",
       "#sk-container-id-1 div.sk-label label {\n",
       "  /* The background is the default theme color */\n",
       "  color: var(--sklearn-color-text-on-default-background);\n",
       "}\n",
       "\n",
       "/* On hover, darken the color of the background */\n",
       "#sk-container-id-1 div.sk-label:hover label.sk-toggleable__label {\n",
       "  color: var(--sklearn-color-text);\n",
       "  background-color: var(--sklearn-color-unfitted-level-2);\n",
       "}\n",
       "\n",
       "/* Label box, darken color on hover, fitted */\n",
       "#sk-container-id-1 div.sk-label.fitted:hover label.sk-toggleable__label.fitted {\n",
       "  color: var(--sklearn-color-text);\n",
       "  background-color: var(--sklearn-color-fitted-level-2);\n",
       "}\n",
       "\n",
       "/* Estimator label */\n",
       "\n",
       "#sk-container-id-1 div.sk-label label {\n",
       "  font-family: monospace;\n",
       "  font-weight: bold;\n",
       "  display: inline-block;\n",
       "  line-height: 1.2em;\n",
       "}\n",
       "\n",
       "#sk-container-id-1 div.sk-label-container {\n",
       "  text-align: center;\n",
       "}\n",
       "\n",
       "/* Estimator-specific */\n",
       "#sk-container-id-1 div.sk-estimator {\n",
       "  font-family: monospace;\n",
       "  border: 1px dotted var(--sklearn-color-border-box);\n",
       "  border-radius: 0.25em;\n",
       "  box-sizing: border-box;\n",
       "  margin-bottom: 0.5em;\n",
       "  /* unfitted */\n",
       "  background-color: var(--sklearn-color-unfitted-level-0);\n",
       "}\n",
       "\n",
       "#sk-container-id-1 div.sk-estimator.fitted {\n",
       "  /* fitted */\n",
       "  background-color: var(--sklearn-color-fitted-level-0);\n",
       "}\n",
       "\n",
       "/* on hover */\n",
       "#sk-container-id-1 div.sk-estimator:hover {\n",
       "  /* unfitted */\n",
       "  background-color: var(--sklearn-color-unfitted-level-2);\n",
       "}\n",
       "\n",
       "#sk-container-id-1 div.sk-estimator.fitted:hover {\n",
       "  /* fitted */\n",
       "  background-color: var(--sklearn-color-fitted-level-2);\n",
       "}\n",
       "\n",
       "/* Specification for estimator info (e.g. \"i\" and \"?\") */\n",
       "\n",
       "/* Common style for \"i\" and \"?\" */\n",
       "\n",
       ".sk-estimator-doc-link,\n",
       "a:link.sk-estimator-doc-link,\n",
       "a:visited.sk-estimator-doc-link {\n",
       "  float: right;\n",
       "  font-size: smaller;\n",
       "  line-height: 1em;\n",
       "  font-family: monospace;\n",
       "  background-color: var(--sklearn-color-background);\n",
       "  border-radius: 1em;\n",
       "  height: 1em;\n",
       "  width: 1em;\n",
       "  text-decoration: none !important;\n",
       "  margin-left: 1ex;\n",
       "  /* unfitted */\n",
       "  border: var(--sklearn-color-unfitted-level-1) 1pt solid;\n",
       "  color: var(--sklearn-color-unfitted-level-1);\n",
       "}\n",
       "\n",
       ".sk-estimator-doc-link.fitted,\n",
       "a:link.sk-estimator-doc-link.fitted,\n",
       "a:visited.sk-estimator-doc-link.fitted {\n",
       "  /* fitted */\n",
       "  border: var(--sklearn-color-fitted-level-1) 1pt solid;\n",
       "  color: var(--sklearn-color-fitted-level-1);\n",
       "}\n",
       "\n",
       "/* On hover */\n",
       "div.sk-estimator:hover .sk-estimator-doc-link:hover,\n",
       ".sk-estimator-doc-link:hover,\n",
       "div.sk-label-container:hover .sk-estimator-doc-link:hover,\n",
       ".sk-estimator-doc-link:hover {\n",
       "  /* unfitted */\n",
       "  background-color: var(--sklearn-color-unfitted-level-3);\n",
       "  color: var(--sklearn-color-background);\n",
       "  text-decoration: none;\n",
       "}\n",
       "\n",
       "div.sk-estimator.fitted:hover .sk-estimator-doc-link.fitted:hover,\n",
       ".sk-estimator-doc-link.fitted:hover,\n",
       "div.sk-label-container:hover .sk-estimator-doc-link.fitted:hover,\n",
       ".sk-estimator-doc-link.fitted:hover {\n",
       "  /* fitted */\n",
       "  background-color: var(--sklearn-color-fitted-level-3);\n",
       "  color: var(--sklearn-color-background);\n",
       "  text-decoration: none;\n",
       "}\n",
       "\n",
       "/* Span, style for the box shown on hovering the info icon */\n",
       ".sk-estimator-doc-link span {\n",
       "  display: none;\n",
       "  z-index: 9999;\n",
       "  position: relative;\n",
       "  font-weight: normal;\n",
       "  right: .2ex;\n",
       "  padding: .5ex;\n",
       "  margin: .5ex;\n",
       "  width: min-content;\n",
       "  min-width: 20ex;\n",
       "  max-width: 50ex;\n",
       "  color: var(--sklearn-color-text);\n",
       "  box-shadow: 2pt 2pt 4pt #999;\n",
       "  /* unfitted */\n",
       "  background: var(--sklearn-color-unfitted-level-0);\n",
       "  border: .5pt solid var(--sklearn-color-unfitted-level-3);\n",
       "}\n",
       "\n",
       ".sk-estimator-doc-link.fitted span {\n",
       "  /* fitted */\n",
       "  background: var(--sklearn-color-fitted-level-0);\n",
       "  border: var(--sklearn-color-fitted-level-3);\n",
       "}\n",
       "\n",
       ".sk-estimator-doc-link:hover span {\n",
       "  display: block;\n",
       "}\n",
       "\n",
       "/* \"?\"-specific style due to the `<a>` HTML tag */\n",
       "\n",
       "#sk-container-id-1 a.estimator_doc_link {\n",
       "  float: right;\n",
       "  font-size: 1rem;\n",
       "  line-height: 1em;\n",
       "  font-family: monospace;\n",
       "  background-color: var(--sklearn-color-background);\n",
       "  border-radius: 1rem;\n",
       "  height: 1rem;\n",
       "  width: 1rem;\n",
       "  text-decoration: none;\n",
       "  /* unfitted */\n",
       "  color: var(--sklearn-color-unfitted-level-1);\n",
       "  border: var(--sklearn-color-unfitted-level-1) 1pt solid;\n",
       "}\n",
       "\n",
       "#sk-container-id-1 a.estimator_doc_link.fitted {\n",
       "  /* fitted */\n",
       "  border: var(--sklearn-color-fitted-level-1) 1pt solid;\n",
       "  color: var(--sklearn-color-fitted-level-1);\n",
       "}\n",
       "\n",
       "/* On hover */\n",
       "#sk-container-id-1 a.estimator_doc_link:hover {\n",
       "  /* unfitted */\n",
       "  background-color: var(--sklearn-color-unfitted-level-3);\n",
       "  color: var(--sklearn-color-background);\n",
       "  text-decoration: none;\n",
       "}\n",
       "\n",
       "#sk-container-id-1 a.estimator_doc_link.fitted:hover {\n",
       "  /* fitted */\n",
       "  background-color: var(--sklearn-color-fitted-level-3);\n",
       "}\n",
       "</style><div id=\"sk-container-id-1\" class=\"sk-top-container\"><div class=\"sk-text-repr-fallback\"><pre>DecisionTreeClassifier(class_weight=&#x27;balanced&#x27;, random_state=42)</pre><b>In a Jupyter environment, please rerun this cell to show the HTML representation or trust the notebook. <br />On GitHub, the HTML representation is unable to render, please try loading this page with nbviewer.org.</b></div><div class=\"sk-container\" hidden><div class=\"sk-item\"><div class=\"sk-estimator fitted sk-toggleable\"><input class=\"sk-toggleable__control sk-hidden--visually\" id=\"sk-estimator-id-1\" type=\"checkbox\" checked><label for=\"sk-estimator-id-1\" class=\"sk-toggleable__label fitted sk-toggleable__label-arrow fitted\">&nbsp;&nbsp;DecisionTreeClassifier<a class=\"sk-estimator-doc-link fitted\" rel=\"noreferrer\" target=\"_blank\" href=\"https://scikit-learn.org/1.5/modules/generated/sklearn.tree.DecisionTreeClassifier.html\">?<span>Documentation for DecisionTreeClassifier</span></a><span class=\"sk-estimator-doc-link fitted\">i<span>Fitted</span></span></label><div class=\"sk-toggleable__content fitted\"><pre>DecisionTreeClassifier(class_weight=&#x27;balanced&#x27;, random_state=42)</pre></div> </div></div></div></div>"
      ],
      "text/plain": [
       "DecisionTreeClassifier(class_weight='balanced', random_state=42)"
      ]
     },
     "execution_count": 217,
     "metadata": {},
     "output_type": "execute_result"
    }
   ],
   "source": [
    "# model_decision.fit(X_train, y_train)"
   ]
  },
  {
   "cell_type": "code",
   "execution_count": 139,
   "metadata": {},
   "outputs": [
    {
     "data": {
      "text/plain": [
       "7.181585677749361"
      ]
     },
     "execution_count": 139,
     "metadata": {},
     "output_type": "execute_result"
    }
   ],
   "source": [
    "num_0 = len(y[y == 0])\n",
    "num_1 = len(y[y == 1]) #inverso do minoritário sobre o majoritario\n",
    "scale_pos_weight = num_0 / num_1\n",
    "scale_pos_weight"
   ]
  },
  {
   "cell_type": "code",
   "execution_count": 111,
   "metadata": {},
   "outputs": [
    {
     "data": {
      "text/plain": [
       "np.float64(0.9537002369936403)"
      ]
     },
     "execution_count": 111,
     "metadata": {},
     "output_type": "execute_result"
    }
   ],
   "source": [
    "#model_xgb = XGBClassifier(random_state=42, scale_pos_weight=scale_pos_weight, missing=np.nan)\n",
    "model_xgb = XGBClassifier(random_state=42)\n",
    "cv_results_3 = cross_validate(model_xgb, X_train, y_train, cv=5, scoring='accuracy')\n",
    "cv_results_3[\"test_score\"].mean()"
   ]
  },
  {
   "cell_type": "code",
   "execution_count": 112,
   "metadata": {},
   "outputs": [
    {
     "data": {
      "text/plain": [
       "np.float64(0.9537002369936403)"
      ]
     },
     "execution_count": 112,
     "metadata": {},
     "output_type": "execute_result"
    }
   ],
   "source": [
    "model_log = LogisticRegression(max_iter=1000, solver='lbfgs', random_state=42)\n",
    "cv_results_4 = cross_validate(model_log, X_train, y_train, cv=5, scoring='accuracy')\n",
    "cv_results_3[\"test_score\"].mean()"
   ]
  },
  {
   "cell_type": "code",
   "execution_count": 113,
   "metadata": {},
   "outputs": [
    {
     "data": {
      "text/plain": [
       "0.5008902077151335"
      ]
     },
     "execution_count": 113,
     "metadata": {},
     "output_type": "execute_result"
    }
   ],
   "source": [
    "model_log.fit(X_train, y_train)\n",
    "model_log.score(X_test, y_test)"
   ]
  },
  {
   "cell_type": "code",
   "execution_count": 154,
   "metadata": {},
   "outputs": [],
   "source": [
    "# model_xgb.fit(X_train, y_train)\n",
    "# model_xgb.score(X_test, y_test)\n",
    "# model_xgb = XGBClassifier(\n",
    "#     max_depth=4, #3             # profundidades\n",
    "#     min_child_weight=2, #2      # peso  para divisões\n",
    "#     max_leaves=3, #2\n",
    "#     gamma=0.05,                # ganho para dividir um nó\n",
    "#     learning_rate=0.015,       # learning rate IMPORTANTE: quanto maior, mais complexo!!!\n",
    "#     n_estimators=1000,\n",
    "#     scale_pos_weight=scale_pos_weight,  # cuidado ao usar isso, se for SMOTE, nao usar!\n",
    "#     missing=np.nan,\n",
    "#     random_state=42\n",
    "# )"
   ]
  },
  {
   "cell_type": "code",
   "execution_count": 169,
   "metadata": {},
   "outputs": [],
   "source": [
    "# model_xgb.fit(X_train, y_train)\n",
    "# model_xgb.score(X_test, y_test)\n",
    "model_xgb = XGBClassifier(\n",
    "    max_depth=4, #3             # Limitar a profundidade das árvores\n",
    "    min_child_weight=3, #2       # Aumentar o peso mínimo para divisões\n",
    "    max_leaves=4, #2\n",
    "    gamma=0.05,                # Aumentar o ganho mínimo para dividir um nó\n",
    "    learning_rate=0.015,       # Reduzir a taxa de aprendizado\n",
    "    n_estimators=1000,        # Definir um número alto de estimadores\n",
    "    scale_pos_weight=scale_pos_weight,  # Balanceamento da classe\n",
    "    missing=np.nan,\n",
    "    random_state=42\n",
    ")"
   ]
  },
  {
   "cell_type": "code",
   "execution_count": 170,
   "metadata": {},
   "outputs": [
    {
     "data": {
      "text/html": [
       "<style>#sk-container-id-7 {\n",
       "  /* Definition of color scheme common for light and dark mode */\n",
       "  --sklearn-color-text: black;\n",
       "  --sklearn-color-line: gray;\n",
       "  /* Definition of color scheme for unfitted estimators */\n",
       "  --sklearn-color-unfitted-level-0: #fff5e6;\n",
       "  --sklearn-color-unfitted-level-1: #f6e4d2;\n",
       "  --sklearn-color-unfitted-level-2: #ffe0b3;\n",
       "  --sklearn-color-unfitted-level-3: chocolate;\n",
       "  /* Definition of color scheme for fitted estimators */\n",
       "  --sklearn-color-fitted-level-0: #f0f8ff;\n",
       "  --sklearn-color-fitted-level-1: #d4ebff;\n",
       "  --sklearn-color-fitted-level-2: #b3dbfd;\n",
       "  --sklearn-color-fitted-level-3: cornflowerblue;\n",
       "\n",
       "  /* Specific color for light theme */\n",
       "  --sklearn-color-text-on-default-background: var(--sg-text-color, var(--theme-code-foreground, var(--jp-content-font-color1, black)));\n",
       "  --sklearn-color-background: var(--sg-background-color, var(--theme-background, var(--jp-layout-color0, white)));\n",
       "  --sklearn-color-border-box: var(--sg-text-color, var(--theme-code-foreground, var(--jp-content-font-color1, black)));\n",
       "  --sklearn-color-icon: #696969;\n",
       "\n",
       "  @media (prefers-color-scheme: dark) {\n",
       "    /* Redefinition of color scheme for dark theme */\n",
       "    --sklearn-color-text-on-default-background: var(--sg-text-color, var(--theme-code-foreground, var(--jp-content-font-color1, white)));\n",
       "    --sklearn-color-background: var(--sg-background-color, var(--theme-background, var(--jp-layout-color0, #111)));\n",
       "    --sklearn-color-border-box: var(--sg-text-color, var(--theme-code-foreground, var(--jp-content-font-color1, white)));\n",
       "    --sklearn-color-icon: #878787;\n",
       "  }\n",
       "}\n",
       "\n",
       "#sk-container-id-7 {\n",
       "  color: var(--sklearn-color-text);\n",
       "}\n",
       "\n",
       "#sk-container-id-7 pre {\n",
       "  padding: 0;\n",
       "}\n",
       "\n",
       "#sk-container-id-7 input.sk-hidden--visually {\n",
       "  border: 0;\n",
       "  clip: rect(1px 1px 1px 1px);\n",
       "  clip: rect(1px, 1px, 1px, 1px);\n",
       "  height: 1px;\n",
       "  margin: -1px;\n",
       "  overflow: hidden;\n",
       "  padding: 0;\n",
       "  position: absolute;\n",
       "  width: 1px;\n",
       "}\n",
       "\n",
       "#sk-container-id-7 div.sk-dashed-wrapped {\n",
       "  border: 1px dashed var(--sklearn-color-line);\n",
       "  margin: 0 0.4em 0.5em 0.4em;\n",
       "  box-sizing: border-box;\n",
       "  padding-bottom: 0.4em;\n",
       "  background-color: var(--sklearn-color-background);\n",
       "}\n",
       "\n",
       "#sk-container-id-7 div.sk-container {\n",
       "  /* jupyter's `normalize.less` sets `[hidden] { display: none; }`\n",
       "     but bootstrap.min.css set `[hidden] { display: none !important; }`\n",
       "     so we also need the `!important` here to be able to override the\n",
       "     default hidden behavior on the sphinx rendered scikit-learn.org.\n",
       "     See: https://github.com/scikit-learn/scikit-learn/issues/21755 */\n",
       "  display: inline-block !important;\n",
       "  position: relative;\n",
       "}\n",
       "\n",
       "#sk-container-id-7 div.sk-text-repr-fallback {\n",
       "  display: none;\n",
       "}\n",
       "\n",
       "div.sk-parallel-item,\n",
       "div.sk-serial,\n",
       "div.sk-item {\n",
       "  /* draw centered vertical line to link estimators */\n",
       "  background-image: linear-gradient(var(--sklearn-color-text-on-default-background), var(--sklearn-color-text-on-default-background));\n",
       "  background-size: 2px 100%;\n",
       "  background-repeat: no-repeat;\n",
       "  background-position: center center;\n",
       "}\n",
       "\n",
       "/* Parallel-specific style estimator block */\n",
       "\n",
       "#sk-container-id-7 div.sk-parallel-item::after {\n",
       "  content: \"\";\n",
       "  width: 100%;\n",
       "  border-bottom: 2px solid var(--sklearn-color-text-on-default-background);\n",
       "  flex-grow: 1;\n",
       "}\n",
       "\n",
       "#sk-container-id-7 div.sk-parallel {\n",
       "  display: flex;\n",
       "  align-items: stretch;\n",
       "  justify-content: center;\n",
       "  background-color: var(--sklearn-color-background);\n",
       "  position: relative;\n",
       "}\n",
       "\n",
       "#sk-container-id-7 div.sk-parallel-item {\n",
       "  display: flex;\n",
       "  flex-direction: column;\n",
       "}\n",
       "\n",
       "#sk-container-id-7 div.sk-parallel-item:first-child::after {\n",
       "  align-self: flex-end;\n",
       "  width: 50%;\n",
       "}\n",
       "\n",
       "#sk-container-id-7 div.sk-parallel-item:last-child::after {\n",
       "  align-self: flex-start;\n",
       "  width: 50%;\n",
       "}\n",
       "\n",
       "#sk-container-id-7 div.sk-parallel-item:only-child::after {\n",
       "  width: 0;\n",
       "}\n",
       "\n",
       "/* Serial-specific style estimator block */\n",
       "\n",
       "#sk-container-id-7 div.sk-serial {\n",
       "  display: flex;\n",
       "  flex-direction: column;\n",
       "  align-items: center;\n",
       "  background-color: var(--sklearn-color-background);\n",
       "  padding-right: 1em;\n",
       "  padding-left: 1em;\n",
       "}\n",
       "\n",
       "\n",
       "/* Toggleable style: style used for estimator/Pipeline/ColumnTransformer box that is\n",
       "clickable and can be expanded/collapsed.\n",
       "- Pipeline and ColumnTransformer use this feature and define the default style\n",
       "- Estimators will overwrite some part of the style using the `sk-estimator` class\n",
       "*/\n",
       "\n",
       "/* Pipeline and ColumnTransformer style (default) */\n",
       "\n",
       "#sk-container-id-7 div.sk-toggleable {\n",
       "  /* Default theme specific background. It is overwritten whether we have a\n",
       "  specific estimator or a Pipeline/ColumnTransformer */\n",
       "  background-color: var(--sklearn-color-background);\n",
       "}\n",
       "\n",
       "/* Toggleable label */\n",
       "#sk-container-id-7 label.sk-toggleable__label {\n",
       "  cursor: pointer;\n",
       "  display: block;\n",
       "  width: 100%;\n",
       "  margin-bottom: 0;\n",
       "  padding: 0.5em;\n",
       "  box-sizing: border-box;\n",
       "  text-align: center;\n",
       "}\n",
       "\n",
       "#sk-container-id-7 label.sk-toggleable__label-arrow:before {\n",
       "  /* Arrow on the left of the label */\n",
       "  content: \"▸\";\n",
       "  float: left;\n",
       "  margin-right: 0.25em;\n",
       "  color: var(--sklearn-color-icon);\n",
       "}\n",
       "\n",
       "#sk-container-id-7 label.sk-toggleable__label-arrow:hover:before {\n",
       "  color: var(--sklearn-color-text);\n",
       "}\n",
       "\n",
       "/* Toggleable content - dropdown */\n",
       "\n",
       "#sk-container-id-7 div.sk-toggleable__content {\n",
       "  max-height: 0;\n",
       "  max-width: 0;\n",
       "  overflow: hidden;\n",
       "  text-align: left;\n",
       "  /* unfitted */\n",
       "  background-color: var(--sklearn-color-unfitted-level-0);\n",
       "}\n",
       "\n",
       "#sk-container-id-7 div.sk-toggleable__content.fitted {\n",
       "  /* fitted */\n",
       "  background-color: var(--sklearn-color-fitted-level-0);\n",
       "}\n",
       "\n",
       "#sk-container-id-7 div.sk-toggleable__content pre {\n",
       "  margin: 0.2em;\n",
       "  border-radius: 0.25em;\n",
       "  color: var(--sklearn-color-text);\n",
       "  /* unfitted */\n",
       "  background-color: var(--sklearn-color-unfitted-level-0);\n",
       "}\n",
       "\n",
       "#sk-container-id-7 div.sk-toggleable__content.fitted pre {\n",
       "  /* unfitted */\n",
       "  background-color: var(--sklearn-color-fitted-level-0);\n",
       "}\n",
       "\n",
       "#sk-container-id-7 input.sk-toggleable__control:checked~div.sk-toggleable__content {\n",
       "  /* Expand drop-down */\n",
       "  max-height: 200px;\n",
       "  max-width: 100%;\n",
       "  overflow: auto;\n",
       "}\n",
       "\n",
       "#sk-container-id-7 input.sk-toggleable__control:checked~label.sk-toggleable__label-arrow:before {\n",
       "  content: \"▾\";\n",
       "}\n",
       "\n",
       "/* Pipeline/ColumnTransformer-specific style */\n",
       "\n",
       "#sk-container-id-7 div.sk-label input.sk-toggleable__control:checked~label.sk-toggleable__label {\n",
       "  color: var(--sklearn-color-text);\n",
       "  background-color: var(--sklearn-color-unfitted-level-2);\n",
       "}\n",
       "\n",
       "#sk-container-id-7 div.sk-label.fitted input.sk-toggleable__control:checked~label.sk-toggleable__label {\n",
       "  background-color: var(--sklearn-color-fitted-level-2);\n",
       "}\n",
       "\n",
       "/* Estimator-specific style */\n",
       "\n",
       "/* Colorize estimator box */\n",
       "#sk-container-id-7 div.sk-estimator input.sk-toggleable__control:checked~label.sk-toggleable__label {\n",
       "  /* unfitted */\n",
       "  background-color: var(--sklearn-color-unfitted-level-2);\n",
       "}\n",
       "\n",
       "#sk-container-id-7 div.sk-estimator.fitted input.sk-toggleable__control:checked~label.sk-toggleable__label {\n",
       "  /* fitted */\n",
       "  background-color: var(--sklearn-color-fitted-level-2);\n",
       "}\n",
       "\n",
       "#sk-container-id-7 div.sk-label label.sk-toggleable__label,\n",
       "#sk-container-id-7 div.sk-label label {\n",
       "  /* The background is the default theme color */\n",
       "  color: var(--sklearn-color-text-on-default-background);\n",
       "}\n",
       "\n",
       "/* On hover, darken the color of the background */\n",
       "#sk-container-id-7 div.sk-label:hover label.sk-toggleable__label {\n",
       "  color: var(--sklearn-color-text);\n",
       "  background-color: var(--sklearn-color-unfitted-level-2);\n",
       "}\n",
       "\n",
       "/* Label box, darken color on hover, fitted */\n",
       "#sk-container-id-7 div.sk-label.fitted:hover label.sk-toggleable__label.fitted {\n",
       "  color: var(--sklearn-color-text);\n",
       "  background-color: var(--sklearn-color-fitted-level-2);\n",
       "}\n",
       "\n",
       "/* Estimator label */\n",
       "\n",
       "#sk-container-id-7 div.sk-label label {\n",
       "  font-family: monospace;\n",
       "  font-weight: bold;\n",
       "  display: inline-block;\n",
       "  line-height: 1.2em;\n",
       "}\n",
       "\n",
       "#sk-container-id-7 div.sk-label-container {\n",
       "  text-align: center;\n",
       "}\n",
       "\n",
       "/* Estimator-specific */\n",
       "#sk-container-id-7 div.sk-estimator {\n",
       "  font-family: monospace;\n",
       "  border: 1px dotted var(--sklearn-color-border-box);\n",
       "  border-radius: 0.25em;\n",
       "  box-sizing: border-box;\n",
       "  margin-bottom: 0.5em;\n",
       "  /* unfitted */\n",
       "  background-color: var(--sklearn-color-unfitted-level-0);\n",
       "}\n",
       "\n",
       "#sk-container-id-7 div.sk-estimator.fitted {\n",
       "  /* fitted */\n",
       "  background-color: var(--sklearn-color-fitted-level-0);\n",
       "}\n",
       "\n",
       "/* on hover */\n",
       "#sk-container-id-7 div.sk-estimator:hover {\n",
       "  /* unfitted */\n",
       "  background-color: var(--sklearn-color-unfitted-level-2);\n",
       "}\n",
       "\n",
       "#sk-container-id-7 div.sk-estimator.fitted:hover {\n",
       "  /* fitted */\n",
       "  background-color: var(--sklearn-color-fitted-level-2);\n",
       "}\n",
       "\n",
       "/* Specification for estimator info (e.g. \"i\" and \"?\") */\n",
       "\n",
       "/* Common style for \"i\" and \"?\" */\n",
       "\n",
       ".sk-estimator-doc-link,\n",
       "a:link.sk-estimator-doc-link,\n",
       "a:visited.sk-estimator-doc-link {\n",
       "  float: right;\n",
       "  font-size: smaller;\n",
       "  line-height: 1em;\n",
       "  font-family: monospace;\n",
       "  background-color: var(--sklearn-color-background);\n",
       "  border-radius: 1em;\n",
       "  height: 1em;\n",
       "  width: 1em;\n",
       "  text-decoration: none !important;\n",
       "  margin-left: 1ex;\n",
       "  /* unfitted */\n",
       "  border: var(--sklearn-color-unfitted-level-1) 1pt solid;\n",
       "  color: var(--sklearn-color-unfitted-level-1);\n",
       "}\n",
       "\n",
       ".sk-estimator-doc-link.fitted,\n",
       "a:link.sk-estimator-doc-link.fitted,\n",
       "a:visited.sk-estimator-doc-link.fitted {\n",
       "  /* fitted */\n",
       "  border: var(--sklearn-color-fitted-level-1) 1pt solid;\n",
       "  color: var(--sklearn-color-fitted-level-1);\n",
       "}\n",
       "\n",
       "/* On hover */\n",
       "div.sk-estimator:hover .sk-estimator-doc-link:hover,\n",
       ".sk-estimator-doc-link:hover,\n",
       "div.sk-label-container:hover .sk-estimator-doc-link:hover,\n",
       ".sk-estimator-doc-link:hover {\n",
       "  /* unfitted */\n",
       "  background-color: var(--sklearn-color-unfitted-level-3);\n",
       "  color: var(--sklearn-color-background);\n",
       "  text-decoration: none;\n",
       "}\n",
       "\n",
       "div.sk-estimator.fitted:hover .sk-estimator-doc-link.fitted:hover,\n",
       ".sk-estimator-doc-link.fitted:hover,\n",
       "div.sk-label-container:hover .sk-estimator-doc-link.fitted:hover,\n",
       ".sk-estimator-doc-link.fitted:hover {\n",
       "  /* fitted */\n",
       "  background-color: var(--sklearn-color-fitted-level-3);\n",
       "  color: var(--sklearn-color-background);\n",
       "  text-decoration: none;\n",
       "}\n",
       "\n",
       "/* Span, style for the box shown on hovering the info icon */\n",
       ".sk-estimator-doc-link span {\n",
       "  display: none;\n",
       "  z-index: 9999;\n",
       "  position: relative;\n",
       "  font-weight: normal;\n",
       "  right: .2ex;\n",
       "  padding: .5ex;\n",
       "  margin: .5ex;\n",
       "  width: min-content;\n",
       "  min-width: 20ex;\n",
       "  max-width: 50ex;\n",
       "  color: var(--sklearn-color-text);\n",
       "  box-shadow: 2pt 2pt 4pt #999;\n",
       "  /* unfitted */\n",
       "  background: var(--sklearn-color-unfitted-level-0);\n",
       "  border: .5pt solid var(--sklearn-color-unfitted-level-3);\n",
       "}\n",
       "\n",
       ".sk-estimator-doc-link.fitted span {\n",
       "  /* fitted */\n",
       "  background: var(--sklearn-color-fitted-level-0);\n",
       "  border: var(--sklearn-color-fitted-level-3);\n",
       "}\n",
       "\n",
       ".sk-estimator-doc-link:hover span {\n",
       "  display: block;\n",
       "}\n",
       "\n",
       "/* \"?\"-specific style due to the `<a>` HTML tag */\n",
       "\n",
       "#sk-container-id-7 a.estimator_doc_link {\n",
       "  float: right;\n",
       "  font-size: 1rem;\n",
       "  line-height: 1em;\n",
       "  font-family: monospace;\n",
       "  background-color: var(--sklearn-color-background);\n",
       "  border-radius: 1rem;\n",
       "  height: 1rem;\n",
       "  width: 1rem;\n",
       "  text-decoration: none;\n",
       "  /* unfitted */\n",
       "  color: var(--sklearn-color-unfitted-level-1);\n",
       "  border: var(--sklearn-color-unfitted-level-1) 1pt solid;\n",
       "}\n",
       "\n",
       "#sk-container-id-7 a.estimator_doc_link.fitted {\n",
       "  /* fitted */\n",
       "  border: var(--sklearn-color-fitted-level-1) 1pt solid;\n",
       "  color: var(--sklearn-color-fitted-level-1);\n",
       "}\n",
       "\n",
       "/* On hover */\n",
       "#sk-container-id-7 a.estimator_doc_link:hover {\n",
       "  /* unfitted */\n",
       "  background-color: var(--sklearn-color-unfitted-level-3);\n",
       "  color: var(--sklearn-color-background);\n",
       "  text-decoration: none;\n",
       "}\n",
       "\n",
       "#sk-container-id-7 a.estimator_doc_link.fitted:hover {\n",
       "  /* fitted */\n",
       "  background-color: var(--sklearn-color-fitted-level-3);\n",
       "}\n",
       "</style><div id=\"sk-container-id-7\" class=\"sk-top-container\"><div class=\"sk-text-repr-fallback\"><pre>XGBClassifier(base_score=None, booster=None, callbacks=None,\n",
       "              colsample_bylevel=None, colsample_bynode=None,\n",
       "              colsample_bytree=None, device=None, early_stopping_rounds=None,\n",
       "              enable_categorical=False, eval_metric=None, feature_types=None,\n",
       "              gamma=0.05, grow_policy=None, importance_type=None,\n",
       "              interaction_constraints=None, learning_rate=0.015, max_bin=None,\n",
       "              max_cat_threshold=None, max_cat_to_onehot=None,\n",
       "              max_delta_step=None, max_depth=4, max_leaves=4,\n",
       "              min_child_weight=3, missing=nan, monotone_constraints=None,\n",
       "              multi_strategy=None, n_estimators=1000, n_jobs=None,\n",
       "              num_parallel_tree=None, random_state=42, ...)</pre><b>In a Jupyter environment, please rerun this cell to show the HTML representation or trust the notebook. <br />On GitHub, the HTML representation is unable to render, please try loading this page with nbviewer.org.</b></div><div class=\"sk-container\" hidden><div class=\"sk-item\"><div class=\"sk-estimator fitted sk-toggleable\"><input class=\"sk-toggleable__control sk-hidden--visually\" id=\"sk-estimator-id-7\" type=\"checkbox\" checked><label for=\"sk-estimator-id-7\" class=\"sk-toggleable__label fitted sk-toggleable__label-arrow fitted\">&nbsp;XGBClassifier<span class=\"sk-estimator-doc-link fitted\">i<span>Fitted</span></span></label><div class=\"sk-toggleable__content fitted\"><pre>XGBClassifier(base_score=None, booster=None, callbacks=None,\n",
       "              colsample_bylevel=None, colsample_bynode=None,\n",
       "              colsample_bytree=None, device=None, early_stopping_rounds=None,\n",
       "              enable_categorical=False, eval_metric=None, feature_types=None,\n",
       "              gamma=0.05, grow_policy=None, importance_type=None,\n",
       "              interaction_constraints=None, learning_rate=0.015, max_bin=None,\n",
       "              max_cat_threshold=None, max_cat_to_onehot=None,\n",
       "              max_delta_step=None, max_depth=4, max_leaves=4,\n",
       "              min_child_weight=3, missing=nan, monotone_constraints=None,\n",
       "              multi_strategy=None, n_estimators=1000, n_jobs=None,\n",
       "              num_parallel_tree=None, random_state=42, ...)</pre></div> </div></div></div></div>"
      ],
      "text/plain": [
       "XGBClassifier(base_score=None, booster=None, callbacks=None,\n",
       "              colsample_bylevel=None, colsample_bynode=None,\n",
       "              colsample_bytree=None, device=None, early_stopping_rounds=None,\n",
       "              enable_categorical=False, eval_metric=None, feature_types=None,\n",
       "              gamma=0.05, grow_policy=None, importance_type=None,\n",
       "              interaction_constraints=None, learning_rate=0.015, max_bin=None,\n",
       "              max_cat_threshold=None, max_cat_to_onehot=None,\n",
       "              max_delta_step=None, max_depth=4, max_leaves=4,\n",
       "              min_child_weight=3, missing=nan, monotone_constraints=None,\n",
       "              multi_strategy=None, n_estimators=1000, n_jobs=None,\n",
       "              num_parallel_tree=None, random_state=42, ...)"
      ]
     },
     "execution_count": 170,
     "metadata": {},
     "output_type": "execute_result"
    }
   ],
   "source": [
    "model_xgb.fit(X_train, y_train)"
   ]
  },
  {
   "cell_type": "code",
   "execution_count": 185,
   "metadata": {},
   "outputs": [
    {
     "data": {
      "text/plain": [
       "0.8041666666666667"
      ]
     },
     "execution_count": 185,
     "metadata": {},
     "output_type": "execute_result"
    }
   ],
   "source": [
    "y_pred = model_xgb.predict(X_test)\n",
    "accuracy = accuracy_score(y_test, y_pred)\n",
    "accuracy"
   ]
  },
  {
   "cell_type": "code",
   "execution_count": 196,
   "metadata": {},
   "outputs": [
    {
     "data": {
      "text/plain": [
       "np.float64(0.517948717948718)"
      ]
     },
     "execution_count": 196,
     "metadata": {},
     "output_type": "execute_result"
    }
   ],
   "source": [
    "f1 = f1_score(y_test, y_pred)\n",
    "f1"
   ]
  },
  {
   "cell_type": "code",
   "execution_count": 197,
   "metadata": {},
   "outputs": [
    {
     "name": "stdout",
     "output_type": "stream",
     "text": [
      "              precision    recall  f1-score   support\n",
      "\n",
      "           0       0.96      0.81      0.88       829\n",
      "           1       0.39      0.77      0.52       131\n",
      "\n",
      "    accuracy                           0.80       960\n",
      "   macro avg       0.67      0.79      0.70       960\n",
      "weighted avg       0.88      0.80      0.83       960\n",
      "\n"
     ]
    }
   ],
   "source": [
    "print(classification_report(y_test, y_pred))"
   ]
  },
  {
   "cell_type": "code",
   "execution_count": 172,
   "metadata": {},
   "outputs": [],
   "source": [
    "# sizes = np.arange(100, 4000, 100)\n",
    "sizes = np.arange(50, 800, 50)\n",
    "\n",
    "cv = StratifiedKFold(n_splits=5)\n",
    "#train_sizes, train_scores, test_scores = learning_curve(model_xgb, X_balanced, y_balanced , train_sizes=sizes, cv=cv)\n",
    "train_sizes, train_scores, test_scores = learning_curve(model_xgb, X, y , train_sizes=sizes, cv=cv)\n",
    "#train_sizes, train_scores, test_scores = learning_curve(model_log, X_balanced, y_balanced , train_sizes=sizes, cv=cv)\n",
    "#train_sizes, train_scores, test_scores = learning_curve(model_xgb, X_balanced, y_balanced, train_sizes=sizes, cv=cv)\n",
    "#train_sizes, train_scores, test_scores = learning_curve(model_random, X_balanced, y_balanced, train_sizes=sizes, cv=cv)\n",
    "#train_sizes, train_scores, test_scores = learning_curve(model_random, X, y, train_sizes=sizes, cv=cv)\n",
    "#train_sizes, train_scores, test_scores = learning_curve(model_decision, X, y, train_sizes=sizes, cv=cv)\n",
    "#train_sizes, train_scores, test_scores = learning_curve(model_decision, X_balanced, y_balanced, train_sizes=sizes, cv=cv)"
   ]
  },
  {
   "cell_type": "code",
   "execution_count": 173,
   "metadata": {},
   "outputs": [
    {
     "data": {
      "image/png": "[encoded data removed]",
      "text/plain": [
       "<Figure size 640x480 with 1 Axes>"
      ]
     },
     "metadata": {},
     "output_type": "display_data"
    }
   ],
   "source": [
    "train_scores_mean = np.mean(train_scores, axis=1)\n",
    "tests_scores_mean = np.mean(test_scores, axis=1)\n",
    "\n",
    "plt.plot(train_sizes, train_scores_mean, color='blue', marker='o', markersize=4, label='Training')\n",
    "\n",
    "plt.plot(train_sizes, tests_scores_mean, color='green', marker='o', markersize=4, linestyle='--', label='Validation')\n",
    "\n",
    "plt.title('Learning Curve')\n",
    "plt.xlabel('Data Size')\n",
    "plt.ylabel('Model accuracy')\n",
    "plt.ylim(0, 1.1)\n",
    "plt.legend()\n",
    "plt.show()"
   ]
  },
  {
   "cell_type": "markdown",
   "metadata": {},
   "source": [
    "### Despite of delivering 0.80 Accurancy (lower than other models), the XGBoost didn't Overfitted as the others, beeing suitable for our problem."
   ]
  },
  {
   "cell_type": "markdown",
   "metadata": {},
   "source": [
    "## Confusion Matrix for sanity check"
   ]
  },
  {
   "cell_type": "code",
   "execution_count": 177,
   "metadata": {},
   "outputs": [
    {
     "data": {
      "text/plain": [
       "array([[671, 158],\n",
       "       [ 30, 101]])"
      ]
     },
     "execution_count": 177,
     "metadata": {},
     "output_type": "execute_result"
    }
   ],
   "source": [
    "matrix = confusion_matrix(y_test, y_pred)\n",
    "matrix"
   ]
  },
  {
   "cell_type": "code",
   "execution_count": 210,
   "metadata": {},
   "outputs": [
    {
     "data": {
      "text/plain": [
       "array([[81., 19.],\n",
       "       [23., 77.]])"
      ]
     },
     "execution_count": 210,
     "metadata": {},
     "output_type": "execute_result"
    }
   ],
   "source": [
    "matrix_percent = np.round((matrix.astype('float') / matrix.sum(axis=1)[:, np.newaxis]) * 100)\n",
    "matrix_percent"
   ]
  },
  {
   "cell_type": "code",
   "execution_count": 179,
   "metadata": {},
   "outputs": [
    {
     "data": {
      "image/png": "[encoded data removed]",
      "text/plain": [
       "<Figure size 640x480 with 2 Axes>"
      ]
     },
     "metadata": {},
     "output_type": "display_data"
    }
   ],
   "source": [
    "disp = ConfusionMatrixDisplay(confusion_matrix=matrix, display_labels=model_xgb.classes_)\n",
    "disp.plot(cmap=plt.cm.Blues)\n",
    "\n",
    "plt.title('# Confusion Matrix')\n",
    "plt.show()"
   ]
  },
  {
   "cell_type": "code",
   "execution_count": 212,
   "metadata": {},
   "outputs": [
    {
     "data": {
      "image/png": "[encoded data removed]",
      "text/plain": [
       "<Figure size 640x480 with 2 Axes>"
      ]
     },
     "metadata": {},
     "output_type": "display_data"
    }
   ],
   "source": [
    "disp = ConfusionMatrixDisplay(confusion_matrix=matrix_percent, display_labels=model_xgb.classes_)\n",
    "disp.plot(cmap=plt.cm.Blues)\n",
    "\n",
    "plt.title('Confusion Matrix (Mix %)')\n",
    "plt.show()"
   ]
  },
  {
   "cell_type": "markdown",
   "metadata": {},
   "source": [
    "### Analysis of confusion matrix: \n",
    "- Goal of the model attended: detect and diminuir Falsos Negativos (30);\n",
    "- O modelo está captando bem as Fraudes True Positives (101), assim como também Não Fraudes True Positives (671); \n",
    "- Apesar disso, o modelo apresenta Fraudes True Positive (158), mas acaba que não é algo tão grave assim. "
   ]
  },
  {
   "cell_type": "code",
   "execution_count": 184,
   "metadata": {},
   "outputs": [
    {
     "data": {
      "image/png": "[encoded data removed]",
      "text/plain": [
       "<Figure size 640x480 with 1 Axes>"
      ]
     },
     "metadata": {},
     "output_type": "display_data"
    }
   ],
   "source": [
    "# Obter as probabilidades previstas para a classe positiva (fraude)\n",
    "y_scores = model_xgb.predict_proba(X_test)[:, 1]\n",
    "\n",
    "# Calcular precisão e revocação em vários limiares\n",
    "precision, recall, thresholds = precision_recall_curve(y_test, y_scores)\n",
    "\n",
    "# Plotar a curva Precision-Recall\n",
    "plt.plot(recall, precision, label='XGBoost')\n",
    "plt.title('Precision-Recall Curve')\n",
    "plt.xlabel('Recall')\n",
    "plt.ylabel('Precision')\n",
    "plt.legend();"
   ]
  },
  {
   "cell_type": "code",
   "execution_count": 189,
   "metadata": {},
   "outputs": [
    {
     "name": "stdout",
     "output_type": "stream",
     "text": [
      "Limiar ideal (que maximiza o F1-score): 0.63\n"
     ]
    }
   ],
   "source": [
    "# Calcular precisão, recall e limiares\n",
    "precision, recall, thresholds = precision_recall_curve(y_test, y_scores)\n",
    "\n",
    "# Calcular o F1-score para cada limiar\n",
    "f1_scores = 2 * (precision * recall) / (precision + recall)\n",
    "\n",
    "# Encontrar o índice do F1-score máximo\n",
    "max_f1_index = f1_scores.argmax()\n",
    "best_threshold = thresholds[max_f1_index]\n",
    "\n",
    "print(f\"Limiar ideal (que maximiza o F1-score): {best_threshold:.2f}\")"
   ]
  },
  {
   "cell_type": "code",
   "execution_count": null,
   "metadata": {},
   "outputs": [],
   "source": [
    "#Acima conseguimos identificar que o objetivo para nosso problema é maximizar o RECALL"
   ]
  },
  {
   "cell_type": "code",
   "execution_count": 205,
   "metadata": {},
   "outputs": [
    {
     "name": "stdout",
     "output_type": "stream",
     "text": [
      "              precision    recall  f1-score   support\n",
      "\n",
      "           0       0.94      0.91      0.93       829\n",
      "           1       0.53      0.66      0.59       131\n",
      "\n",
      "    accuracy                           0.88       960\n",
      "   macro avg       0.74      0.79      0.76       960\n",
      "weighted avg       0.89      0.88      0.88       960\n",
      "\n"
     ]
    }
   ],
   "source": [
    "proba = model_xgb.predict_proba(X_test)[:, 1]\n",
    "\n",
    "# Aplicar o limiar de 0.63 para classificar as transações\n",
    "y_pred_2 = (proba >= 0.63).astype(int)\n",
    "\n",
    "# Avaliar o desempenho com o novo limiar\n",
    "print(classification_report(y_test, y_pred_2))"
   ]
  },
  {
   "cell_type": "code",
   "execution_count": 206,
   "metadata": {},
   "outputs": [
    {
     "data": {
      "text/plain": [
       "np.float64(0.5918367346938775)"
      ]
     },
     "execution_count": 206,
     "metadata": {},
     "output_type": "execute_result"
    }
   ],
   "source": [
    "f1_2 = f1_score(y_test, y_pred_2)\n",
    "f1_2"
   ]
  },
  {
   "cell_type": "code",
   "execution_count": 207,
   "metadata": {},
   "outputs": [
    {
     "data": {
      "text/plain": [
       "0.875"
      ]
     },
     "execution_count": 207,
     "metadata": {},
     "output_type": "execute_result"
    }
   ],
   "source": [
    "accuracy_2 = accuracy_score(y_test, y_pred_2)\n",
    "accuracy_2"
   ]
  },
  {
   "cell_type": "code",
   "execution_count": 208,
   "metadata": {},
   "outputs": [
    {
     "data": {
      "text/plain": [
       "array([[753,  76],\n",
       "       [ 44,  87]])"
      ]
     },
     "execution_count": 208,
     "metadata": {},
     "output_type": "execute_result"
    }
   ],
   "source": [
    "matrix_2 = confusion_matrix(y_test, y_pred_2)\n",
    "matrix_2"
   ]
  },
  {
   "cell_type": "code",
   "execution_count": 216,
   "metadata": {},
   "outputs": [
    {
     "data": {
      "text/plain": [
       "array([[91.,  9.],\n",
       "       [34., 66.]])"
      ]
     },
     "execution_count": 216,
     "metadata": {},
     "output_type": "execute_result"
    }
   ],
   "source": [
    "matrix_2_percent = np.round((matrix_2.astype('float') / matrix.sum(axis=1)[:, np.newaxis]) * 100)\n",
    "matrix_2_percent"
   ]
  },
  {
   "cell_type": "code",
   "execution_count": 217,
   "metadata": {},
   "outputs": [
    {
     "data": {
      "image/png": "[encoded data removed]",
      "text/plain": [
       "<Figure size 640x480 with 2 Axes>"
      ]
     },
     "metadata": {},
     "output_type": "display_data"
    }
   ],
   "source": [
    "disp = ConfusionMatrixDisplay(confusion_matrix=matrix_2, display_labels=model_xgb.classes_)\n",
    "disp.plot(cmap=plt.cm.Blues)\n",
    "\n",
    "plt.title('# Confusion Matrix v2');"
   ]
  },
  {
   "cell_type": "code",
   "execution_count": 218,
   "metadata": {},
   "outputs": [
    {
     "data": {
      "image/png": "[encoded data removed]",
      "text/plain": [
       "<Figure size 640x480 with 2 Axes>"
      ]
     },
     "metadata": {},
     "output_type": "display_data"
    }
   ],
   "source": [
    "disp = ConfusionMatrixDisplay(confusion_matrix=matrix_2_percent, display_labels=model_xgb.classes_)\n",
    "disp.plot(cmap=plt.cm.Blues)\n",
    "\n",
    "plt.title('# Confusion Matrix v2');"
   ]
  },
  {
   "cell_type": "markdown",
   "metadata": {},
   "source": [
    "Conclusion: \n",
    "- Adjusting the proba threshold for maximizing the F1 Score, edditing proba from 0,5 to 0,63 will elevate the F1 score from 0,51 to 0,59 but will decrease the Recall for class 1 (most important) from 0,77 to 0,66, wich it is really bad for our problem. \n",
    "\n",
    "- Saying that, we will keep the classic proba threshold of 0,5, mantaninig the F1 of 0,51 and Recall of class 1 of 0,77. "
   ]
  },
  {
   "cell_type": "code",
   "execution_count": 174,
   "metadata": {},
   "outputs": [
    {
     "data": {
      "text/plain": [
       "['data/modelo_xgb.pkl']"
      ]
     },
     "execution_count": 174,
     "metadata": {},
     "output_type": "execute_result"
    }
   ],
   "source": [
    "# import joblib\n",
    "# joblib.dump(model_xgb, 'data/modelo_xgb-fernando_cirone.pkl')\n",
    "\n",
    "# # for loading afterwards:\n",
    "# modelo_carregado = joblib.load('data/modelo_xgb.pkl')"
   ]
  },
  {
   "cell_type": "markdown",
   "metadata": {},
   "source": [
    "# JOB DONE ! 💪"
   ]
  },
  {
   "cell_type": "markdown",
   "metadata": {},
   "source": [
    "________________________________________________"
   ]
  },
  {
   "cell_type": "markdown",
   "metadata": {},
   "source": [
    "## Made by: Fernando Cirone.\n",
    "#### [LinkInd](https://www.linkedin.com/in/fernandocirone/) | [GitHub](https://github.com/thecirocks) | [Portfolio](https://troopl.com/fernandocirone) | [E-mail](mailto:fernando.cirone@hotmail.com) | [WhatsApp](https://api.whatsapp.com/send?phone=5521984316148) "
   ]
  }
 ],
 "metadata": {
  "kernelspec": {
   "display_name": "cloudwalk",
   "language": "python",
   "name": "python3"
  },
  "language_info": {
   "codemirror_mode": {
    "name": "ipython",
    "version": 3
   },
   "file_extension": ".py",
   "mimetype": "text/x-python",
   "name": "python",
   "nbconvert_exporter": "python",
   "pygments_lexer": "ipython3",
   "version": "3.10.6"
  }
 },
 "nbformat": 4,
 "nbformat_minor": 2
}
