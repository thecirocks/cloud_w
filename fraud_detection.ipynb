{
 "cells": [
  {
   "cell_type": "markdown",
   "metadata": {},
   "source": [
    "## Notebook for Cloud Walk Risk Analysis Case - Candidate Fernando Cirone "
   ]
  },
  {
   "cell_type": "markdown",
   "metadata": {
    "vscode": {
     "languageId": "plaintext"
    }
   },
   "source": [
    "## Questions"
   ]
  },
  {
   "cell_type": "markdown",
   "metadata": {},
   "source": [
    "### 1) Analyze the data provided and present your conclusions. What suspicious behaviors did you find? What led you to this conclusion? What actions would you take?"
   ]
  },
  {
   "cell_type": "markdown",
   "metadata": {},
   "source": [
    "Answer:"
   ]
  },
  {
   "cell_type": "markdown",
   "metadata": {},
   "source": [
    "### 2) In addition to the spreadsheet data, what other data would you consider to find patterns of possible fraudulent behavior?"
   ]
  },
  {
   "cell_type": "markdown",
   "metadata": {},
   "source": [
    "Answer:\n",
    "- If the purchase was made by CPF of PJ - usually companies (PJ) makes more purcheses in 1 month than (PF);\n",
    "- Geolocation of the transaction - important to understand the pattern of purchase . If it was made in a certain location that the user don't usually it is located, it tends to be fraud ;\n",
    "- Credit Score of the buyer: you can rely more on users with higher credit score ;\n",
    "- Aging of the ID: you can rely more in older users;"
   ]
  },
  {
   "cell_type": "markdown",
   "metadata": {},
   "source": [
    "### 3) Considering your conclusions, what would you further suggest in order to prevent frauds and/or chargebacks?"
   ]
  },
  {
   "cell_type": "markdown",
   "metadata": {},
   "source": [
    "Answer:"
   ]
  },
  {
   "cell_type": "markdown",
   "metadata": {},
   "source": [
    "### 4) Create an anti-fraud solution."
   ]
  },
  {
   "cell_type": "markdown",
   "metadata": {},
   "source": [
    "Answer:"
   ]
  },
  {
   "cell_type": "markdown",
   "metadata": {},
   "source": [
    "Some tips: <br>\n",
    "User_id: id of the cardholders; <br>\n",
    "Device_id: device used by the cardholder; <br>\n",
    "Has_cbk: transaction received a fraud chargeback or not. <br>\n",
    "All the transactions occurred in a card not present environment. <br>\n",
    "You can use any programming language that you want."
   ]
  },
  {
   "cell_type": "markdown",
   "metadata": {},
   "source": [
    "## 0. Import Python"
   ]
  },
  {
   "cell_type": "code",
   "execution_count": 54,
   "metadata": {},
   "outputs": [],
   "source": [
    "import pandas as pd\n",
    "import numpy as np\n",
    "import matplotlib.pyplot as plt\n",
    "import seaborn as sns"
   ]
  },
  {
   "cell_type": "markdown",
   "metadata": {},
   "source": [
    "## 1. Import csv and Features information <br>\n",
    "Source: https://gist.github.com/cloudwalk-tests/76993838e65d7e0f988f40f1b1909c97#file-transactional-sample-csv"
   ]
  },
  {
   "cell_type": "code",
   "execution_count": 4,
   "metadata": {},
   "outputs": [
    {
     "data": {
      "text/html": [
       "<div>\n",
       "<style scoped>\n",
       "    .dataframe tbody tr th:only-of-type {\n",
       "        vertical-align: middle;\n",
       "    }\n",
       "\n",
       "    .dataframe tbody tr th {\n",
       "        vertical-align: top;\n",
       "    }\n",
       "\n",
       "    .dataframe thead th {\n",
       "        text-align: right;\n",
       "    }\n",
       "</style>\n",
       "<table border=\"1\" class=\"dataframe\">\n",
       "  <thead>\n",
       "    <tr style=\"text-align: right;\">\n",
       "      <th></th>\n",
       "      <th>transaction_id</th>\n",
       "      <th>merchant_id</th>\n",
       "      <th>user_id</th>\n",
       "      <th>card_number</th>\n",
       "      <th>transaction_date</th>\n",
       "      <th>transaction_amount</th>\n",
       "      <th>device_id</th>\n",
       "      <th>has_cbk</th>\n",
       "    </tr>\n",
       "  </thead>\n",
       "  <tbody>\n",
       "    <tr>\n",
       "      <th>0</th>\n",
       "      <td>21320398</td>\n",
       "      <td>29744</td>\n",
       "      <td>97051</td>\n",
       "      <td>434505******9116</td>\n",
       "      <td>2019-12-01T23:16:32.812632</td>\n",
       "      <td>374.56</td>\n",
       "      <td>285475.0</td>\n",
       "      <td>False</td>\n",
       "    </tr>\n",
       "    <tr>\n",
       "      <th>1</th>\n",
       "      <td>21320399</td>\n",
       "      <td>92895</td>\n",
       "      <td>2708</td>\n",
       "      <td>444456******4210</td>\n",
       "      <td>2019-12-01T22:45:37.873639</td>\n",
       "      <td>734.87</td>\n",
       "      <td>497105.0</td>\n",
       "      <td>True</td>\n",
       "    </tr>\n",
       "  </tbody>\n",
       "</table>\n",
       "</div>"
      ],
      "text/plain": [
       "   transaction_id  merchant_id  user_id       card_number  \\\n",
       "0        21320398        29744    97051  434505******9116   \n",
       "1        21320399        92895     2708  444456******4210   \n",
       "\n",
       "             transaction_date  transaction_amount  device_id  has_cbk  \n",
       "0  2019-12-01T23:16:32.812632              374.56   285475.0    False  \n",
       "1  2019-12-01T22:45:37.873639              734.87   497105.0     True  "
      ]
     },
     "execution_count": 4,
     "metadata": {},
     "output_type": "execute_result"
    }
   ],
   "source": [
    "df = pd.read_csv('data/transactional-sample.csv', delimiter=',')\n",
    "df.head(2)"
   ]
  },
  {
   "cell_type": "markdown",
   "metadata": {},
   "source": [
    "## Features Info: <br>\n",
    "    - transaction_id: identification of the transaction;\n",
    "    - merchant_id: identification of the company involved on the sale;\n",
    "    - user_id: identification of the user (cardholder); \n",
    "    - card_number: identification of the card in the transaction; \n",
    "    - transaction_date: data; \n",
    "    - transaction_amount: amount;\n",
    "    - device_id: identification of the device;\n",
    "    - has_cbk: transaction received a fraud chargeback or not."
   ]
  },
  {
   "cell_type": "markdown",
   "metadata": {},
   "source": [
    "Extra: \n",
    "### what is chargeback: <br>\n",
    "Chargebacks are a type of transaction reversal that occurs when a customer disputes a charge with their bank or credit card company. Chargebacks can occur for a variety of reasons, such as fraud, dissatisfaction with a product or service, or errors made by the business. When a chargeback occurs, the customer’s bank or credit card company refunds the disputed amount to the customer and deducts the amount from the business’s account.\n",
    "\n",
    "For businesses, chargebacks can result in financial losses, damage to their reputation, higher fees from payment processors, and even losing the ability to accept credit card payments. To compound these issues, fraudulent actors sometimes use chargebacks as a tool to steal from businesses.\n",
    "\n",
    "### what is FRAUD chargeback: <br>\n",
    "\n",
    "Chargeback fraud occurs when a customer intentionally disputes a charge in order to receive a refund, while keeping the product or service. The customer may claim they did not receive the product, that the product was defective, or that the transaction was unauthorized. There are several types of chargeback fraud, including:\n",
    "\n",
    "\n",
    "Friendly fraud <br>\n",
    "Friendly fraud occurs when a cardholder makes a legitimate purchase but later disputes the charge, claiming they did not authorize it or that the goods or services were not as described. Sometimes this happens when the cardholder forgets that they made the charge, doesn’t recognize it on the billing statement, and assumes it was fraud. In some cases of friendly fraud, the cardholder may even receive the merchandise and then file a chargeback, claiming that they never received it.\n",
    "\n",
    "Return fraud <br>\n",
    "Return fraud happens when an individual returns an item to a retailer, claiming that the product is faulty, defective, or otherwise not satisfactory—despite the fact that the product is in good condition or has been tampered with (or used). This often accompanies a chargeback request, particularly if the retailer’s return policy is unclear.\n",
    "\n",
    "Digital-goods chargebacks <br>\n",
    "Digital-goods fraud occurs when a customer disputes a charge for a digital product, such as a software license or online course, after accessing and using the product. This can be difficult for businesses to prevent, since the customer may have already downloaded the product—but the business cannot know this for certain.\n",
    "\n",
    "Subscription fraud\n",
    "Subscription fraud occurs when a customer disputes a recurring charge for a subscription service, such as a streaming service, after receiving several months of service. The customer may claim they did not authorize the recurring charge or that they canceled the subscription but were still charged.\n",
    "\n",
    "\n",
    "Source: https://stripe.com/br/resources/more/chargeback-fraud-101"
   ]
  },
  {
   "cell_type": "markdown",
   "metadata": {},
   "source": [
    "## 2. Quick look at the dataset (without edditing)"
   ]
  },
  {
   "cell_type": "code",
   "execution_count": 6,
   "metadata": {},
   "outputs": [
    {
     "data": {
      "text/plain": [
       "(3199, 8)"
      ]
     },
     "execution_count": 6,
     "metadata": {},
     "output_type": "execute_result"
    }
   ],
   "source": [
    "df.shape"
   ]
  },
  {
   "cell_type": "code",
   "execution_count": 32,
   "metadata": {},
   "outputs": [
    {
     "name": "stdout",
     "output_type": "stream",
     "text": [
      "<class 'pandas.core.frame.DataFrame'>\n",
      "RangeIndex: 3199 entries, 0 to 3198\n",
      "Data columns (total 8 columns):\n",
      " #   Column              Non-Null Count  Dtype  \n",
      "---  ------              --------------  -----  \n",
      " 0   transaction_id      3199 non-null   int64  \n",
      " 1   merchant_id         3199 non-null   int64  \n",
      " 2   user_id             3199 non-null   int64  \n",
      " 3   card_number         3199 non-null   object \n",
      " 4   transaction_date    3199 non-null   object \n",
      " 5   transaction_amount  3199 non-null   float64\n",
      " 6   device_id           2369 non-null   float64\n",
      " 7   has_cbk             3199 non-null   bool   \n",
      "dtypes: bool(1), float64(2), int64(3), object(2)\n",
      "memory usage: 178.2+ KB\n"
     ]
    }
   ],
   "source": [
    "df.info()"
   ]
  },
  {
   "cell_type": "code",
   "execution_count": 7,
   "metadata": {},
   "outputs": [
    {
     "data": {
      "text/plain": [
       "False    3199\n",
       "Name: count, dtype: int64"
      ]
     },
     "execution_count": 7,
     "metadata": {},
     "output_type": "execute_result"
    }
   ],
   "source": [
    "df.duplicated().value_counts()"
   ]
  },
  {
   "cell_type": "code",
   "execution_count": 8,
   "metadata": {},
   "outputs": [
    {
     "data": {
      "text/html": [
       "<div>\n",
       "<style scoped>\n",
       "    .dataframe tbody tr th:only-of-type {\n",
       "        vertical-align: middle;\n",
       "    }\n",
       "\n",
       "    .dataframe tbody tr th {\n",
       "        vertical-align: top;\n",
       "    }\n",
       "\n",
       "    .dataframe thead th {\n",
       "        text-align: right;\n",
       "    }\n",
       "</style>\n",
       "<table border=\"1\" class=\"dataframe\">\n",
       "  <thead>\n",
       "    <tr style=\"text-align: right;\">\n",
       "      <th></th>\n",
       "      <th>transaction_id</th>\n",
       "      <th>merchant_id</th>\n",
       "      <th>user_id</th>\n",
       "      <th>transaction_amount</th>\n",
       "      <th>device_id</th>\n",
       "    </tr>\n",
       "  </thead>\n",
       "  <tbody>\n",
       "    <tr>\n",
       "      <th>count</th>\n",
       "      <td>3.199000e+03</td>\n",
       "      <td>3199.000000</td>\n",
       "      <td>3199.000000</td>\n",
       "      <td>3199.000000</td>\n",
       "      <td>2369.000000</td>\n",
       "    </tr>\n",
       "    <tr>\n",
       "      <th>mean</th>\n",
       "      <td>2.132200e+07</td>\n",
       "      <td>48771.128790</td>\n",
       "      <td>50891.077212</td>\n",
       "      <td>767.812904</td>\n",
       "      <td>493924.859856</td>\n",
       "    </tr>\n",
       "    <tr>\n",
       "      <th>std</th>\n",
       "      <td>9.236161e+02</td>\n",
       "      <td>29100.360839</td>\n",
       "      <td>29515.282827</td>\n",
       "      <td>889.095904</td>\n",
       "      <td>283785.584545</td>\n",
       "    </tr>\n",
       "    <tr>\n",
       "      <th>min</th>\n",
       "      <td>2.132040e+07</td>\n",
       "      <td>16.000000</td>\n",
       "      <td>6.000000</td>\n",
       "      <td>1.220000</td>\n",
       "      <td>2.000000</td>\n",
       "    </tr>\n",
       "    <tr>\n",
       "      <th>25%</th>\n",
       "      <td>2.132120e+07</td>\n",
       "      <td>23426.000000</td>\n",
       "      <td>24267.500000</td>\n",
       "      <td>205.235000</td>\n",
       "      <td>259344.000000</td>\n",
       "    </tr>\n",
       "    <tr>\n",
       "      <th>50%</th>\n",
       "      <td>2.132200e+07</td>\n",
       "      <td>48752.000000</td>\n",
       "      <td>52307.000000</td>\n",
       "      <td>415.940000</td>\n",
       "      <td>495443.000000</td>\n",
       "    </tr>\n",
       "    <tr>\n",
       "      <th>75%</th>\n",
       "      <td>2.132280e+07</td>\n",
       "      <td>73915.000000</td>\n",
       "      <td>76837.000000</td>\n",
       "      <td>981.680000</td>\n",
       "      <td>733243.000000</td>\n",
       "    </tr>\n",
       "    <tr>\n",
       "      <th>max</th>\n",
       "      <td>2.132360e+07</td>\n",
       "      <td>99799.000000</td>\n",
       "      <td>99974.000000</td>\n",
       "      <td>4097.210000</td>\n",
       "      <td>999843.000000</td>\n",
       "    </tr>\n",
       "  </tbody>\n",
       "</table>\n",
       "</div>"
      ],
      "text/plain": [
       "       transaction_id   merchant_id       user_id  transaction_amount  \\\n",
       "count    3.199000e+03   3199.000000   3199.000000         3199.000000   \n",
       "mean     2.132200e+07  48771.128790  50891.077212          767.812904   \n",
       "std      9.236161e+02  29100.360839  29515.282827          889.095904   \n",
       "min      2.132040e+07     16.000000      6.000000            1.220000   \n",
       "25%      2.132120e+07  23426.000000  24267.500000          205.235000   \n",
       "50%      2.132200e+07  48752.000000  52307.000000          415.940000   \n",
       "75%      2.132280e+07  73915.000000  76837.000000          981.680000   \n",
       "max      2.132360e+07  99799.000000  99974.000000         4097.210000   \n",
       "\n",
       "           device_id  \n",
       "count    2369.000000  \n",
       "mean   493924.859856  \n",
       "std    283785.584545  \n",
       "min         2.000000  \n",
       "25%    259344.000000  \n",
       "50%    495443.000000  \n",
       "75%    733243.000000  \n",
       "max    999843.000000  "
      ]
     },
     "execution_count": 8,
     "metadata": {},
     "output_type": "execute_result"
    }
   ],
   "source": [
    "df.describe()"
   ]
  },
  {
   "cell_type": "code",
   "execution_count": 22,
   "metadata": {},
   "outputs": [
    {
     "data": {
      "text/plain": [
       "transaction_id  merchant_id  user_id  card_number  transaction_date  transaction_amount  device_id  has_cbk\n",
       "False           False        False    False        False             False               False      False      2369\n",
       "                                                                                         True       False       830\n",
       "Name: count, dtype: int64"
      ]
     },
     "execution_count": 22,
     "metadata": {},
     "output_type": "execute_result"
    }
   ],
   "source": [
    "df.isnull().value_counts()"
   ]
  },
  {
   "cell_type": "code",
   "execution_count": 31,
   "metadata": {},
   "outputs": [
    {
     "data": {
      "text/plain": [
       "transaction_id          0\n",
       "merchant_id             0\n",
       "user_id                 0\n",
       "card_number             0\n",
       "transaction_date        0\n",
       "transaction_amount      0\n",
       "device_id             830\n",
       "has_cbk                 0\n",
       "dtype: int64"
      ]
     },
     "execution_count": 31,
     "metadata": {},
     "output_type": "execute_result"
    }
   ],
   "source": [
    "df.isna().sum()"
   ]
  },
  {
   "cell_type": "code",
   "execution_count": 23,
   "metadata": {},
   "outputs": [
    {
     "data": {
      "text/plain": [
       "device_id\n",
       "False    2369\n",
       "True      830\n",
       "Name: count, dtype: int64"
      ]
     },
     "execution_count": 23,
     "metadata": {},
     "output_type": "execute_result"
    }
   ],
   "source": [
    "df[\"device_id\"].isnull().value_counts()"
   ]
  },
  {
   "cell_type": "code",
   "execution_count": 14,
   "metadata": {},
   "outputs": [
    {
     "data": {
      "text/plain": [
       "device_id\n",
       "False    0.740544\n",
       "True     0.259456\n",
       "Name: count, dtype: float64"
      ]
     },
     "execution_count": 14,
     "metadata": {},
     "output_type": "execute_result"
    }
   ],
   "source": [
    "df[\"device_id\"].isnull().value_counts() / df[\"device_id\"].isnull().value_counts().sum()"
   ]
  },
  {
   "cell_type": "markdown",
   "metadata": {},
   "source": [
    "☝️ 26% of device_id feature it is null"
   ]
  },
  {
   "cell_type": "code",
   "execution_count": 72,
   "metadata": {},
   "outputs": [
    {
     "data": {
      "text/html": [
       "<div>\n",
       "<style scoped>\n",
       "    .dataframe tbody tr th:only-of-type {\n",
       "        vertical-align: middle;\n",
       "    }\n",
       "\n",
       "    .dataframe tbody tr th {\n",
       "        vertical-align: top;\n",
       "    }\n",
       "\n",
       "    .dataframe thead th {\n",
       "        text-align: right;\n",
       "    }\n",
       "</style>\n",
       "<table border=\"1\" class=\"dataframe\">\n",
       "  <thead>\n",
       "    <tr style=\"text-align: right;\">\n",
       "      <th></th>\n",
       "      <th>transaction_id</th>\n",
       "      <th>merchant_id</th>\n",
       "      <th>user_id</th>\n",
       "      <th>card_number</th>\n",
       "      <th>transaction_date</th>\n",
       "      <th>transaction_amount</th>\n",
       "      <th>device_id</th>\n",
       "      <th>has_cbk</th>\n",
       "      <th>transaction_year</th>\n",
       "      <th>transaction_month</th>\n",
       "      <th>transaction_day</th>\n",
       "      <th>transaction_hour</th>\n",
       "      <th>transaction_minute</th>\n",
       "      <th>time_diff</th>\n",
       "    </tr>\n",
       "  </thead>\n",
       "  <tbody>\n",
       "    <tr>\n",
       "      <th>11</th>\n",
       "      <td>21320409</td>\n",
       "      <td>32954</td>\n",
       "      <td>6</td>\n",
       "      <td>428267******9019</td>\n",
       "      <td>2019-12-01 20:44:48.109011</td>\n",
       "      <td>443.90</td>\n",
       "      <td>757451.0</td>\n",
       "      <td>False</td>\n",
       "      <td>2019</td>\n",
       "      <td>12</td>\n",
       "      <td>1</td>\n",
       "      <td>20</td>\n",
       "      <td>44</td>\n",
       "      <td>NaN</td>\n",
       "    </tr>\n",
       "    <tr>\n",
       "      <th>3197</th>\n",
       "      <td>21323595</td>\n",
       "      <td>35930</td>\n",
       "      <td>7</td>\n",
       "      <td>544315******7773</td>\n",
       "      <td>2019-11-01 01:29:45.799767</td>\n",
       "      <td>359.68</td>\n",
       "      <td>NaN</td>\n",
       "      <td>False</td>\n",
       "      <td>2019</td>\n",
       "      <td>11</td>\n",
       "      <td>1</td>\n",
       "      <td>1</td>\n",
       "      <td>29</td>\n",
       "      <td>NaN</td>\n",
       "    </tr>\n",
       "  </tbody>\n",
       "</table>\n",
       "</div>"
      ],
      "text/plain": [
       "      transaction_id  merchant_id  user_id       card_number  \\\n",
       "11          21320409        32954        6  428267******9019   \n",
       "3197        21323595        35930        7  544315******7773   \n",
       "\n",
       "               transaction_date  transaction_amount  device_id  has_cbk  \\\n",
       "11   2019-12-01 20:44:48.109011              443.90   757451.0    False   \n",
       "3197 2019-11-01 01:29:45.799767              359.68        NaN    False   \n",
       "\n",
       "      transaction_year  transaction_month  transaction_day  transaction_hour  \\\n",
       "11                2019                 12                1                20   \n",
       "3197              2019                 11                1                 1   \n",
       "\n",
       "      transaction_minute  time_diff  \n",
       "11                    44        NaN  \n",
       "3197                  29        NaN  "
      ]
     },
     "execution_count": 72,
     "metadata": {},
     "output_type": "execute_result"
    }
   ],
   "source": [
    "df.head(2)"
   ]
  },
  {
   "cell_type": "markdown",
   "metadata": {},
   "source": [
    "Overtall numbers\n",
    "Interval of time ? 30 days; <br>\n",
    "How many Unique Transactions ? <br>\n",
    "How many Unique Users Id? <br>\n",
    "How many Devices ? <br>\n",
    "How many Unique Merchants ? <br>\n",
    "How many Unique Credict Cards ? <br>\n",
    "Min Transaction Ammount ? <br>\n",
    "Max transaction Ammount ? <br>"
   ]
  },
  {
   "cell_type": "code",
   "execution_count": null,
   "metadata": {},
   "outputs": [],
   "source": [
    "User per smthing\n",
    "User per credidt card ?\n",
    "User per device ?\n",
    "User per transaction ?"
   ]
  },
  {
   "cell_type": "code",
   "execution_count": null,
   "metadata": {},
   "outputs": [],
   "source": [
    "Transaction\n",
    "Usuario com mais transação ?\n",
    "Cartão com mais transação ?"
   ]
  },
  {
   "cell_type": "code",
   "execution_count": null,
   "metadata": {},
   "outputs": [],
   "source": [
    "Outliers\n",
    "Usuário com mais has_cbk ?\n",
    "Cartõe com mais has_cbk ?"
   ]
  },
  {
   "cell_type": "code",
   "execution_count": 71,
   "metadata": {},
   "outputs": [
    {
     "data": {
      "text/plain": [
       "Timedelta('30 days 21:49:17.001534')"
      ]
     },
     "execution_count": 71,
     "metadata": {},
     "output_type": "execute_result"
    }
   ],
   "source": [
    "df[\"transaction_date\"].max() - df[\"transaction_date\"].min()"
   ]
  },
  {
   "cell_type": "code",
   "execution_count": 86,
   "metadata": {},
   "outputs": [
    {
     "name": "stdout",
     "output_type": "stream",
     "text": [
      "transaction_id: 3199\n",
      "user_id: 2704\n",
      "device_id: 1996\n",
      "merchant_id: 1756\n",
      "card_number: 2925\n"
     ]
    }
   ],
   "source": [
    "print(f'transaction_id: {df[\"transaction_id\"].nunique()}')\n",
    "print(f'user_id: {df[\"user_id\"].nunique()}')\n",
    "print(f'device_id: {df[\"device_id\"].nunique()}')\n",
    "print(f'merchant_id: {df[\"merchant_id\"].nunique()}')\n",
    "print(f'card_number: {df[\"card_number\"].nunique()}')"
   ]
  },
  {
   "cell_type": "code",
   "execution_count": 84,
   "metadata": {},
   "outputs": [
    {
     "data": {
      "text/plain": [
       "transaction_amount    4097.21\n",
       "dtype: float64"
      ]
     },
     "execution_count": 84,
     "metadata": {},
     "output_type": "execute_result"
    }
   ],
   "source": [
    "df[\"transaction_amount\"].max()"
   ]
  },
  {
   "cell_type": "code",
   "execution_count": 85,
   "metadata": {},
   "outputs": [
    {
     "data": {
      "text/plain": [
       "np.float64(1.22)"
      ]
     },
     "execution_count": 85,
     "metadata": {},
     "output_type": "execute_result"
    }
   ],
   "source": [
    "df[\"transaction_amount\"].min()"
   ]
  },
  {
   "cell_type": "code",
   "execution_count": null,
   "metadata": {},
   "outputs": [],
   "source": []
  },
  {
   "cell_type": "code",
   "execution_count": null,
   "metadata": {},
   "outputs": [],
   "source": []
  },
  {
   "cell_type": "markdown",
   "metadata": {},
   "source": [
    "## 3. Edditing the dataset"
   ]
  },
  {
   "cell_type": "markdown",
   "metadata": {},
   "source": [
    "Edditing actions, for now: <br>\n",
    "    - Clean the transaction_date"
   ]
  },
  {
   "cell_type": "code",
   "execution_count": 37,
   "metadata": {},
   "outputs": [
    {
     "data": {
      "text/html": [
       "<div>\n",
       "<style scoped>\n",
       "    .dataframe tbody tr th:only-of-type {\n",
       "        vertical-align: middle;\n",
       "    }\n",
       "\n",
       "    .dataframe tbody tr th {\n",
       "        vertical-align: top;\n",
       "    }\n",
       "\n",
       "    .dataframe thead th {\n",
       "        text-align: right;\n",
       "    }\n",
       "</style>\n",
       "<table border=\"1\" class=\"dataframe\">\n",
       "  <thead>\n",
       "    <tr style=\"text-align: right;\">\n",
       "      <th></th>\n",
       "      <th>transaction_date</th>\n",
       "    </tr>\n",
       "  </thead>\n",
       "  <tbody>\n",
       "    <tr>\n",
       "      <th>0</th>\n",
       "      <td>2019-12-01T23:16:32.812632</td>\n",
       "    </tr>\n",
       "    <tr>\n",
       "      <th>1</th>\n",
       "      <td>2019-12-01T22:45:37.873639</td>\n",
       "    </tr>\n",
       "  </tbody>\n",
       "</table>\n",
       "</div>"
      ],
      "text/plain": [
       "             transaction_date\n",
       "0  2019-12-01T23:16:32.812632\n",
       "1  2019-12-01T22:45:37.873639"
      ]
     },
     "execution_count": 37,
     "metadata": {},
     "output_type": "execute_result"
    }
   ],
   "source": [
    "df[[\"transaction_date\"]].head(2)"
   ]
  },
  {
   "cell_type": "code",
   "execution_count": 41,
   "metadata": {},
   "outputs": [
    {
     "data": {
      "text/plain": [
       "dtype('O')"
      ]
     },
     "execution_count": 41,
     "metadata": {},
     "output_type": "execute_result"
    }
   ],
   "source": [
    "df[\"transaction_date\"].dtype"
   ]
  },
  {
   "cell_type": "code",
   "execution_count": 42,
   "metadata": {},
   "outputs": [],
   "source": [
    "df[\"transaction_date\"] = pd.to_datetime(df[\"transaction_date\"])"
   ]
  },
  {
   "cell_type": "code",
   "execution_count": 43,
   "metadata": {},
   "outputs": [
    {
     "data": {
      "text/plain": [
       "dtype('<M8[ns]')"
      ]
     },
     "execution_count": 43,
     "metadata": {},
     "output_type": "execute_result"
    }
   ],
   "source": [
    "df[\"transaction_date\"].dtype"
   ]
  },
  {
   "cell_type": "code",
   "execution_count": 44,
   "metadata": {},
   "outputs": [
    {
     "data": {
      "text/html": [
       "<div>\n",
       "<style scoped>\n",
       "    .dataframe tbody tr th:only-of-type {\n",
       "        vertical-align: middle;\n",
       "    }\n",
       "\n",
       "    .dataframe tbody tr th {\n",
       "        vertical-align: top;\n",
       "    }\n",
       "\n",
       "    .dataframe thead th {\n",
       "        text-align: right;\n",
       "    }\n",
       "</style>\n",
       "<table border=\"1\" class=\"dataframe\">\n",
       "  <thead>\n",
       "    <tr style=\"text-align: right;\">\n",
       "      <th></th>\n",
       "      <th>transaction_date</th>\n",
       "    </tr>\n",
       "  </thead>\n",
       "  <tbody>\n",
       "    <tr>\n",
       "      <th>0</th>\n",
       "      <td>2019-12-01 23:16:32.812632</td>\n",
       "    </tr>\n",
       "    <tr>\n",
       "      <th>1</th>\n",
       "      <td>2019-12-01 22:45:37.873639</td>\n",
       "    </tr>\n",
       "  </tbody>\n",
       "</table>\n",
       "</div>"
      ],
      "text/plain": [
       "            transaction_date\n",
       "0 2019-12-01 23:16:32.812632\n",
       "1 2019-12-01 22:45:37.873639"
      ]
     },
     "execution_count": 44,
     "metadata": {},
     "output_type": "execute_result"
    }
   ],
   "source": [
    "df[[\"transaction_date\"]].head(2)"
   ]
  },
  {
   "cell_type": "code",
   "execution_count": 66,
   "metadata": {},
   "outputs": [
    {
     "data": {
      "text/plain": [
       "Timestamp('2019-11-01 01:27:15.811098')"
      ]
     },
     "execution_count": 66,
     "metadata": {},
     "output_type": "execute_result"
    }
   ],
   "source": [
    "df[\"transaction_date\"].min()"
   ]
  },
  {
   "cell_type": "code",
   "execution_count": 67,
   "metadata": {},
   "outputs": [
    {
     "data": {
      "text/plain": [
       "Timestamp('2019-12-01 23:16:32.812632')"
      ]
     },
     "execution_count": 67,
     "metadata": {},
     "output_type": "execute_result"
    }
   ],
   "source": [
    "df[\"transaction_date\"].max()"
   ]
  },
  {
   "cell_type": "markdown",
   "metadata": {},
   "source": [
    "### The transactions were made in 30 days !"
   ]
  },
  {
   "cell_type": "markdown",
   "metadata": {},
   "source": [
    "#### Since the date and time it is important to understand fraud, I will separate all the infos of the date"
   ]
  },
  {
   "cell_type": "code",
   "execution_count": 45,
   "metadata": {},
   "outputs": [],
   "source": [
    "df[\"transaction_year\"] = df[\"transaction_date\"].dt.year\n",
    "df[\"transaction_month\"] = df[\"transaction_date\"].dt.month\n",
    "df[\"transaction_day\"] = df[\"transaction_date\"].dt.day\n",
    "df[\"transaction_hour\"] = df[\"transaction_date\"].dt.hour\n",
    "df[\"transaction_minute\"] = df[\"transaction_date\"].dt.minute\n",
    "#df[\"transaction_weekday\"] = df[\"transaction_date\"].dt.weekday  # 0 para segunda-feira, 6 para domingo"
   ]
  },
  {
   "cell_type": "code",
   "execution_count": 46,
   "metadata": {},
   "outputs": [
    {
     "data": {
      "text/html": [
       "<div>\n",
       "<style scoped>\n",
       "    .dataframe tbody tr th:only-of-type {\n",
       "        vertical-align: middle;\n",
       "    }\n",
       "\n",
       "    .dataframe tbody tr th {\n",
       "        vertical-align: top;\n",
       "    }\n",
       "\n",
       "    .dataframe thead th {\n",
       "        text-align: right;\n",
       "    }\n",
       "</style>\n",
       "<table border=\"1\" class=\"dataframe\">\n",
       "  <thead>\n",
       "    <tr style=\"text-align: right;\">\n",
       "      <th></th>\n",
       "      <th>transaction_id</th>\n",
       "      <th>merchant_id</th>\n",
       "      <th>user_id</th>\n",
       "      <th>card_number</th>\n",
       "      <th>transaction_date</th>\n",
       "      <th>transaction_amount</th>\n",
       "      <th>device_id</th>\n",
       "      <th>has_cbk</th>\n",
       "      <th>transaction_year</th>\n",
       "      <th>transaction_month</th>\n",
       "      <th>transaction_day</th>\n",
       "      <th>transaction_hour</th>\n",
       "      <th>transaction_minute</th>\n",
       "    </tr>\n",
       "  </thead>\n",
       "  <tbody>\n",
       "    <tr>\n",
       "      <th>0</th>\n",
       "      <td>21320398</td>\n",
       "      <td>29744</td>\n",
       "      <td>97051</td>\n",
       "      <td>434505******9116</td>\n",
       "      <td>2019-12-01 23:16:32.812632</td>\n",
       "      <td>374.56</td>\n",
       "      <td>285475.0</td>\n",
       "      <td>False</td>\n",
       "      <td>2019</td>\n",
       "      <td>12</td>\n",
       "      <td>1</td>\n",
       "      <td>23</td>\n",
       "      <td>16</td>\n",
       "    </tr>\n",
       "    <tr>\n",
       "      <th>1</th>\n",
       "      <td>21320399</td>\n",
       "      <td>92895</td>\n",
       "      <td>2708</td>\n",
       "      <td>444456******4210</td>\n",
       "      <td>2019-12-01 22:45:37.873639</td>\n",
       "      <td>734.87</td>\n",
       "      <td>497105.0</td>\n",
       "      <td>True</td>\n",
       "      <td>2019</td>\n",
       "      <td>12</td>\n",
       "      <td>1</td>\n",
       "      <td>22</td>\n",
       "      <td>45</td>\n",
       "    </tr>\n",
       "  </tbody>\n",
       "</table>\n",
       "</div>"
      ],
      "text/plain": [
       "   transaction_id  merchant_id  user_id       card_number  \\\n",
       "0        21320398        29744    97051  434505******9116   \n",
       "1        21320399        92895     2708  444456******4210   \n",
       "\n",
       "            transaction_date  transaction_amount  device_id  has_cbk  \\\n",
       "0 2019-12-01 23:16:32.812632              374.56   285475.0    False   \n",
       "1 2019-12-01 22:45:37.873639              734.87   497105.0     True   \n",
       "\n",
       "   transaction_year  transaction_month  transaction_day  transaction_hour  \\\n",
       "0              2019                 12                1                23   \n",
       "1              2019                 12                1                22   \n",
       "\n",
       "   transaction_minute  \n",
       "0                  16  \n",
       "1                  45  "
      ]
     },
     "execution_count": 46,
     "metadata": {},
     "output_type": "execute_result"
    }
   ],
   "source": [
    "df.head(2)"
   ]
  },
  {
   "cell_type": "markdown",
   "metadata": {},
   "source": [
    "### First hypotesis: fraudulent transactions in a small period of time"
   ]
  },
  {
   "cell_type": "markdown",
   "metadata": {},
   "source": [
    "To understand that we need to count the delta time of those transacitons"
   ]
  },
  {
   "cell_type": "code",
   "execution_count": 48,
   "metadata": {},
   "outputs": [
    {
     "data": {
      "text/html": [
       "<div>\n",
       "<style scoped>\n",
       "    .dataframe tbody tr th:only-of-type {\n",
       "        vertical-align: middle;\n",
       "    }\n",
       "\n",
       "    .dataframe tbody tr th {\n",
       "        vertical-align: top;\n",
       "    }\n",
       "\n",
       "    .dataframe thead th {\n",
       "        text-align: right;\n",
       "    }\n",
       "</style>\n",
       "<table border=\"1\" class=\"dataframe\">\n",
       "  <thead>\n",
       "    <tr style=\"text-align: right;\">\n",
       "      <th></th>\n",
       "      <th>transaction_id</th>\n",
       "      <th>merchant_id</th>\n",
       "      <th>user_id</th>\n",
       "      <th>card_number</th>\n",
       "      <th>transaction_date</th>\n",
       "      <th>transaction_amount</th>\n",
       "      <th>device_id</th>\n",
       "      <th>has_cbk</th>\n",
       "      <th>transaction_year</th>\n",
       "      <th>transaction_month</th>\n",
       "      <th>transaction_day</th>\n",
       "      <th>transaction_hour</th>\n",
       "      <th>transaction_minute</th>\n",
       "    </tr>\n",
       "  </thead>\n",
       "  <tbody>\n",
       "    <tr>\n",
       "      <th>11</th>\n",
       "      <td>21320409</td>\n",
       "      <td>32954</td>\n",
       "      <td>6</td>\n",
       "      <td>428267******9019</td>\n",
       "      <td>2019-12-01 20:44:48.109011</td>\n",
       "      <td>443.90</td>\n",
       "      <td>757451.0</td>\n",
       "      <td>False</td>\n",
       "      <td>2019</td>\n",
       "      <td>12</td>\n",
       "      <td>1</td>\n",
       "      <td>20</td>\n",
       "      <td>44</td>\n",
       "    </tr>\n",
       "    <tr>\n",
       "      <th>3197</th>\n",
       "      <td>21323595</td>\n",
       "      <td>35930</td>\n",
       "      <td>7</td>\n",
       "      <td>544315******7773</td>\n",
       "      <td>2019-11-01 01:29:45.799767</td>\n",
       "      <td>359.68</td>\n",
       "      <td>NaN</td>\n",
       "      <td>False</td>\n",
       "      <td>2019</td>\n",
       "      <td>11</td>\n",
       "      <td>1</td>\n",
       "      <td>1</td>\n",
       "      <td>29</td>\n",
       "    </tr>\n",
       "    <tr>\n",
       "      <th>3198</th>\n",
       "      <td>21323596</td>\n",
       "      <td>17348</td>\n",
       "      <td>8</td>\n",
       "      <td>650487******9884</td>\n",
       "      <td>2019-11-01 01:27:15.811098</td>\n",
       "      <td>2416.70</td>\n",
       "      <td>NaN</td>\n",
       "      <td>False</td>\n",
       "      <td>2019</td>\n",
       "      <td>11</td>\n",
       "      <td>1</td>\n",
       "      <td>1</td>\n",
       "      <td>27</td>\n",
       "    </tr>\n",
       "    <tr>\n",
       "      <th>3189</th>\n",
       "      <td>21323587</td>\n",
       "      <td>82477</td>\n",
       "      <td>19</td>\n",
       "      <td>525496******3638</td>\n",
       "      <td>2019-11-01 17:52:57.071163</td>\n",
       "      <td>165.14</td>\n",
       "      <td>NaN</td>\n",
       "      <td>False</td>\n",
       "      <td>2019</td>\n",
       "      <td>11</td>\n",
       "      <td>1</td>\n",
       "      <td>17</td>\n",
       "      <td>52</td>\n",
       "    </tr>\n",
       "  </tbody>\n",
       "</table>\n",
       "</div>"
      ],
      "text/plain": [
       "      transaction_id  merchant_id  user_id       card_number  \\\n",
       "11          21320409        32954        6  428267******9019   \n",
       "3197        21323595        35930        7  544315******7773   \n",
       "3198        21323596        17348        8  650487******9884   \n",
       "3189        21323587        82477       19  525496******3638   \n",
       "\n",
       "               transaction_date  transaction_amount  device_id  has_cbk  \\\n",
       "11   2019-12-01 20:44:48.109011              443.90   757451.0    False   \n",
       "3197 2019-11-01 01:29:45.799767              359.68        NaN    False   \n",
       "3198 2019-11-01 01:27:15.811098             2416.70        NaN    False   \n",
       "3189 2019-11-01 17:52:57.071163              165.14        NaN    False   \n",
       "\n",
       "      transaction_year  transaction_month  transaction_day  transaction_hour  \\\n",
       "11                2019                 12                1                20   \n",
       "3197              2019                 11                1                 1   \n",
       "3198              2019                 11                1                 1   \n",
       "3189              2019                 11                1                17   \n",
       "\n",
       "      transaction_minute  \n",
       "11                    44  \n",
       "3197                  29  \n",
       "3198                  27  \n",
       "3189                  52  "
      ]
     },
     "execution_count": 48,
     "metadata": {},
     "output_type": "execute_result"
    }
   ],
   "source": [
    "#Sort the Dataframe to understand the time diff of every transaction (after a groupby)\n",
    "df = df.sort_values([\"user_id\", \"transaction_date\"])\n",
    "df.head(4)"
   ]
  },
  {
   "cell_type": "code",
   "execution_count": 50,
   "metadata": {},
   "outputs": [
    {
     "data": {
      "text/html": [
       "<div>\n",
       "<style scoped>\n",
       "    .dataframe tbody tr th:only-of-type {\n",
       "        vertical-align: middle;\n",
       "    }\n",
       "\n",
       "    .dataframe tbody tr th {\n",
       "        vertical-align: top;\n",
       "    }\n",
       "\n",
       "    .dataframe thead th {\n",
       "        text-align: right;\n",
       "    }\n",
       "</style>\n",
       "<table border=\"1\" class=\"dataframe\">\n",
       "  <thead>\n",
       "    <tr style=\"text-align: right;\">\n",
       "      <th></th>\n",
       "      <th>transaction_id</th>\n",
       "      <th>merchant_id</th>\n",
       "      <th>user_id</th>\n",
       "      <th>card_number</th>\n",
       "      <th>transaction_date</th>\n",
       "      <th>transaction_amount</th>\n",
       "      <th>device_id</th>\n",
       "      <th>has_cbk</th>\n",
       "      <th>transaction_year</th>\n",
       "      <th>transaction_month</th>\n",
       "      <th>transaction_day</th>\n",
       "      <th>transaction_hour</th>\n",
       "      <th>transaction_minute</th>\n",
       "      <th>time_diff</th>\n",
       "    </tr>\n",
       "  </thead>\n",
       "  <tbody>\n",
       "    <tr>\n",
       "      <th>11</th>\n",
       "      <td>21320409</td>\n",
       "      <td>32954</td>\n",
       "      <td>6</td>\n",
       "      <td>428267******9019</td>\n",
       "      <td>2019-12-01 20:44:48.109011</td>\n",
       "      <td>443.90</td>\n",
       "      <td>757451.0</td>\n",
       "      <td>False</td>\n",
       "      <td>2019</td>\n",
       "      <td>12</td>\n",
       "      <td>1</td>\n",
       "      <td>20</td>\n",
       "      <td>44</td>\n",
       "      <td>NaN</td>\n",
       "    </tr>\n",
       "    <tr>\n",
       "      <th>3197</th>\n",
       "      <td>21323595</td>\n",
       "      <td>35930</td>\n",
       "      <td>7</td>\n",
       "      <td>544315******7773</td>\n",
       "      <td>2019-11-01 01:29:45.799767</td>\n",
       "      <td>359.68</td>\n",
       "      <td>NaN</td>\n",
       "      <td>False</td>\n",
       "      <td>2019</td>\n",
       "      <td>11</td>\n",
       "      <td>1</td>\n",
       "      <td>1</td>\n",
       "      <td>29</td>\n",
       "      <td>NaN</td>\n",
       "    </tr>\n",
       "    <tr>\n",
       "      <th>3198</th>\n",
       "      <td>21323596</td>\n",
       "      <td>17348</td>\n",
       "      <td>8</td>\n",
       "      <td>650487******9884</td>\n",
       "      <td>2019-11-01 01:27:15.811098</td>\n",
       "      <td>2416.70</td>\n",
       "      <td>NaN</td>\n",
       "      <td>False</td>\n",
       "      <td>2019</td>\n",
       "      <td>11</td>\n",
       "      <td>1</td>\n",
       "      <td>1</td>\n",
       "      <td>27</td>\n",
       "      <td>NaN</td>\n",
       "    </tr>\n",
       "    <tr>\n",
       "      <th>3189</th>\n",
       "      <td>21323587</td>\n",
       "      <td>82477</td>\n",
       "      <td>19</td>\n",
       "      <td>525496******3638</td>\n",
       "      <td>2019-11-01 17:52:57.071163</td>\n",
       "      <td>165.14</td>\n",
       "      <td>NaN</td>\n",
       "      <td>False</td>\n",
       "      <td>2019</td>\n",
       "      <td>11</td>\n",
       "      <td>1</td>\n",
       "      <td>17</td>\n",
       "      <td>52</td>\n",
       "      <td>NaN</td>\n",
       "    </tr>\n",
       "  </tbody>\n",
       "</table>\n",
       "</div>"
      ],
      "text/plain": [
       "      transaction_id  merchant_id  user_id       card_number  \\\n",
       "11          21320409        32954        6  428267******9019   \n",
       "3197        21323595        35930        7  544315******7773   \n",
       "3198        21323596        17348        8  650487******9884   \n",
       "3189        21323587        82477       19  525496******3638   \n",
       "\n",
       "               transaction_date  transaction_amount  device_id  has_cbk  \\\n",
       "11   2019-12-01 20:44:48.109011              443.90   757451.0    False   \n",
       "3197 2019-11-01 01:29:45.799767              359.68        NaN    False   \n",
       "3198 2019-11-01 01:27:15.811098             2416.70        NaN    False   \n",
       "3189 2019-11-01 17:52:57.071163              165.14        NaN    False   \n",
       "\n",
       "      transaction_year  transaction_month  transaction_day  transaction_hour  \\\n",
       "11                2019                 12                1                20   \n",
       "3197              2019                 11                1                 1   \n",
       "3198              2019                 11                1                 1   \n",
       "3189              2019                 11                1                17   \n",
       "\n",
       "      transaction_minute  time_diff  \n",
       "11                    44        NaN  \n",
       "3197                  29        NaN  \n",
       "3198                  27        NaN  \n",
       "3189                  52        NaN  "
      ]
     },
     "execution_count": 50,
     "metadata": {},
     "output_type": "execute_result"
    }
   ],
   "source": [
    "df[\"time_diff\"] = df.groupby(\"user_id\")[\"transaction_date\"].diff().dt.total_seconds()\n",
    "df.head(4)"
   ]
  },
  {
   "cell_type": "code",
   "execution_count": 51,
   "metadata": {},
   "outputs": [
    {
     "data": {
      "text/plain": [
       "array([           nan, 3.31732420e+01, 1.63331928e+05, 5.70370995e+05,\n",
       "       2.30735171e+05, 1.08439832e+02, 1.57483308e+05, 4.30484820e+05,\n",
       "       3.78562176e+02, 3.28206297e+03, 3.40071236e+03, 1.73896241e+03,\n",
       "       4.21551408e+02, 1.18095149e+04, 5.84966417e+02, 5.89981192e+05,\n",
       "       2.45960702e+04, 1.66752935e+02, 8.81248467e+04, 7.98711296e+02,\n",
       "       3.18695059e+02, 2.07875193e+02, 5.75460725e+03, 2.94479007e+03,\n",
       "       8.32611146e+04, 7.50433663e+04, 8.07603029e+02, 1.09307994e+05,\n",
       "       2.80284117e+04, 3.50198319e+03, 7.55154626e+02, 3.20031874e+05,\n",
       "       1.93606064e+05, 7.75929013e+04, 9.63143984e+04, 6.54250353e+04,\n",
       "       5.59374114e+03, 5.06618135e+02, 3.21206363e+04, 6.57984450e+04,\n",
       "       2.18002028e+03, 8.00348919e+04, 9.06598191e+04, 6.98463938e+05,\n",
       "       4.65271990e+04, 9.24114391e+03, 6.40189949e+04, 2.39649975e+02,\n",
       "       9.70680728e+02, 9.91547911e+04, 3.38713009e+02, 5.86611539e+03,\n",
       "       1.07008123e+05, 4.44201426e+04, 3.65485805e+02, 6.76545880e+01,\n",
       "       5.26453868e+05, 2.55660934e+05, 3.28917431e+05, 1.10854627e+05,\n",
       "       3.29593638e+05, 7.62845182e+05, 5.73195230e+01, 3.34459490e+01,\n",
       "       4.48311250e+03, 6.54234839e+03, 2.03269342e+04, 2.58498279e+02,\n",
       "       6.82123043e+03, 5.78260214e+03, 7.28406613e+04, 1.99435718e+05,\n",
       "       6.38042710e+02, 5.86680764e+03, 4.69402943e+04, 8.25897637e+04,\n",
       "       9.16650174e+03, 8.64617991e+04, 5.65319693e+04, 3.78971110e+03,\n",
       "       9.56257427e+04, 8.01835472e+04, 8.80606580e+03, 9.64698673e+04,\n",
       "       9.83889079e+02, 6.93174816e+03, 6.24476251e+04, 8.87226045e+03,\n",
       "       3.72407137e+03, 2.21561741e+03, 4.24361288e+03, 6.96820566e+04,\n",
       "       4.92005460e+03, 6.72466836e+03, 6.74127524e+02, 1.24101992e+03,\n",
       "       3.26021495e+03, 2.71205844e+03, 4.85779159e+04, 2.00282001e+03,\n",
       "       1.76790423e+03, 7.43635113e+02, 4.51187774e+03, 1.53663183e+03,\n",
       "       9.63857347e+03, 1.71271931e+05, 2.34455200e+02, 4.12553767e+04,\n",
       "       2.51730976e+02, 5.48060961e+05, 2.70292442e+02, 1.75991182e+02,\n",
       "       8.45018562e+04, 5.95814842e+05, 3.27449050e+01, 9.29216180e+02,\n",
       "       1.38176261e+03, 6.14377580e+01, 2.71709685e+02, 1.60630648e+05,\n",
       "       6.02672730e+01, 1.76657991e+03, 7.49439498e+04, 1.86117924e+03,\n",
       "       4.37970578e+05, 2.23966612e+03, 1.03242669e+06, 1.19184444e+06,\n",
       "       2.21189478e+04, 5.27915709e+04, 1.29503539e+03, 9.83044800e+01,\n",
       "       6.09412887e+02, 5.46075504e+03, 1.61164569e+02, 1.64359292e+06,\n",
       "       1.62559816e+03, 5.06189716e+02, 8.92513584e+04, 4.18104076e+02,\n",
       "       8.03304339e+02, 1.91316465e+03, 8.98816417e+04, 2.17631771e+02,\n",
       "       5.87043465e+05, 1.05235372e+06, 1.40207756e+03, 2.88185692e+03,\n",
       "       1.05021079e+03, 2.62129062e+04, 4.20619058e+05, 5.82707537e+05,\n",
       "       7.43495031e+04, 8.05462918e+04, 1.44993894e+06, 4.03720264e+02,\n",
       "       9.51510244e+04, 4.23188251e+05, 9.07401415e+02, 3.77603810e+05,\n",
       "       4.41385216e+04, 3.05793067e+02, 1.49344360e+03, 2.61120668e+05,\n",
       "       9.38629192e+05, 1.54380798e+03, 8.32034701e+04, 1.64335545e+04,\n",
       "       4.64524588e+02, 6.68984290e+04, 6.86605606e+03, 1.07441805e+05,\n",
       "       8.56105265e+04, 8.80918110e+01, 8.37359910e+04, 8.72799745e+04,\n",
       "       1.50596059e+02, 1.65638455e+02, 7.86871459e+04, 2.04295582e+03,\n",
       "       9.01407694e+04, 2.68336096e+05, 2.50449925e+04, 4.23551870e+02,\n",
       "       1.11430695e+03, 7.62322764e+05, 9.42833802e+04, 1.69407090e+05,\n",
       "       8.89158855e+04, 7.89699839e+03, 8.73283777e+02, 7.88582159e+03,\n",
       "       2.37335511e+05, 2.70723606e+05, 2.47627964e+05, 1.78809994e+05,\n",
       "       2.38303530e+05, 3.11126178e+05, 8.78999365e+04, 8.09426114e+02,\n",
       "       1.43509780e+06, 1.11392667e+02, 1.72850253e+05, 2.03940179e+03,\n",
       "       4.02860171e+03, 1.56304809e+04, 1.79960649e+05, 5.12985777e+05,\n",
       "       1.67393782e+03, 5.45199137e+03, 1.72659024e+03, 2.69560539e+02,\n",
       "       2.11671967e+03, 3.01892909e+02, 3.49678839e+04, 5.64371585e+02,\n",
       "       2.21898227e+06, 1.03057182e+03, 7.79324794e+04, 8.08850339e+04,\n",
       "       2.39389223e+02, 1.81619190e+01, 1.55158880e+06, 1.11196948e+06,\n",
       "       1.46327334e+06, 2.81581301e+03, 1.24883841e+04, 3.76080221e+04,\n",
       "       1.64509127e+06, 1.72448432e+02, 7.28865720e+01, 6.40925829e+02,\n",
       "       1.27201927e+03, 3.59706620e+01, 5.49216415e+03, 1.93445584e+03,\n",
       "       3.88313051e+03, 2.58983581e+03, 8.74701107e+03, 5.87167363e+02,\n",
       "       1.12619368e+05, 2.57681245e+03, 7.38815512e+04, 1.23723672e+04,\n",
       "       1.05771126e+06, 5.63476927e+04, 1.77917506e+03, 5.31148274e+02,\n",
       "       2.89232790e+04, 1.33381403e+02, 4.91068700e+01, 2.64142309e+04,\n",
       "       9.02910966e+04, 6.91089666e+04, 2.02378516e+02, 1.31705119e+02,\n",
       "       1.50647890e+03, 2.04852002e+04, 2.28389886e+05, 1.54143868e+03,\n",
       "       9.81198608e+03, 1.72256080e+01, 1.00113728e+03, 1.62087423e+03,\n",
       "       5.05993254e+02, 1.56828145e+02, 3.47464946e+02, 5.91186163e+05,\n",
       "       1.03865235e+02, 7.38041841e+03, 1.46252658e+06, 2.56481875e+03,\n",
       "       1.73046199e+05, 3.11741649e+02, 1.32866580e+05, 2.53829650e+03,\n",
       "       8.99970643e+05, 5.38440192e+05, 6.07184377e+05, 2.97685597e+03,\n",
       "       1.00794694e+02, 6.83855059e+05, 1.72024838e+05, 2.45080350e+05,\n",
       "       1.45268012e+05, 6.53969038e+03, 8.88609467e+03, 9.92208140e+01,\n",
       "       8.20714886e+02, 1.35084592e+03, 5.35462549e+02, 1.62887214e+06,\n",
       "       6.59165069e+04, 3.36195240e+03, 9.76692100e+01, 8.87350656e+05,\n",
       "       1.45457543e+03, 5.83053395e+04, 7.70092223e+03, 7.95470279e+04,\n",
       "       1.44674977e+03, 9.07499743e+02, 1.10672994e+03, 1.57209412e+03,\n",
       "       5.11703610e+01, 6.99857474e+05, 1.70408045e+05, 2.20512834e+04,\n",
       "       1.60292251e+03, 7.14119708e+02, 6.83415640e+05, 4.59544695e+02,\n",
       "       5.61287258e+02, 9.71806596e+03, 4.98859929e+05, 7.73238337e+02,\n",
       "       4.55690119e+02, 3.19133569e+02, 1.85477305e+04, 9.65033043e+04,\n",
       "       4.48761280e+03, 4.11858385e+02, 1.80973249e+05, 2.91431964e+03,\n",
       "       2.26745413e+03, 8.05303995e+03, 1.03426609e+05, 7.58009885e+02,\n",
       "       9.67415237e+03, 4.40497222e+04, 1.73828031e+03, 3.65156884e+02,\n",
       "       4.14941830e+01, 1.55511312e+02, 2.93448800e+01, 1.23297462e+02,\n",
       "       8.00146970e+01, 3.53867583e+03, 2.45737924e+03, 6.92126174e+04,\n",
       "       4.07767610e+05, 1.85782748e+02, 4.31903740e+01, 3.76133946e+03,\n",
       "       1.50601798e+03, 7.94292040e+01, 3.94061320e+01, 6.13091500e+01,\n",
       "       4.90915893e+02, 1.54010653e+03, 2.17196409e+03, 1.17880898e+04,\n",
       "       9.87529047e+02, 1.10685791e+05, 1.22055858e+04, 1.15852464e+05,\n",
       "       3.27135070e+01, 2.35092380e+01, 1.74174986e+05, 8.76354878e+04,\n",
       "       1.85359465e+05, 7.53533689e+04, 9.79705830e+04, 3.34238530e+03,\n",
       "       1.69935016e+05, 5.30971014e+03, 4.56106045e+04, 1.22855581e+03,\n",
       "       1.43563488e+04, 6.86392854e+02, 5.63329836e+02, 2.81497731e+03,\n",
       "       4.41445503e+03, 1.40903049e+03, 8.05059316e+02, 2.75306039e+03,\n",
       "       2.88486156e+03, 5.17081964e+03, 1.95003043e+03, 5.43381034e+02,\n",
       "       6.56236437e+02, 9.40700251e+03, 3.63950635e+02, 3.13650936e+04,\n",
       "       5.05108195e+02, 3.72337458e+03, 6.04633178e+05, 4.53599466e+03,\n",
       "       6.24468512e+02, 2.75393852e+02, 3.34019754e+05, 1.67997563e+03,\n",
       "       5.06463090e+02, 6.44078375e+02, 1.57726437e+05, 2.57472179e+05,\n",
       "       8.80850018e+04, 4.36259620e+03, 9.68332698e+04, 4.39243996e+05,\n",
       "       1.58016410e+04, 7.90786539e+03, 1.26977138e+04, 1.69736330e+05,\n",
       "       4.47443157e+03, 3.21523186e+03, 3.46197437e+03, 1.37621337e+06,\n",
       "       1.07927820e+05, 2.67384215e+05, 1.75587809e+05, 7.34360238e+02,\n",
       "       5.09607358e+05, 9.58332430e+01, 7.76182193e+04, 8.89681085e+04,\n",
       "       9.09338967e+04, 2.54484775e+05, 2.28023778e+02, 3.95807267e+03,\n",
       "       1.18035292e+03, 2.07992699e+02, 1.47056577e+05, 8.59416540e+01,\n",
       "       5.17771580e+01, 8.60309750e+01, 1.45240193e+06, 1.90809263e+05,\n",
       "       6.49307711e+03, 6.96783058e+04, 5.23914376e+05, 1.76986161e+03,\n",
       "       6.90990752e+05, 3.74918330e+01, 2.60052245e+03, 2.29688676e+03,\n",
       "       5.25103835e+03, 2.88937248e+03, 1.99014527e+03, 1.17017078e+03,\n",
       "       8.19022625e+04, 7.63229135e+02, 1.73731682e+03, 2.23765423e+03,\n",
       "       6.85791249e+04, 1.14475605e+04, 2.45747195e+05, 1.35676490e+03,\n",
       "       3.56826297e+03, 6.15216344e+04, 5.12257365e+03, 6.23127403e+02,\n",
       "       1.06255435e+05, 3.50848322e+03, 7.21547918e+02, 4.00227916e+03,\n",
       "       2.70324852e+03, 4.52896972e+05, 6.61211050e+04, 3.18449909e+02,\n",
       "       1.16562116e+02, 6.74217285e+04, 1.80383080e+03, 1.84771784e+05,\n",
       "       7.78579671e+04, 5.23337884e+02, 5.15279492e+03, 1.43308863e+02,\n",
       "       5.13682537e+05, 6.66429953e+04, 4.34815402e+05, 3.24157352e+03,\n",
       "       5.43811076e+02, 1.36143625e+04, 2.25680828e+03, 4.74953679e+02,\n",
       "       1.52937798e+03, 2.49535212e+03, 7.93375651e+02, 2.88903798e+04,\n",
       "       1.82257592e+04, 6.59348608e+02, 3.34103852e+03, 3.81384316e+02,\n",
       "       4.60550217e+03, 1.92141932e+05, 1.35282538e+06, 9.86970870e+01,\n",
       "       5.32689050e+01, 6.11481372e+03, 3.87663854e+03, 5.28054205e+04,\n",
       "       3.60165596e+03, 1.32840173e+03, 1.80711256e+05, 3.82413451e+05])"
      ]
     },
     "execution_count": 51,
     "metadata": {},
     "output_type": "execute_result"
    }
   ],
   "source": [
    "df[\"time_diff\"].unique()"
   ]
  },
  {
   "cell_type": "code",
   "execution_count": 64,
   "metadata": {},
   "outputs": [
    {
     "data": {
      "text/plain": [
       "2704"
      ]
     },
     "execution_count": 64,
     "metadata": {},
     "output_type": "execute_result"
    }
   ],
   "source": [
    "df[\"user_id\"].nunique()"
   ]
  },
  {
   "cell_type": "code",
   "execution_count": 65,
   "metadata": {},
   "outputs": [
    {
     "data": {
      "image/png": "[encoded data removed]",
      "text/plain": [
       "<Figure size 640x480 with 1 Axes>"
      ]
     },
     "metadata": {},
     "output_type": "display_data"
    }
   ],
   "source": [
    "# Calcule a média dos intervalos de tempo por usuário\n",
    "mean_time_diff_per_user = df.groupby(\"user_id\")[\"time_diff\"].mean()\n",
    "\n",
    "# Plote o gráfico de forma resumida\n",
    "plt.plot(mean_time_diff_per_user)\n",
    "plt.xlabel(\"User ID\")\n",
    "plt.ylabel(\"Average Time Difference (seconds)\")\n",
    "plt.title(\"Average Time Difference between Transactions per User\")\n",
    "plt.show()\n"
   ]
  },
  {
   "cell_type": "code",
   "execution_count": null,
   "metadata": {},
   "outputs": [],
   "source": []
  },
  {
   "cell_type": "markdown",
   "metadata": {},
   "source": []
  },
  {
   "cell_type": "markdown",
   "metadata": {},
   "source": [
    "Possible Rules to investigate suspisius transactions (1 month): <br>\n",
    "    - ID x Device: <br>\n",
    "        - 1 ID 1 Device - baixo risco; <br>\n",
    "        - 1 ID 2 Device - medio risco; <br>\n",
    "        - 1 ID 3 Device - alto risco; <br>\n",
    "    - Credit card used for: <br>\n",
    "        - <br>\n",
    "        - <br>\n",
    "        - <br>\n",
    "    - User with charge back before: <br>\n",
    "        - Alto risco <br>\n",
    "    -  <br>\n",
    "    - Tempo de transação: <br>\n",
    "        - > 120 - baixo risco <br>\n",
    "        - 60 < x < 120 - medio risco <br>\n",
    "        - <60seg - alto risco; <br>"
   ]
  },
  {
   "cell_type": "code",
   "execution_count": null,
   "metadata": {},
   "outputs": [],
   "source": [
    "- Marcar possíveis transações fraudulentas para melhor ;\n",
    "- Criar um modelo de classificação para prever possiveis transações fraudulentas: Alto risco / medio risco / baixo risco;\n",
    "-\n",
    "-"
   ]
  },
  {
   "cell_type": "code",
   "execution_count": null,
   "metadata": {},
   "outputs": [],
   "source": [
    "- classificar os usuarios mais fraudulentos - de acordo com isso investigar (double check)"
   ]
  },
  {
   "cell_type": "code",
   "execution_count": 69,
   "metadata": {},
   "outputs": [
    {
     "data": {
      "text/html": [
       "<div>\n",
       "<style scoped>\n",
       "    .dataframe tbody tr th:only-of-type {\n",
       "        vertical-align: middle;\n",
       "    }\n",
       "\n",
       "    .dataframe tbody tr th {\n",
       "        vertical-align: top;\n",
       "    }\n",
       "\n",
       "    .dataframe thead th {\n",
       "        text-align: right;\n",
       "    }\n",
       "</style>\n",
       "<table border=\"1\" class=\"dataframe\">\n",
       "  <thead>\n",
       "    <tr style=\"text-align: right;\">\n",
       "      <th></th>\n",
       "      <th>transaction_id</th>\n",
       "      <th>merchant_id</th>\n",
       "      <th>user_id</th>\n",
       "      <th>card_number</th>\n",
       "      <th>transaction_date</th>\n",
       "      <th>transaction_amount</th>\n",
       "      <th>device_id</th>\n",
       "      <th>has_cbk</th>\n",
       "      <th>transaction_year</th>\n",
       "      <th>transaction_month</th>\n",
       "      <th>transaction_day</th>\n",
       "      <th>transaction_hour</th>\n",
       "      <th>transaction_minute</th>\n",
       "      <th>time_diff</th>\n",
       "    </tr>\n",
       "  </thead>\n",
       "  <tbody>\n",
       "    <tr>\n",
       "      <th>11</th>\n",
       "      <td>21320409</td>\n",
       "      <td>32954</td>\n",
       "      <td>6</td>\n",
       "      <td>428267******9019</td>\n",
       "      <td>2019-12-01 20:44:48.109011</td>\n",
       "      <td>443.90</td>\n",
       "      <td>757451.0</td>\n",
       "      <td>False</td>\n",
       "      <td>2019</td>\n",
       "      <td>12</td>\n",
       "      <td>1</td>\n",
       "      <td>20</td>\n",
       "      <td>44</td>\n",
       "      <td>NaN</td>\n",
       "    </tr>\n",
       "    <tr>\n",
       "      <th>3197</th>\n",
       "      <td>21323595</td>\n",
       "      <td>35930</td>\n",
       "      <td>7</td>\n",
       "      <td>544315******7773</td>\n",
       "      <td>2019-11-01 01:29:45.799767</td>\n",
       "      <td>359.68</td>\n",
       "      <td>NaN</td>\n",
       "      <td>False</td>\n",
       "      <td>2019</td>\n",
       "      <td>11</td>\n",
       "      <td>1</td>\n",
       "      <td>1</td>\n",
       "      <td>29</td>\n",
       "      <td>NaN</td>\n",
       "    </tr>\n",
       "    <tr>\n",
       "      <th>3198</th>\n",
       "      <td>21323596</td>\n",
       "      <td>17348</td>\n",
       "      <td>8</td>\n",
       "      <td>650487******9884</td>\n",
       "      <td>2019-11-01 01:27:15.811098</td>\n",
       "      <td>2416.70</td>\n",
       "      <td>NaN</td>\n",
       "      <td>False</td>\n",
       "      <td>2019</td>\n",
       "      <td>11</td>\n",
       "      <td>1</td>\n",
       "      <td>1</td>\n",
       "      <td>27</td>\n",
       "      <td>NaN</td>\n",
       "    </tr>\n",
       "    <tr>\n",
       "      <th>3189</th>\n",
       "      <td>21323587</td>\n",
       "      <td>82477</td>\n",
       "      <td>19</td>\n",
       "      <td>525496******3638</td>\n",
       "      <td>2019-11-01 17:52:57.071163</td>\n",
       "      <td>165.14</td>\n",
       "      <td>NaN</td>\n",
       "      <td>False</td>\n",
       "      <td>2019</td>\n",
       "      <td>11</td>\n",
       "      <td>1</td>\n",
       "      <td>17</td>\n",
       "      <td>52</td>\n",
       "      <td>NaN</td>\n",
       "    </tr>\n",
       "    <tr>\n",
       "      <th>390</th>\n",
       "      <td>21320788</td>\n",
       "      <td>64192</td>\n",
       "      <td>132</td>\n",
       "      <td>485464******8785</td>\n",
       "      <td>2019-11-30 10:36:29.122871</td>\n",
       "      <td>714.56</td>\n",
       "      <td>568889.0</td>\n",
       "      <td>False</td>\n",
       "      <td>2019</td>\n",
       "      <td>11</td>\n",
       "      <td>30</td>\n",
       "      <td>10</td>\n",
       "      <td>36</td>\n",
       "      <td>NaN</td>\n",
       "    </tr>\n",
       "    <tr>\n",
       "      <th>...</th>\n",
       "      <td>...</td>\n",
       "      <td>...</td>\n",
       "      <td>...</td>\n",
       "      <td>...</td>\n",
       "      <td>...</td>\n",
       "      <td>...</td>\n",
       "      <td>...</td>\n",
       "      <td>...</td>\n",
       "      <td>...</td>\n",
       "      <td>...</td>\n",
       "      <td>...</td>\n",
       "      <td>...</td>\n",
       "      <td>...</td>\n",
       "      <td>...</td>\n",
       "    </tr>\n",
       "    <tr>\n",
       "      <th>1475</th>\n",
       "      <td>21321873</td>\n",
       "      <td>15718</td>\n",
       "      <td>99863</td>\n",
       "      <td>516292******4125</td>\n",
       "      <td>2019-11-23 18:36:15.424406</td>\n",
       "      <td>466.64</td>\n",
       "      <td>223648.0</td>\n",
       "      <td>False</td>\n",
       "      <td>2019</td>\n",
       "      <td>11</td>\n",
       "      <td>23</td>\n",
       "      <td>18</td>\n",
       "      <td>36</td>\n",
       "      <td>NaN</td>\n",
       "    </tr>\n",
       "    <tr>\n",
       "      <th>893</th>\n",
       "      <td>21321291</td>\n",
       "      <td>29842</td>\n",
       "      <td>99875</td>\n",
       "      <td>544731******2488</td>\n",
       "      <td>2019-11-28 18:26:43.061020</td>\n",
       "      <td>191.08</td>\n",
       "      <td>335107.0</td>\n",
       "      <td>False</td>\n",
       "      <td>2019</td>\n",
       "      <td>11</td>\n",
       "      <td>28</td>\n",
       "      <td>18</td>\n",
       "      <td>26</td>\n",
       "      <td>NaN</td>\n",
       "    </tr>\n",
       "    <tr>\n",
       "      <th>1541</th>\n",
       "      <td>21321939</td>\n",
       "      <td>91972</td>\n",
       "      <td>99876</td>\n",
       "      <td>511588******6999</td>\n",
       "      <td>2019-11-23 16:13:33.495480</td>\n",
       "      <td>1421.20</td>\n",
       "      <td>114015.0</td>\n",
       "      <td>True</td>\n",
       "      <td>2019</td>\n",
       "      <td>11</td>\n",
       "      <td>23</td>\n",
       "      <td>16</td>\n",
       "      <td>13</td>\n",
       "      <td>NaN</td>\n",
       "    </tr>\n",
       "    <tr>\n",
       "      <th>1255</th>\n",
       "      <td>21321653</td>\n",
       "      <td>38964</td>\n",
       "      <td>99948</td>\n",
       "      <td>428267******3039</td>\n",
       "      <td>2019-11-25 19:29:58.020040</td>\n",
       "      <td>184.61</td>\n",
       "      <td>222976.0</td>\n",
       "      <td>False</td>\n",
       "      <td>2019</td>\n",
       "      <td>11</td>\n",
       "      <td>25</td>\n",
       "      <td>19</td>\n",
       "      <td>29</td>\n",
       "      <td>NaN</td>\n",
       "    </tr>\n",
       "    <tr>\n",
       "      <th>1117</th>\n",
       "      <td>21321515</td>\n",
       "      <td>99298</td>\n",
       "      <td>99974</td>\n",
       "      <td>534520******8921</td>\n",
       "      <td>2019-11-27 10:22:14.348409</td>\n",
       "      <td>231.71</td>\n",
       "      <td>457078.0</td>\n",
       "      <td>False</td>\n",
       "      <td>2019</td>\n",
       "      <td>11</td>\n",
       "      <td>27</td>\n",
       "      <td>10</td>\n",
       "      <td>22</td>\n",
       "      <td>NaN</td>\n",
       "    </tr>\n",
       "  </tbody>\n",
       "</table>\n",
       "<p>3199 rows × 14 columns</p>\n",
       "</div>"
      ],
      "text/plain": [
       "      transaction_id  merchant_id  user_id       card_number  \\\n",
       "11          21320409        32954        6  428267******9019   \n",
       "3197        21323595        35930        7  544315******7773   \n",
       "3198        21323596        17348        8  650487******9884   \n",
       "3189        21323587        82477       19  525496******3638   \n",
       "390         21320788        64192      132  485464******8785   \n",
       "...              ...          ...      ...               ...   \n",
       "1475        21321873        15718    99863  516292******4125   \n",
       "893         21321291        29842    99875  544731******2488   \n",
       "1541        21321939        91972    99876  511588******6999   \n",
       "1255        21321653        38964    99948  428267******3039   \n",
       "1117        21321515        99298    99974  534520******8921   \n",
       "\n",
       "               transaction_date  transaction_amount  device_id  has_cbk  \\\n",
       "11   2019-12-01 20:44:48.109011              443.90   757451.0    False   \n",
       "3197 2019-11-01 01:29:45.799767              359.68        NaN    False   \n",
       "3198 2019-11-01 01:27:15.811098             2416.70        NaN    False   \n",
       "3189 2019-11-01 17:52:57.071163              165.14        NaN    False   \n",
       "390  2019-11-30 10:36:29.122871              714.56   568889.0    False   \n",
       "...                         ...                 ...        ...      ...   \n",
       "1475 2019-11-23 18:36:15.424406              466.64   223648.0    False   \n",
       "893  2019-11-28 18:26:43.061020              191.08   335107.0    False   \n",
       "1541 2019-11-23 16:13:33.495480             1421.20   114015.0     True   \n",
       "1255 2019-11-25 19:29:58.020040              184.61   222976.0    False   \n",
       "1117 2019-11-27 10:22:14.348409              231.71   457078.0    False   \n",
       "\n",
       "      transaction_year  transaction_month  transaction_day  transaction_hour  \\\n",
       "11                2019                 12                1                20   \n",
       "3197              2019                 11                1                 1   \n",
       "3198              2019                 11                1                 1   \n",
       "3189              2019                 11                1                17   \n",
       "390               2019                 11               30                10   \n",
       "...                ...                ...              ...               ...   \n",
       "1475              2019                 11               23                18   \n",
       "893               2019                 11               28                18   \n",
       "1541              2019                 11               23                16   \n",
       "1255              2019                 11               25                19   \n",
       "1117              2019                 11               27                10   \n",
       "\n",
       "      transaction_minute  time_diff  \n",
       "11                    44        NaN  \n",
       "3197                  29        NaN  \n",
       "3198                  27        NaN  \n",
       "3189                  52        NaN  \n",
       "390                   36        NaN  \n",
       "...                  ...        ...  \n",
       "1475                  36        NaN  \n",
       "893                   26        NaN  \n",
       "1541                  13        NaN  \n",
       "1255                  29        NaN  \n",
       "1117                  22        NaN  \n",
       "\n",
       "[3199 rows x 14 columns]"
      ]
     },
     "execution_count": 69,
     "metadata": {},
     "output_type": "execute_result"
    }
   ],
   "source": [
    "df"
   ]
  }
 ],
 "metadata": {
  "kernelspec": {
   "display_name": "cloudwalk",
   "language": "python",
   "name": "python3"
  },
  "language_info": {
   "codemirror_mode": {
    "name": "ipython",
    "version": 3
   },
   "file_extension": ".py",
   "mimetype": "text/x-python",
   "name": "python",
   "nbconvert_exporter": "python",
   "pygments_lexer": "ipython3",
   "version": "3.10.6"
  }
 },
 "nbformat": 4,
 "nbformat_minor": 2
}
